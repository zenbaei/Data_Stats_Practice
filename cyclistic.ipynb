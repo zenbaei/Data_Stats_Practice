{
 "cells": [
  {
   "cell_type": "code",
   "execution_count": 2,
   "metadata": {},
   "outputs": [],
   "source": [
    "import pandas as pd\n",
    "import numpy as np;\n",
    "from matplotlib import pyplot as plt;\n",
    "from datetime import datetime;\n",
    "import glob;"
   ]
  },
  {
   "cell_type": "markdown",
   "metadata": {},
   "source": [
    "# Pandas data transformations"
   ]
  },
  {
   "cell_type": "markdown",
   "metadata": {},
   "source": [
    "## Reading Multiple files into DataFrame"
   ]
  },
  {
   "cell_type": "code",
   "execution_count": 3,
   "metadata": {},
   "outputs": [
    {
     "data": {
      "text/html": [
       "<div>\n",
       "<style scoped>\n",
       "    .dataframe tbody tr th:only-of-type {\n",
       "        vertical-align: middle;\n",
       "    }\n",
       "\n",
       "    .dataframe tbody tr th {\n",
       "        vertical-align: top;\n",
       "    }\n",
       "\n",
       "    .dataframe thead th {\n",
       "        text-align: right;\n",
       "    }\n",
       "</style>\n",
       "<table border=\"1\" class=\"dataframe\">\n",
       "  <thead>\n",
       "    <tr style=\"text-align: right;\">\n",
       "      <th></th>\n",
       "      <th>ride_id</th>\n",
       "      <th>rideable_type</th>\n",
       "      <th>started_at</th>\n",
       "      <th>ended_at</th>\n",
       "      <th>start_station_name</th>\n",
       "      <th>start_station_id</th>\n",
       "      <th>end_station_name</th>\n",
       "      <th>end_station_id</th>\n",
       "      <th>start_lat</th>\n",
       "      <th>start_lng</th>\n",
       "      <th>end_lat</th>\n",
       "      <th>end_lng</th>\n",
       "      <th>member_casual</th>\n",
       "    </tr>\n",
       "  </thead>\n",
       "  <tbody>\n",
       "    <tr>\n",
       "      <th>0</th>\n",
       "      <td>9DC7B962304CBFD8</td>\n",
       "      <td>electric_bike</td>\n",
       "      <td>2021-09-28 16:07:10</td>\n",
       "      <td>2021-09-28 16:09:54</td>\n",
       "      <td>NaN</td>\n",
       "      <td>NaN</td>\n",
       "      <td>NaN</td>\n",
       "      <td>NaN</td>\n",
       "      <td>41.890000</td>\n",
       "      <td>-87.680000</td>\n",
       "      <td>41.89000</td>\n",
       "      <td>-87.670000</td>\n",
       "      <td>casual</td>\n",
       "    </tr>\n",
       "    <tr>\n",
       "      <th>1</th>\n",
       "      <td>F930E2C6872D6B32</td>\n",
       "      <td>electric_bike</td>\n",
       "      <td>2021-09-28 14:24:51</td>\n",
       "      <td>2021-09-28 14:40:05</td>\n",
       "      <td>NaN</td>\n",
       "      <td>NaN</td>\n",
       "      <td>NaN</td>\n",
       "      <td>NaN</td>\n",
       "      <td>41.940000</td>\n",
       "      <td>-87.640000</td>\n",
       "      <td>41.98000</td>\n",
       "      <td>-87.670000</td>\n",
       "      <td>casual</td>\n",
       "    </tr>\n",
       "    <tr>\n",
       "      <th>2</th>\n",
       "      <td>6EF72137900BB910</td>\n",
       "      <td>electric_bike</td>\n",
       "      <td>2021-09-28 00:20:16</td>\n",
       "      <td>2021-09-28 00:23:57</td>\n",
       "      <td>NaN</td>\n",
       "      <td>NaN</td>\n",
       "      <td>NaN</td>\n",
       "      <td>NaN</td>\n",
       "      <td>41.810000</td>\n",
       "      <td>-87.720000</td>\n",
       "      <td>41.80000</td>\n",
       "      <td>-87.720000</td>\n",
       "      <td>casual</td>\n",
       "    </tr>\n",
       "    <tr>\n",
       "      <th>3</th>\n",
       "      <td>78D1DE133B3DBF55</td>\n",
       "      <td>electric_bike</td>\n",
       "      <td>2021-09-28 14:51:17</td>\n",
       "      <td>2021-09-28 15:00:06</td>\n",
       "      <td>NaN</td>\n",
       "      <td>NaN</td>\n",
       "      <td>NaN</td>\n",
       "      <td>NaN</td>\n",
       "      <td>41.800000</td>\n",
       "      <td>-87.720000</td>\n",
       "      <td>41.81000</td>\n",
       "      <td>-87.720000</td>\n",
       "      <td>casual</td>\n",
       "    </tr>\n",
       "    <tr>\n",
       "      <th>4</th>\n",
       "      <td>E03D4ACDCAEF6E00</td>\n",
       "      <td>electric_bike</td>\n",
       "      <td>2021-09-28 09:53:12</td>\n",
       "      <td>2021-09-28 10:03:44</td>\n",
       "      <td>NaN</td>\n",
       "      <td>NaN</td>\n",
       "      <td>NaN</td>\n",
       "      <td>NaN</td>\n",
       "      <td>41.880000</td>\n",
       "      <td>-87.740000</td>\n",
       "      <td>41.88000</td>\n",
       "      <td>-87.710000</td>\n",
       "      <td>casual</td>\n",
       "    </tr>\n",
       "    <tr>\n",
       "      <th>...</th>\n",
       "      <td>...</td>\n",
       "      <td>...</td>\n",
       "      <td>...</td>\n",
       "      <td>...</td>\n",
       "      <td>...</td>\n",
       "      <td>...</td>\n",
       "      <td>...</td>\n",
       "      <td>...</td>\n",
       "      <td>...</td>\n",
       "      <td>...</td>\n",
       "      <td>...</td>\n",
       "      <td>...</td>\n",
       "      <td>...</td>\n",
       "    </tr>\n",
       "    <tr>\n",
       "      <th>531628</th>\n",
       "      <td>EF56D7D1D612AC11</td>\n",
       "      <td>electric_bike</td>\n",
       "      <td>2021-05-20 16:32:14</td>\n",
       "      <td>2021-05-20 16:35:39</td>\n",
       "      <td>Blackstone Ave &amp; Hyde Park Blvd</td>\n",
       "      <td>13398</td>\n",
       "      <td>NaN</td>\n",
       "      <td>NaN</td>\n",
       "      <td>41.802581</td>\n",
       "      <td>-87.590230</td>\n",
       "      <td>41.80000</td>\n",
       "      <td>-87.600000</td>\n",
       "      <td>member</td>\n",
       "    </tr>\n",
       "    <tr>\n",
       "      <th>531629</th>\n",
       "      <td>745191CB9F21DE3C</td>\n",
       "      <td>classic_bike</td>\n",
       "      <td>2021-05-29 16:40:37</td>\n",
       "      <td>2021-05-29 17:22:37</td>\n",
       "      <td>Sheridan Rd &amp; Montrose Ave</td>\n",
       "      <td>TA1307000107</td>\n",
       "      <td>Michigan Ave &amp; Oak St</td>\n",
       "      <td>13042</td>\n",
       "      <td>41.961670</td>\n",
       "      <td>-87.654640</td>\n",
       "      <td>41.90096</td>\n",
       "      <td>-87.623777</td>\n",
       "      <td>casual</td>\n",
       "    </tr>\n",
       "    <tr>\n",
       "      <th>531630</th>\n",
       "      <td>428575BAA5356BFF</td>\n",
       "      <td>electric_bike</td>\n",
       "      <td>2021-05-31 14:24:54</td>\n",
       "      <td>2021-05-31 14:31:38</td>\n",
       "      <td>Sheridan Rd &amp; Montrose Ave</td>\n",
       "      <td>TA1307000107</td>\n",
       "      <td>NaN</td>\n",
       "      <td>NaN</td>\n",
       "      <td>41.961525</td>\n",
       "      <td>-87.654651</td>\n",
       "      <td>41.95000</td>\n",
       "      <td>-87.650000</td>\n",
       "      <td>member</td>\n",
       "    </tr>\n",
       "    <tr>\n",
       "      <th>531631</th>\n",
       "      <td>FC8A4A7AB7249662</td>\n",
       "      <td>electric_bike</td>\n",
       "      <td>2021-05-25 16:01:33</td>\n",
       "      <td>2021-05-25 16:07:37</td>\n",
       "      <td>Sheridan Rd &amp; Montrose Ave</td>\n",
       "      <td>TA1307000107</td>\n",
       "      <td>NaN</td>\n",
       "      <td>NaN</td>\n",
       "      <td>41.961654</td>\n",
       "      <td>-87.654721</td>\n",
       "      <td>41.98000</td>\n",
       "      <td>-87.660000</td>\n",
       "      <td>member</td>\n",
       "    </tr>\n",
       "    <tr>\n",
       "      <th>531632</th>\n",
       "      <td>E873B8AA3EE84678</td>\n",
       "      <td>docked_bike</td>\n",
       "      <td>2021-05-12 12:22:14</td>\n",
       "      <td>2021-05-12 12:30:27</td>\n",
       "      <td>Sheridan Rd &amp; Montrose Ave</td>\n",
       "      <td>TA1307000107</td>\n",
       "      <td>Clark St &amp; Grace St</td>\n",
       "      <td>TA1307000127</td>\n",
       "      <td>41.961670</td>\n",
       "      <td>-87.654640</td>\n",
       "      <td>41.95078</td>\n",
       "      <td>-87.659172</td>\n",
       "      <td>casual</td>\n",
       "    </tr>\n",
       "  </tbody>\n",
       "</table>\n",
       "<p>5595063 rows × 13 columns</p>\n",
       "</div>"
      ],
      "text/plain": [
       "                 ride_id  rideable_type           started_at  \\\n",
       "0       9DC7B962304CBFD8  electric_bike  2021-09-28 16:07:10   \n",
       "1       F930E2C6872D6B32  electric_bike  2021-09-28 14:24:51   \n",
       "2       6EF72137900BB910  electric_bike  2021-09-28 00:20:16   \n",
       "3       78D1DE133B3DBF55  electric_bike  2021-09-28 14:51:17   \n",
       "4       E03D4ACDCAEF6E00  electric_bike  2021-09-28 09:53:12   \n",
       "...                  ...            ...                  ...   \n",
       "531628  EF56D7D1D612AC11  electric_bike  2021-05-20 16:32:14   \n",
       "531629  745191CB9F21DE3C   classic_bike  2021-05-29 16:40:37   \n",
       "531630  428575BAA5356BFF  electric_bike  2021-05-31 14:24:54   \n",
       "531631  FC8A4A7AB7249662  electric_bike  2021-05-25 16:01:33   \n",
       "531632  E873B8AA3EE84678    docked_bike  2021-05-12 12:22:14   \n",
       "\n",
       "                   ended_at               start_station_name start_station_id  \\\n",
       "0       2021-09-28 16:09:54                              NaN              NaN   \n",
       "1       2021-09-28 14:40:05                              NaN              NaN   \n",
       "2       2021-09-28 00:23:57                              NaN              NaN   \n",
       "3       2021-09-28 15:00:06                              NaN              NaN   \n",
       "4       2021-09-28 10:03:44                              NaN              NaN   \n",
       "...                     ...                              ...              ...   \n",
       "531628  2021-05-20 16:35:39  Blackstone Ave & Hyde Park Blvd            13398   \n",
       "531629  2021-05-29 17:22:37       Sheridan Rd & Montrose Ave     TA1307000107   \n",
       "531630  2021-05-31 14:31:38       Sheridan Rd & Montrose Ave     TA1307000107   \n",
       "531631  2021-05-25 16:07:37       Sheridan Rd & Montrose Ave     TA1307000107   \n",
       "531632  2021-05-12 12:30:27       Sheridan Rd & Montrose Ave     TA1307000107   \n",
       "\n",
       "             end_station_name end_station_id  start_lat  start_lng   end_lat  \\\n",
       "0                         NaN            NaN  41.890000 -87.680000  41.89000   \n",
       "1                         NaN            NaN  41.940000 -87.640000  41.98000   \n",
       "2                         NaN            NaN  41.810000 -87.720000  41.80000   \n",
       "3                         NaN            NaN  41.800000 -87.720000  41.81000   \n",
       "4                         NaN            NaN  41.880000 -87.740000  41.88000   \n",
       "...                       ...            ...        ...        ...       ...   \n",
       "531628                    NaN            NaN  41.802581 -87.590230  41.80000   \n",
       "531629  Michigan Ave & Oak St          13042  41.961670 -87.654640  41.90096   \n",
       "531630                    NaN            NaN  41.961525 -87.654651  41.95000   \n",
       "531631                    NaN            NaN  41.961654 -87.654721  41.98000   \n",
       "531632    Clark St & Grace St   TA1307000127  41.961670 -87.654640  41.95078   \n",
       "\n",
       "          end_lng member_casual  \n",
       "0      -87.670000        casual  \n",
       "1      -87.670000        casual  \n",
       "2      -87.720000        casual  \n",
       "3      -87.720000        casual  \n",
       "4      -87.710000        casual  \n",
       "...           ...           ...  \n",
       "531628 -87.600000        member  \n",
       "531629 -87.623777        casual  \n",
       "531630 -87.650000        member  \n",
       "531631 -87.660000        member  \n",
       "531632 -87.659172        casual  \n",
       "\n",
       "[5595063 rows x 13 columns]"
      ]
     },
     "execution_count": 3,
     "metadata": {},
     "output_type": "execute_result"
    }
   ],
   "source": [
    "'''\n",
    "df = pd.concat(map(pd.read_csv, glob.glob('./data/cyclistic/*.csv')))\n",
    "df\n",
    "'''"
   ]
  },
  {
   "cell_type": "code",
   "execution_count": 82,
   "metadata": {},
   "outputs": [
    {
     "data": {
      "text/html": [
       "<div>\n",
       "<style scoped>\n",
       "    .dataframe tbody tr th:only-of-type {\n",
       "        vertical-align: middle;\n",
       "    }\n",
       "\n",
       "    .dataframe tbody tr th {\n",
       "        vertical-align: top;\n",
       "    }\n",
       "\n",
       "    .dataframe thead th {\n",
       "        text-align: right;\n",
       "    }\n",
       "</style>\n",
       "<table border=\"1\" class=\"dataframe\">\n",
       "  <thead>\n",
       "    <tr style=\"text-align: right;\">\n",
       "      <th></th>\n",
       "      <th>ride_id</th>\n",
       "      <th>rideable_type</th>\n",
       "      <th>started_at</th>\n",
       "      <th>ended_at</th>\n",
       "      <th>start_station_name</th>\n",
       "      <th>start_station_id</th>\n",
       "      <th>end_station_name</th>\n",
       "      <th>end_station_id</th>\n",
       "      <th>start_lat</th>\n",
       "      <th>start_lng</th>\n",
       "      <th>end_lat</th>\n",
       "      <th>end_lng</th>\n",
       "      <th>member_casual</th>\n",
       "      <th>ride_duration</th>\n",
       "      <th>distance_in_km</th>\n",
       "      <th>ride_day</th>\n",
       "    </tr>\n",
       "  </thead>\n",
       "  <tbody>\n",
       "    <tr>\n",
       "      <th>0</th>\n",
       "      <td>9DC7B962304CBFD8</td>\n",
       "      <td>electric_bike</td>\n",
       "      <td>2021-09-28 16:07:10</td>\n",
       "      <td>2021-09-28 16:09:54</td>\n",
       "      <td>NaN</td>\n",
       "      <td>NaN</td>\n",
       "      <td>NaN</td>\n",
       "      <td>NaN</td>\n",
       "      <td>41.89</td>\n",
       "      <td>-87.68</td>\n",
       "      <td>41.89</td>\n",
       "      <td>-87.67</td>\n",
       "      <td>casual</td>\n",
       "      <td>0 days 00:02:44</td>\n",
       "      <td>2.726489</td>\n",
       "      <td>Tuesday</td>\n",
       "    </tr>\n",
       "    <tr>\n",
       "      <th>1</th>\n",
       "      <td>F930E2C6872D6B32</td>\n",
       "      <td>electric_bike</td>\n",
       "      <td>2021-09-28 14:24:51</td>\n",
       "      <td>2021-09-28 14:40:05</td>\n",
       "      <td>NaN</td>\n",
       "      <td>NaN</td>\n",
       "      <td>NaN</td>\n",
       "      <td>NaN</td>\n",
       "      <td>41.94</td>\n",
       "      <td>-87.64</td>\n",
       "      <td>41.98</td>\n",
       "      <td>-87.67</td>\n",
       "      <td>casual</td>\n",
       "      <td>0 days 00:15:14</td>\n",
       "      <td>8.839817</td>\n",
       "      <td>Tuesday</td>\n",
       "    </tr>\n",
       "    <tr>\n",
       "      <th>2</th>\n",
       "      <td>6EF72137900BB910</td>\n",
       "      <td>electric_bike</td>\n",
       "      <td>2021-09-28 00:20:16</td>\n",
       "      <td>2021-09-28 00:23:57</td>\n",
       "      <td>NaN</td>\n",
       "      <td>NaN</td>\n",
       "      <td>NaN</td>\n",
       "      <td>NaN</td>\n",
       "      <td>41.81</td>\n",
       "      <td>-87.72</td>\n",
       "      <td>41.80</td>\n",
       "      <td>-87.72</td>\n",
       "      <td>casual</td>\n",
       "      <td>0 days 00:03:41</td>\n",
       "      <td>7.819151</td>\n",
       "      <td>Tuesday</td>\n",
       "    </tr>\n",
       "    <tr>\n",
       "      <th>3</th>\n",
       "      <td>78D1DE133B3DBF55</td>\n",
       "      <td>electric_bike</td>\n",
       "      <td>2021-09-28 14:51:17</td>\n",
       "      <td>2021-09-28 15:00:06</td>\n",
       "      <td>NaN</td>\n",
       "      <td>NaN</td>\n",
       "      <td>NaN</td>\n",
       "      <td>NaN</td>\n",
       "      <td>41.80</td>\n",
       "      <td>-87.72</td>\n",
       "      <td>41.81</td>\n",
       "      <td>-87.72</td>\n",
       "      <td>casual</td>\n",
       "      <td>0 days 00:08:49</td>\n",
       "      <td>8.924349</td>\n",
       "      <td>Tuesday</td>\n",
       "    </tr>\n",
       "    <tr>\n",
       "      <th>4</th>\n",
       "      <td>E03D4ACDCAEF6E00</td>\n",
       "      <td>electric_bike</td>\n",
       "      <td>2021-09-28 09:53:12</td>\n",
       "      <td>2021-09-28 10:03:44</td>\n",
       "      <td>NaN</td>\n",
       "      <td>NaN</td>\n",
       "      <td>NaN</td>\n",
       "      <td>NaN</td>\n",
       "      <td>41.88</td>\n",
       "      <td>-87.74</td>\n",
       "      <td>41.88</td>\n",
       "      <td>-87.71</td>\n",
       "      <td>casual</td>\n",
       "      <td>0 days 00:10:32</td>\n",
       "      <td>2.490187</td>\n",
       "      <td>Tuesday</td>\n",
       "    </tr>\n",
       "  </tbody>\n",
       "</table>\n",
       "</div>"
      ],
      "text/plain": [
       "            ride_id  rideable_type           started_at             ended_at  \\\n",
       "0  9DC7B962304CBFD8  electric_bike  2021-09-28 16:07:10  2021-09-28 16:09:54   \n",
       "1  F930E2C6872D6B32  electric_bike  2021-09-28 14:24:51  2021-09-28 14:40:05   \n",
       "2  6EF72137900BB910  electric_bike  2021-09-28 00:20:16  2021-09-28 00:23:57   \n",
       "3  78D1DE133B3DBF55  electric_bike  2021-09-28 14:51:17  2021-09-28 15:00:06   \n",
       "4  E03D4ACDCAEF6E00  electric_bike  2021-09-28 09:53:12  2021-09-28 10:03:44   \n",
       "\n",
       "  start_station_name start_station_id end_station_name end_station_id  \\\n",
       "0                NaN              NaN              NaN            NaN   \n",
       "1                NaN              NaN              NaN            NaN   \n",
       "2                NaN              NaN              NaN            NaN   \n",
       "3                NaN              NaN              NaN            NaN   \n",
       "4                NaN              NaN              NaN            NaN   \n",
       "\n",
       "   start_lat  start_lng  end_lat  end_lng member_casual    ride_duration  \\\n",
       "0      41.89     -87.68    41.89   -87.67        casual  0 days 00:02:44   \n",
       "1      41.94     -87.64    41.98   -87.67        casual  0 days 00:15:14   \n",
       "2      41.81     -87.72    41.80   -87.72        casual  0 days 00:03:41   \n",
       "3      41.80     -87.72    41.81   -87.72        casual  0 days 00:08:49   \n",
       "4      41.88     -87.74    41.88   -87.71        casual  0 days 00:10:32   \n",
       "\n",
       "   distance_in_km ride_day  \n",
       "0        2.726489  Tuesday  \n",
       "1        8.839817  Tuesday  \n",
       "2        7.819151  Tuesday  \n",
       "3        8.924349  Tuesday  \n",
       "4        2.490187  Tuesday  "
      ]
     },
     "execution_count": 82,
     "metadata": {},
     "output_type": "execute_result"
    }
   ],
   "source": [
    "# read the new file\n",
    "df = pd.read_csv('./data/cyclistic/combined_file_with_calculations.csv', index_col='Unnamed: 0')\n",
    "df.head()"
   ]
  },
  {
   "cell_type": "code",
   "execution_count": 79,
   "metadata": {},
   "outputs": [
    {
     "name": "stdout",
     "output_type": "stream",
     "text": [
      "<class 'pandas.core.frame.DataFrame'>\n",
      "RangeIndex: 5595063 entries, 0 to 5595062\n",
      "Data columns (total 17 columns):\n",
      " #   Column              Dtype  \n",
      "---  ------              -----  \n",
      " 0   Unnamed: 0          int64  \n",
      " 1   ride_id             object \n",
      " 2   rideable_type       object \n",
      " 3   started_at          object \n",
      " 4   ended_at            object \n",
      " 5   start_station_name  object \n",
      " 6   start_station_id    object \n",
      " 7   end_station_name    object \n",
      " 8   end_station_id      object \n",
      " 9   start_lat           float64\n",
      " 10  start_lng           float64\n",
      " 11  end_lat             float64\n",
      " 12  end_lng             float64\n",
      " 13  member_casual       object \n",
      " 14  ride_duration       object \n",
      " 15  distance_in_km      float64\n",
      " 16  ride_day            object \n",
      "dtypes: float64(5), int64(1), object(11)\n",
      "memory usage: 725.7+ MB\n"
     ]
    }
   ],
   "source": [
    "df.info()"
   ]
  },
  {
   "cell_type": "markdown",
   "metadata": {},
   "source": [
    "## Convert String to Date Time"
   ]
  },
  {
   "cell_type": "markdown",
   "metadata": {},
   "source": [
    "## Select first row of a column"
   ]
  },
  {
   "cell_type": "code",
   "execution_count": 5,
   "metadata": {},
   "outputs": [],
   "source": [
    "# Convert string to date time \n",
    "# %Y 4 digit year, 2 digits -> %y %m %d, time -> %H %M %S\n",
    "format = '%Y-%m-%d %H:%M:%S'\n",
    "out = datetime.strptime(df['ended_at'].iloc[0], format) - datetime.strptime(df['started_at'].iloc[0], format)"
   ]
  },
  {
   "cell_type": "markdown",
   "metadata": {},
   "source": [
    "## Convert String to datetime using pandas"
   ]
  },
  {
   "cell_type": "code",
   "execution_count": 6,
   "metadata": {},
   "outputs": [],
   "source": [
    "df['ride_duration_in_sec'] = pd.to_datetime(df['ended_at']) - pd.to_datetime(df['started_at'])"
   ]
  },
  {
   "cell_type": "code",
   "execution_count": 7,
   "metadata": {},
   "outputs": [
    {
     "data": {
      "text/plain": [
       "0   0 days 00:02:44\n",
       "1   0 days 00:15:14\n",
       "2   0 days 00:03:41\n",
       "3   0 days 00:08:49\n",
       "4   0 days 00:10:32\n",
       "Name: ride_duration_in_sec, dtype: timedelta64[ns]"
      ]
     },
     "execution_count": 7,
     "metadata": {},
     "output_type": "execute_result"
    }
   ],
   "source": [
    "df['ride_duration_in_sec'].head()"
   ]
  },
  {
   "cell_type": "markdown",
   "metadata": {},
   "source": [
    "## Fill na or NaN values"
   ]
  },
  {
   "cell_type": "code",
   "execution_count": 8,
   "metadata": {},
   "outputs": [
    {
     "data": {
      "text/plain": [
       "0"
      ]
     },
     "execution_count": 8,
     "metadata": {},
     "output_type": "execute_result"
    }
   ],
   "source": [
    "df['start_lat'].fillna(0, inplace=True)\n",
    "df['end_lat'].fillna(0, inplace=True)\n",
    "df['start_lng'].fillna(0, inplace=True)\n",
    "df['end_lng'].fillna(0, inplace=True)\n",
    "\n",
    "df['start_lat'].isna().sum()"
   ]
  },
  {
   "cell_type": "markdown",
   "metadata": {},
   "source": [
    "## Get column index by its name/label"
   ]
  },
  {
   "cell_type": "code",
   "execution_count": 9,
   "metadata": {},
   "outputs": [
    {
     "data": {
      "text/plain": [
       "0    41.89\n",
       "Name: start_lat, dtype: float64"
      ]
     },
     "execution_count": 9,
     "metadata": {},
     "output_type": "execute_result"
    }
   ],
   "source": [
    "df.iloc[0:1, df.columns.get_loc('start_lat')]"
   ]
  },
  {
   "cell_type": "markdown",
   "metadata": {},
   "source": [
    "## Add new column"
   ]
  },
  {
   "cell_type": "code",
   "execution_count": 10,
   "metadata": {},
   "outputs": [
    {
     "name": "stdout",
     "output_type": "stream",
     "text": [
      "<class 'pandas.core.frame.DataFrame'>\n",
      "Index: 5595063 entries, 0 to 531632\n",
      "Data columns (total 16 columns):\n",
      " #   Column                Dtype          \n",
      "---  ------                -----          \n",
      " 0   ride_id               object         \n",
      " 1   rideable_type         object         \n",
      " 2   started_at            object         \n",
      " 3   ended_at              object         \n",
      " 4   start_station_name    object         \n",
      " 5   start_station_id      object         \n",
      " 6   end_station_name      object         \n",
      " 7   end_station_id        object         \n",
      " 8   start_lat             float64        \n",
      " 9   start_lng             float64        \n",
      " 10  end_lat               float64        \n",
      " 11  end_lng               float64        \n",
      " 12  member_casual         object         \n",
      " 13  ride_duration_in_sec  timedelta64[ns]\n",
      " 14  distance_in_km        float64        \n",
      " 15  test_column           int64          \n",
      "dtypes: float64(5), int64(1), object(9), timedelta64[ns](1)\n",
      "memory usage: 725.7+ MB\n"
     ]
    }
   ],
   "source": [
    "df = df.assign(distance_in_km = 0.0)\n",
    "df.loc[:,'test_column'] = 0\n",
    "df.info()"
   ]
  },
  {
   "cell_type": "markdown",
   "metadata": {},
   "source": [
    "## Drop Column"
   ]
  },
  {
   "cell_type": "code",
   "execution_count": 11,
   "metadata": {},
   "outputs": [
    {
     "data": {
      "text/plain": [
       "Index(['ride_id', 'rideable_type', 'started_at', 'ended_at',\n",
       "       'start_station_name', 'start_station_id', 'end_station_name',\n",
       "       'end_station_id', 'start_lat', 'start_lng', 'end_lat', 'end_lng',\n",
       "       'member_casual', 'ride_duration_in_sec', 'distance_in_km'],\n",
       "      dtype='object')"
      ]
     },
     "execution_count": 11,
     "metadata": {},
     "output_type": "execute_result"
    }
   ],
   "source": [
    "df.drop(['test_column'], inplace=True, axis=1)\n",
    "df.columns"
   ]
  },
  {
   "cell_type": "markdown",
   "metadata": {},
   "source": [
    "## Insert in new column with loc"
   ]
  },
  {
   "cell_type": "code",
   "execution_count": 12,
   "metadata": {},
   "outputs": [
    {
     "data": {
      "text/plain": [
       "0    0.829933\n",
       "1    5.091652\n",
       "2    1.110695\n",
       "3    1.110695\n",
       "4    2.490187\n",
       "5    0.000000\n",
       "Name: distance_in_km, dtype: float64"
      ]
     },
     "execution_count": 12,
     "metadata": {},
     "output_type": "execute_result"
    }
   ],
   "source": [
    "from geopy.distance import geodesic;\n",
    "\n",
    "for i in range(0, 5, 1):\n",
    "    origin = (df.iloc[i, 8], df.iloc[i, 9])\n",
    "    destination = (df.iloc[i, 10], df.iloc[i, 11])\n",
    "    df.loc[i, 'distance_in_km'] =  geodesic(origin, destination).km  # (latitude, longitude) \n",
    "\n",
    "df['distance_in_km'].head(6)"
   ]
  },
  {
   "cell_type": "markdown",
   "metadata": {},
   "source": [
    "## Calculate Distance from lat and lng with loop, very slow"
   ]
  },
  {
   "cell_type": "code",
   "execution_count": 13,
   "metadata": {},
   "outputs": [
    {
     "data": {
      "text/plain": [
       "'\\nfor i in range(len(df)) :\\n    origin = (df.iloc[i, 8], df.iloc[i, 9])\\n    destination = (df.iloc[i, 10], df.iloc[i, 11])\\n    df.iloc[i, 14] =  geodesic(origin, destination).km  # (latitude, longitude) \\n\\nfor index, row in df.iterrows(): #very slow as well\\n'"
      ]
     },
     "execution_count": 13,
     "metadata": {},
     "output_type": "execute_result"
    }
   ],
   "source": [
    "'''\n",
    "for i in range(len(df)) :\n",
    "    origin = (df.iloc[i, 8], df.iloc[i, 9])\n",
    "    destination = (df.iloc[i, 10], df.iloc[i, 11])\n",
    "    df.iloc[i, 14] =  geodesic(origin, destination).km  # (latitude, longitude) \n",
    "\n",
    "for index, row in df.iterrows(): #very slow as well\n",
    "'''"
   ]
  },
  {
   "cell_type": "code",
   "execution_count": 14,
   "metadata": {},
   "outputs": [],
   "source": [
    "'''\n",
    "def distance (row):\n",
    "    origin = (row['start_lat'], row['start_lng'])\n",
    "    distination = (row['end_lat'], row['end_lng'])\n",
    "    return geodesic(origin, destination).km\n",
    "\n",
    "df['distance_in_km'] = df.apply(lambda row : distance(row), axis = 1)\n",
    "'''"
   ]
  },
  {
   "cell_type": "code",
   "execution_count": 15,
   "metadata": {},
   "outputs": [],
   "source": [
    "df.rename(columns={'ride_duration_in_sec': 'ride_duration'}, inplace=True)"
   ]
  },
  {
   "cell_type": "code",
   "execution_count": 16,
   "metadata": {},
   "outputs": [
    {
     "data": {
      "text/html": [
       "<div>\n",
       "<style scoped>\n",
       "    .dataframe tbody tr th:only-of-type {\n",
       "        vertical-align: middle;\n",
       "    }\n",
       "\n",
       "    .dataframe tbody tr th {\n",
       "        vertical-align: top;\n",
       "    }\n",
       "\n",
       "    .dataframe thead th {\n",
       "        text-align: right;\n",
       "    }\n",
       "</style>\n",
       "<table border=\"1\" class=\"dataframe\">\n",
       "  <thead>\n",
       "    <tr style=\"text-align: right;\">\n",
       "      <th></th>\n",
       "      <th>ride_id</th>\n",
       "      <th>rideable_type</th>\n",
       "      <th>started_at</th>\n",
       "      <th>ended_at</th>\n",
       "      <th>start_station_name</th>\n",
       "      <th>start_station_id</th>\n",
       "      <th>end_station_name</th>\n",
       "      <th>end_station_id</th>\n",
       "      <th>start_lat</th>\n",
       "      <th>start_lng</th>\n",
       "      <th>end_lat</th>\n",
       "      <th>end_lng</th>\n",
       "      <th>member_casual</th>\n",
       "      <th>ride_duration</th>\n",
       "      <th>distance_in_km</th>\n",
       "    </tr>\n",
       "  </thead>\n",
       "  <tbody>\n",
       "    <tr>\n",
       "      <th>0</th>\n",
       "      <td>9DC7B962304CBFD8</td>\n",
       "      <td>electric_bike</td>\n",
       "      <td>2021-09-28 16:07:10</td>\n",
       "      <td>2021-09-28 16:09:54</td>\n",
       "      <td>NaN</td>\n",
       "      <td>NaN</td>\n",
       "      <td>NaN</td>\n",
       "      <td>NaN</td>\n",
       "      <td>41.89</td>\n",
       "      <td>-87.68</td>\n",
       "      <td>41.89</td>\n",
       "      <td>-87.67</td>\n",
       "      <td>casual</td>\n",
       "      <td>0 days 00:02:44</td>\n",
       "      <td>2.726489</td>\n",
       "    </tr>\n",
       "    <tr>\n",
       "      <th>1</th>\n",
       "      <td>F930E2C6872D6B32</td>\n",
       "      <td>electric_bike</td>\n",
       "      <td>2021-09-28 14:24:51</td>\n",
       "      <td>2021-09-28 14:40:05</td>\n",
       "      <td>NaN</td>\n",
       "      <td>NaN</td>\n",
       "      <td>NaN</td>\n",
       "      <td>NaN</td>\n",
       "      <td>41.94</td>\n",
       "      <td>-87.64</td>\n",
       "      <td>41.98</td>\n",
       "      <td>-87.67</td>\n",
       "      <td>casual</td>\n",
       "      <td>0 days 00:15:14</td>\n",
       "      <td>8.839817</td>\n",
       "    </tr>\n",
       "    <tr>\n",
       "      <th>2</th>\n",
       "      <td>6EF72137900BB910</td>\n",
       "      <td>electric_bike</td>\n",
       "      <td>2021-09-28 00:20:16</td>\n",
       "      <td>2021-09-28 00:23:57</td>\n",
       "      <td>NaN</td>\n",
       "      <td>NaN</td>\n",
       "      <td>NaN</td>\n",
       "      <td>NaN</td>\n",
       "      <td>41.81</td>\n",
       "      <td>-87.72</td>\n",
       "      <td>41.80</td>\n",
       "      <td>-87.72</td>\n",
       "      <td>casual</td>\n",
       "      <td>0 days 00:03:41</td>\n",
       "      <td>7.819151</td>\n",
       "    </tr>\n",
       "    <tr>\n",
       "      <th>3</th>\n",
       "      <td>78D1DE133B3DBF55</td>\n",
       "      <td>electric_bike</td>\n",
       "      <td>2021-09-28 14:51:17</td>\n",
       "      <td>2021-09-28 15:00:06</td>\n",
       "      <td>NaN</td>\n",
       "      <td>NaN</td>\n",
       "      <td>NaN</td>\n",
       "      <td>NaN</td>\n",
       "      <td>41.80</td>\n",
       "      <td>-87.72</td>\n",
       "      <td>41.81</td>\n",
       "      <td>-87.72</td>\n",
       "      <td>casual</td>\n",
       "      <td>0 days 00:08:49</td>\n",
       "      <td>8.924349</td>\n",
       "    </tr>\n",
       "    <tr>\n",
       "      <th>4</th>\n",
       "      <td>E03D4ACDCAEF6E00</td>\n",
       "      <td>electric_bike</td>\n",
       "      <td>2021-09-28 09:53:12</td>\n",
       "      <td>2021-09-28 10:03:44</td>\n",
       "      <td>NaN</td>\n",
       "      <td>NaN</td>\n",
       "      <td>NaN</td>\n",
       "      <td>NaN</td>\n",
       "      <td>41.88</td>\n",
       "      <td>-87.74</td>\n",
       "      <td>41.88</td>\n",
       "      <td>-87.71</td>\n",
       "      <td>casual</td>\n",
       "      <td>0 days 00:10:32</td>\n",
       "      <td>2.490187</td>\n",
       "    </tr>\n",
       "  </tbody>\n",
       "</table>\n",
       "</div>"
      ],
      "text/plain": [
       "            ride_id  rideable_type           started_at             ended_at  \\\n",
       "0  9DC7B962304CBFD8  electric_bike  2021-09-28 16:07:10  2021-09-28 16:09:54   \n",
       "1  F930E2C6872D6B32  electric_bike  2021-09-28 14:24:51  2021-09-28 14:40:05   \n",
       "2  6EF72137900BB910  electric_bike  2021-09-28 00:20:16  2021-09-28 00:23:57   \n",
       "3  78D1DE133B3DBF55  electric_bike  2021-09-28 14:51:17  2021-09-28 15:00:06   \n",
       "4  E03D4ACDCAEF6E00  electric_bike  2021-09-28 09:53:12  2021-09-28 10:03:44   \n",
       "\n",
       "  start_station_name start_station_id end_station_name end_station_id  \\\n",
       "0                NaN              NaN              NaN            NaN   \n",
       "1                NaN              NaN              NaN            NaN   \n",
       "2                NaN              NaN              NaN            NaN   \n",
       "3                NaN              NaN              NaN            NaN   \n",
       "4                NaN              NaN              NaN            NaN   \n",
       "\n",
       "   start_lat  start_lng  end_lat  end_lng member_casual   ride_duration  \\\n",
       "0      41.89     -87.68    41.89   -87.67        casual 0 days 00:02:44   \n",
       "1      41.94     -87.64    41.98   -87.67        casual 0 days 00:15:14   \n",
       "2      41.81     -87.72    41.80   -87.72        casual 0 days 00:03:41   \n",
       "3      41.80     -87.72    41.81   -87.72        casual 0 days 00:08:49   \n",
       "4      41.88     -87.74    41.88   -87.71        casual 0 days 00:10:32   \n",
       "\n",
       "   distance_in_km  \n",
       "0        2.726489  \n",
       "1        8.839817  \n",
       "2        7.819151  \n",
       "3        8.924349  \n",
       "4        2.490187  "
      ]
     },
     "execution_count": 16,
     "metadata": {},
     "output_type": "execute_result"
    }
   ],
   "source": [
    "df.head()"
   ]
  },
  {
   "cell_type": "markdown",
   "metadata": {},
   "source": [
    "## Save new dataframe to file"
   ]
  },
  {
   "cell_type": "code",
   "execution_count": 77,
   "metadata": {},
   "outputs": [],
   "source": [
    "#df.to_csv('./data/cyclistic/combined_file_with_calculations.csv')"
   ]
  },
  {
   "cell_type": "markdown",
   "metadata": {},
   "source": [
    "# Start doing aggreagations on Cyclistic data"
   ]
  },
  {
   "cell_type": "markdown",
   "metadata": {},
   "source": [
    "## Ride durations for each rider type"
   ]
  },
  {
   "cell_type": "code",
   "execution_count": 17,
   "metadata": {},
   "outputs": [
    {
     "data": {
      "text/plain": [
       "member_casual\n",
       "casual   0 days 00:32:00.056830650\n",
       "member   0 days 00:13:37.970452287\n",
       "Name: ride_duration, dtype: timedelta64[ns]"
      ]
     },
     "execution_count": 17,
     "metadata": {},
     "output_type": "execute_result"
    }
   ],
   "source": [
    "df.groupby('member_casual')['ride_duration'].mean()\n",
    "# average riding time for member is 14 min while for casual is 32 min"
   ]
  },
  {
   "cell_type": "code",
   "execution_count": 76,
   "metadata": {},
   "outputs": [
    {
     "data": {
      "text/plain": [
       "<Axes: xlabel='member_casual', ylabel=\"['0 day']\">"
      ]
     },
     "execution_count": 76,
     "metadata": {},
     "output_type": "execute_result"
    },
    {
     "data": {
      "image/png": "[encoded data removed]",
      "text/plain": [
       "<Figure size 640x480 with 1 Axes>"
      ]
     },
     "metadata": {},
     "output_type": "display_data"
    }
   ],
   "source": [
    "import seaborn.objects as so;\n",
    "\n",
    "out= df.groupby('member_casual')['ride_duration'].sum()\n",
    "\n",
    "plt.yticks(pd)\n",
    "#pd.timedelta_range(start = out['member'], end = out['casual'], periods=2000)\n",
    "out.plot.bar()\n",
    "\n"
   ]
  },
  {
   "cell_type": "markdown",
   "metadata": {},
   "source": [
    "## Riding distance for riders"
   ]
  },
  {
   "cell_type": "code",
   "execution_count": 19,
   "metadata": {},
   "outputs": [
    {
     "data": {
      "text/plain": [
       "member_casual\n",
       "casual    7.634972\n",
       "member    7.514646\n",
       "Name: distance_in_km, dtype: float64"
      ]
     },
     "execution_count": 19,
     "metadata": {},
     "output_type": "execute_result"
    }
   ],
   "source": [
    "df.groupby('member_casual')['distance_in_km'].mean()\n",
    "# Their ride distance is almost the same"
   ]
  },
  {
   "cell_type": "markdown",
   "metadata": {},
   "source": [
    "## Bike types counts for riders"
   ]
  },
  {
   "cell_type": "code",
   "execution_count": 20,
   "metadata": {},
   "outputs": [
    {
     "data": {
      "text/plain": [
       "member_casual  rideable_type\n",
       "casual         classic_bike     1266657\n",
       "               docked_bike       312342\n",
       "               electric_bike     950006\n",
       "member         classic_bike     1984371\n",
       "               docked_bike            1\n",
       "               electric_bike    1081686\n",
       "Name: ride_id, dtype: int64"
      ]
     },
     "execution_count": 20,
     "metadata": {},
     "output_type": "execute_result"
    }
   ],
   "source": [
    "df.groupby(['member_casual', 'rideable_type'])['ride_id'].count()\n",
    "# let's crosstab it for better view"
   ]
  },
  {
   "cell_type": "code",
   "execution_count": 21,
   "metadata": {},
   "outputs": [
    {
     "data": {
      "text/html": [
       "<div>\n",
       "<style scoped>\n",
       "    .dataframe tbody tr th:only-of-type {\n",
       "        vertical-align: middle;\n",
       "    }\n",
       "\n",
       "    .dataframe tbody tr th {\n",
       "        vertical-align: top;\n",
       "    }\n",
       "\n",
       "    .dataframe thead th {\n",
       "        text-align: right;\n",
       "    }\n",
       "</style>\n",
       "<table border=\"1\" class=\"dataframe\">\n",
       "  <thead>\n",
       "    <tr style=\"text-align: right;\">\n",
       "      <th>member_casual</th>\n",
       "      <th>casual</th>\n",
       "      <th>member</th>\n",
       "    </tr>\n",
       "    <tr>\n",
       "      <th>rideable_type</th>\n",
       "      <th></th>\n",
       "      <th></th>\n",
       "    </tr>\n",
       "  </thead>\n",
       "  <tbody>\n",
       "    <tr>\n",
       "      <th>docked_bike</th>\n",
       "      <td>312342</td>\n",
       "      <td>1</td>\n",
       "    </tr>\n",
       "    <tr>\n",
       "      <th>electric_bike</th>\n",
       "      <td>950006</td>\n",
       "      <td>1081686</td>\n",
       "    </tr>\n",
       "    <tr>\n",
       "      <th>classic_bike</th>\n",
       "      <td>1266657</td>\n",
       "      <td>1984371</td>\n",
       "    </tr>\n",
       "  </tbody>\n",
       "</table>\n",
       "</div>"
      ],
      "text/plain": [
       "member_casual   casual   member\n",
       "rideable_type                  \n",
       "docked_bike     312342        1\n",
       "electric_bike   950006  1081686\n",
       "classic_bike   1266657  1984371"
      ]
     },
     "execution_count": 21,
     "metadata": {},
     "output_type": "execute_result"
    }
   ],
   "source": [
    "pd.crosstab(df['rideable_type'],columns= df['member_casual']).sort_values(['casual'])\n",
    "# There is a high demand on docked_bike from casual riders while a very low on it for members"
   ]
  },
  {
   "cell_type": "markdown",
   "metadata": {},
   "source": [
    "## Most start destinations on demand"
   ]
  },
  {
   "cell_type": "code",
   "execution_count": 22,
   "metadata": {},
   "outputs": [
    {
     "data": {
      "text/plain": [
       "10    TA1307000127\n",
       "59    TA1306000011\n",
       "Name: start_station_id, dtype: object"
      ]
     },
     "execution_count": 22,
     "metadata": {},
     "output_type": "execute_result"
    }
   ],
   "source": [
    "df['start_station_id'][df['start_station_id'].notna()].head(2)"
   ]
  },
  {
   "cell_type": "code",
   "execution_count": 23,
   "metadata": {},
   "outputs": [
    {
     "data": {
      "text/html": [
       "<div>\n",
       "<style scoped>\n",
       "    .dataframe tbody tr th:only-of-type {\n",
       "        vertical-align: middle;\n",
       "    }\n",
       "\n",
       "    .dataframe tbody tr th {\n",
       "        vertical-align: top;\n",
       "    }\n",
       "\n",
       "    .dataframe thead th {\n",
       "        text-align: right;\n",
       "    }\n",
       "</style>\n",
       "<table border=\"1\" class=\"dataframe\">\n",
       "  <thead>\n",
       "    <tr style=\"text-align: right;\">\n",
       "      <th>member_casual</th>\n",
       "      <th>casual</th>\n",
       "      <th>member</th>\n",
       "    </tr>\n",
       "    <tr>\n",
       "      <th>start_station_name</th>\n",
       "      <th></th>\n",
       "      <th></th>\n",
       "    </tr>\n",
       "  </thead>\n",
       "  <tbody>\n",
       "    <tr>\n",
       "      <th>Streeter Dr &amp; Grand Ave</th>\n",
       "      <td>66360</td>\n",
       "      <td>16355</td>\n",
       "    </tr>\n",
       "    <tr>\n",
       "      <th>Millennium Park</th>\n",
       "      <td>33590</td>\n",
       "      <td>8633</td>\n",
       "    </tr>\n",
       "    <tr>\n",
       "      <th>Michigan Ave &amp; Oak St</th>\n",
       "      <td>29781</td>\n",
       "      <td>14567</td>\n",
       "    </tr>\n",
       "    <tr>\n",
       "      <th>Shedd Aquarium</th>\n",
       "      <td>23251</td>\n",
       "      <td>4994</td>\n",
       "    </tr>\n",
       "    <tr>\n",
       "      <th>Theater on the Lake</th>\n",
       "      <td>21351</td>\n",
       "      <td>15489</td>\n",
       "    </tr>\n",
       "    <tr>\n",
       "      <th>...</th>\n",
       "      <td>...</td>\n",
       "      <td>...</td>\n",
       "    </tr>\n",
       "    <tr>\n",
       "      <th>Western Ave &amp; 28th St</th>\n",
       "      <td>0</td>\n",
       "      <td>5</td>\n",
       "    </tr>\n",
       "    <tr>\n",
       "      <th>Lyft Driver Center Private Rack</th>\n",
       "      <td>0</td>\n",
       "      <td>1</td>\n",
       "    </tr>\n",
       "    <tr>\n",
       "      <th>Throop/Hastings Mobile Station</th>\n",
       "      <td>0</td>\n",
       "      <td>2</td>\n",
       "    </tr>\n",
       "    <tr>\n",
       "      <th>N Hampden Ct &amp; W Diversey Ave</th>\n",
       "      <td>0</td>\n",
       "      <td>1</td>\n",
       "    </tr>\n",
       "    <tr>\n",
       "      <th>N Damen Ave &amp; W Wabansia St</th>\n",
       "      <td>0</td>\n",
       "      <td>1</td>\n",
       "    </tr>\n",
       "  </tbody>\n",
       "</table>\n",
       "<p>847 rows × 2 columns</p>\n",
       "</div>"
      ],
      "text/plain": [
       "member_casual                    casual  member\n",
       "start_station_name                             \n",
       "Streeter Dr & Grand Ave           66360   16355\n",
       "Millennium Park                   33590    8633\n",
       "Michigan Ave & Oak St             29781   14567\n",
       "Shedd Aquarium                    23251    4994\n",
       "Theater on the Lake               21351   15489\n",
       "...                                 ...     ...\n",
       "Western Ave & 28th St                 0       5\n",
       "Lyft Driver Center Private Rack       0       1\n",
       "Throop/Hastings Mobile Station        0       2\n",
       "N Hampden Ct & W Diversey Ave         0       1\n",
       "N Damen Ave & W Wabansia St           0       1\n",
       "\n",
       "[847 rows x 2 columns]"
      ]
     },
     "execution_count": 23,
     "metadata": {},
     "output_type": "execute_result"
    }
   ],
   "source": [
    "pd.crosstab(df['start_station_name'], df['member_casual']).sort_values(['casual'], ascending=False)\n",
    "# Some stations have a very high demand from casual riders"
   ]
  },
  {
   "cell_type": "markdown",
   "metadata": {},
   "source": [
    "## See on which day they tend to take a ride"
   ]
  },
  {
   "cell_type": "markdown",
   "metadata": {},
   "source": [
    "### Convert string to day of week"
   ]
  },
  {
   "cell_type": "code",
   "execution_count": 24,
   "metadata": {},
   "outputs": [],
   "source": [
    "df['ride_day'] = pd.to_datetime(df['started_at']).dt.day_name()"
   ]
  },
  {
   "cell_type": "code",
   "execution_count": 25,
   "metadata": {},
   "outputs": [
    {
     "data": {
      "text/html": [
       "<div>\n",
       "<style scoped>\n",
       "    .dataframe tbody tr th:only-of-type {\n",
       "        vertical-align: middle;\n",
       "    }\n",
       "\n",
       "    .dataframe tbody tr th {\n",
       "        vertical-align: top;\n",
       "    }\n",
       "\n",
       "    .dataframe thead th {\n",
       "        text-align: right;\n",
       "    }\n",
       "</style>\n",
       "<table border=\"1\" class=\"dataframe\">\n",
       "  <thead>\n",
       "    <tr style=\"text-align: right;\">\n",
       "      <th>member_casual</th>\n",
       "      <th>casual</th>\n",
       "      <th>member</th>\n",
       "    </tr>\n",
       "    <tr>\n",
       "      <th>ride_day</th>\n",
       "      <th></th>\n",
       "      <th></th>\n",
       "    </tr>\n",
       "  </thead>\n",
       "  <tbody>\n",
       "    <tr>\n",
       "      <th>Tuesday</th>\n",
       "      <td>274392</td>\n",
       "      <td>465513</td>\n",
       "    </tr>\n",
       "    <tr>\n",
       "      <th>Wednesday</th>\n",
       "      <td>278950</td>\n",
       "      <td>477192</td>\n",
       "    </tr>\n",
       "    <tr>\n",
       "      <th>Thursday</th>\n",
       "      <td>286064</td>\n",
       "      <td>451524</td>\n",
       "    </tr>\n",
       "    <tr>\n",
       "      <th>Monday</th>\n",
       "      <td>286376</td>\n",
       "      <td>416212</td>\n",
       "    </tr>\n",
       "    <tr>\n",
       "      <th>Friday</th>\n",
       "      <td>364080</td>\n",
       "      <td>446428</td>\n",
       "    </tr>\n",
       "    <tr>\n",
       "      <th>Sunday</th>\n",
       "      <td>481143</td>\n",
       "      <td>376142</td>\n",
       "    </tr>\n",
       "    <tr>\n",
       "      <th>Saturday</th>\n",
       "      <td>558000</td>\n",
       "      <td>433047</td>\n",
       "    </tr>\n",
       "  </tbody>\n",
       "</table>\n",
       "</div>"
      ],
      "text/plain": [
       "member_casual  casual  member\n",
       "ride_day                     \n",
       "Tuesday        274392  465513\n",
       "Wednesday      278950  477192\n",
       "Thursday       286064  451524\n",
       "Monday         286376  416212\n",
       "Friday         364080  446428\n",
       "Sunday         481143  376142\n",
       "Saturday       558000  433047"
      ]
     },
     "execution_count": 25,
     "metadata": {},
     "output_type": "execute_result"
    }
   ],
   "source": [
    "pd.crosstab(df['ride_day'], df['member_casual']).sort_values(['casual'])\n",
    "# Casual riders tend to take a ride more on weekends"
   ]
  }
 ],
 "metadata": {
  "kernelspec": {
   "display_name": "Python 3",
   "language": "python",
   "name": "python3"
  },
  "language_info": {
   "codemirror_mode": {
    "name": "ipython",
    "version": 3
   },
   "file_extension": ".py",
   "mimetype": "text/x-python",
   "name": "python",
   "nbconvert_exporter": "python",
   "pygments_lexer": "ipython3",
   "version": "3.9.13"
  }
 },
 "nbformat": 4,
 "nbformat_minor": 2
}
