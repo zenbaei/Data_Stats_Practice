{
  "cells": [
    {
      "cell_type": "code",
      "execution_count": 53,
      "metadata": {
        "id": "Pwa8YbC8CFlf"
      },
      "outputs": [],
      "source": [
        "import pandas as pd;\n",
        "import numpy as np;\n",
        "import matplotlib.pyplot as plt;\n",
        "\n",
        "# %matplotlib inline: only draw static\n",
        "# images in the notebook\n",
        "#%matplotlib inline"
      ]
    },
    {
      "cell_type": "markdown",
      "metadata": {
        "id": "nGJmnvig3xn_"
      },
      "source": [
        "# Chapter 1"
      ]
    },
    {
      "cell_type": "code",
      "execution_count": 27,
      "metadata": {
        "colab": {
          "base_uri": "https://localhost:8080/",
          "height": 320
        },
        "id": "7xEBEhlb6vvG",
        "outputId": "b77337fd-93ac-47d5-ab29-70136b91027e"
      },
      "outputs": [
        {
          "data": {
            "text/html": [
              "<div>\n",
              "<style scoped>\n",
              "    .dataframe tbody tr th:only-of-type {\n",
              "        vertical-align: middle;\n",
              "    }\n",
              "\n",
              "    .dataframe tbody tr th {\n",
              "        vertical-align: top;\n",
              "    }\n",
              "\n",
              "    .dataframe thead th {\n",
              "        text-align: right;\n",
              "    }\n",
              "</style>\n",
              "<table border=\"1\" class=\"dataframe\">\n",
              "  <thead>\n",
              "    <tr style=\"text-align: right;\">\n",
              "      <th></th>\n",
              "      <th>Tablet</th>\n",
              "      <th>Cost ($)</th>\n",
              "      <th>Operating System</th>\n",
              "      <th>Display Size (centimeters)</th>\n",
              "      <th>Battery Life (hours)</th>\n",
              "      <th>CPU Manufacturer</th>\n",
              "    </tr>\n",
              "  </thead>\n",
              "  <tbody>\n",
              "    <tr>\n",
              "      <th>0</th>\n",
              "      <td>Acer Iconia W510</td>\n",
              "      <td>599</td>\n",
              "      <td>Windows</td>\n",
              "      <td>25.7</td>\n",
              "      <td>8.5</td>\n",
              "      <td>Intel</td>\n",
              "    </tr>\n",
              "    <tr>\n",
              "      <th>1</th>\n",
              "      <td>Amazon Kindle Fire HD</td>\n",
              "      <td>299</td>\n",
              "      <td>Android</td>\n",
              "      <td>22.6</td>\n",
              "      <td>9.0</td>\n",
              "      <td>TI OMAP</td>\n",
              "    </tr>\n",
              "    <tr>\n",
              "      <th>2</th>\n",
              "      <td>Apple iPad 4</td>\n",
              "      <td>499</td>\n",
              "      <td>iOS</td>\n",
              "      <td>24.6</td>\n",
              "      <td>11.0</td>\n",
              "      <td>Apple</td>\n",
              "    </tr>\n",
              "    <tr>\n",
              "      <th>3</th>\n",
              "      <td>HP Envy X2</td>\n",
              "      <td>860</td>\n",
              "      <td>Windows</td>\n",
              "      <td>29.5</td>\n",
              "      <td>8.0</td>\n",
              "      <td>Intel</td>\n",
              "    </tr>\n",
              "    <tr>\n",
              "      <th>4</th>\n",
              "      <td>Lenovo ThinkPad Tablet</td>\n",
              "      <td>668</td>\n",
              "      <td>Windows</td>\n",
              "      <td>25.7</td>\n",
              "      <td>10.5</td>\n",
              "      <td>Intel</td>\n",
              "    </tr>\n",
              "  </tbody>\n",
              "</table>\n",
              "</div>"
            ],
            "text/plain": [
              "                   Tablet  Cost ($) Operating System  \\\n",
              "0        Acer Iconia W510       599          Windows   \n",
              "1   Amazon Kindle Fire HD       299          Android   \n",
              "2            Apple iPad 4       499              iOS   \n",
              "3              HP Envy X2       860          Windows   \n",
              "4  Lenovo ThinkPad Tablet       668          Windows   \n",
              "\n",
              "   Display Size (centimeters)  Battery Life (hours) CPU Manufacturer  \n",
              "0                        25.7                   8.5            Intel  \n",
              "1                        22.6                   9.0          TI OMAP  \n",
              "2                        24.6                  11.0            Apple  \n",
              "3                        29.5                   8.0            Intel  \n",
              "4                        25.7                  10.5            Intel  "
            ]
          },
          "execution_count": 27,
          "metadata": {},
          "output_type": "execute_result"
        }
      ],
      "source": [
        "tablets = pd.read_csv('/home/zenbaei/Documents/Data_Statstics_Solutions_Notebooks/tablets.csv')\n",
        "tablets.head()"
      ]
    },
    {
      "cell_type": "markdown",
      "metadata": {
        "id": "KWu8TdgN0onq"
      },
      "source": [
        "**2.a** **2.b**"
      ]
    },
    {
      "cell_type": "code",
      "execution_count": 28,
      "metadata": {
        "colab": {
          "base_uri": "https://localhost:8080/"
        },
        "id": "pI0b1e8b09DA",
        "outputId": "2819828b-826e-40f2-839e-8a26d22931d5"
      },
      "outputs": [
        {
          "data": {
            "text/plain": [
              "(10, 6)"
            ]
          },
          "execution_count": 28,
          "metadata": {},
          "output_type": "execute_result"
        }
      ],
      "source": [
        "tablets.shape\n",
        "#tablets.columns.size"
      ]
    },
    {
      "cell_type": "markdown",
      "metadata": {
        "id": "qdGNucw51UKd"
      },
      "source": [
        "**2.c**"
      ]
    },
    {
      "cell_type": "code",
      "execution_count": 29,
      "metadata": {
        "colab": {
          "base_uri": "https://localhost:8080/"
        },
        "id": "izdprfZY1ai3",
        "outputId": "36d40f34-7d2e-491f-a0f5-e72cf02c54d1"
      },
      "outputs": [
        {
          "name": "stdout",
          "output_type": "stream",
          "text": [
            "<class 'pandas.core.frame.DataFrame'>\n",
            "RangeIndex: 10 entries, 0 to 9\n",
            "Data columns (total 6 columns):\n",
            " #   Column                      Non-Null Count  Dtype  \n",
            "---  ------                      --------------  -----  \n",
            " 0   Tablet                      10 non-null     object \n",
            " 1   Cost ($)                    10 non-null     int64  \n",
            " 2   Operating System            10 non-null     object \n",
            " 3   Display Size (centimeters)  10 non-null     float64\n",
            " 4   Battery Life (hours)        10 non-null     float64\n",
            " 5   CPU Manufacturer            10 non-null     object \n",
            "dtypes: float64(2), int64(1), object(3)\n",
            "memory usage: 608.0+ bytes\n"
          ]
        }
      ],
      "source": [
        "tablets.info()"
      ]
    },
    {
      "cell_type": "markdown",
      "metadata": {
        "id": "I7xf0-bk6irM"
      },
      "source": [
        "- 2 Categorical\n",
        "- 3 Quantative"
      ]
    },
    {
      "cell_type": "markdown",
      "metadata": {
        "id": "LRyUaury17IS"
      },
      "source": [
        "**2.d**\n",
        "\n",
        "- Tablet, OS, CPU Mani: nominal scale\n",
        "\n",
        "- Cost, Display, Batter: ratio scale\n"
      ]
    },
    {
      "cell_type": "markdown",
      "metadata": {
        "id": "xFfIoOWr36jC"
      },
      "source": [
        "**3.a**"
      ]
    },
    {
      "cell_type": "code",
      "execution_count": 30,
      "metadata": {
        "colab": {
          "base_uri": "https://localhost:8080/"
        },
        "id": "ovLS1X5mDDaO",
        "outputId": "0177a025-454c-43b3-b153-e5fd69bd84b2"
      },
      "outputs": [
        {
          "data": {
            "text/plain": [
              "0     9.731219\n",
              "1    19.494983\n",
              "2    11.681363\n",
              "3     6.777907\n",
              "4     8.726048\n",
              "5     6.483871\n",
              "6    10.998113\n",
              "7     9.879661\n",
              "8    11.102857\n",
              "9    16.191667\n",
              "Name: Cost ($), dtype: float64"
            ]
          },
          "execution_count": 30,
          "metadata": {},
          "output_type": "execute_result"
        }
      ],
      "source": [
        "# np.mean(tablets['Cost ($)'])\n",
        "np.sum(tablets['Cost ($)']) / tablets['Cost ($)']"
      ]
    },
    {
      "cell_type": "markdown",
      "metadata": {
        "id": "2Rbmw5RiQRgJ"
      },
      "source": [
        "**3.b**"
      ]
    },
    {
      "cell_type": "code",
      "execution_count": 31,
      "metadata": {
        "colab": {
          "base_uri": "https://localhost:8080/"
        },
        "id": "CjtxUisYCZ76",
        "outputId": "31db0b04-9dc2-46e2-ed1b-3ed89ca576ee"
      },
      "outputs": [
        {
          "name": "stdout",
          "output_type": "stream",
          "text": [
            "723.2\n",
            "428.5\n"
          ]
        }
      ],
      "source": [
        "winOS  = tablets['Operating System'] == \"Windows\"\n",
        "adrOS = tablets['Operating System']  == 'Android'\n",
        "\n",
        "winSum = np.sum(tablets[winOS]['Cost ($)'])\n",
        "adrSum = np.sum(tablets.loc[adrOS, 'Cost ($)'])\n",
        "\n",
        "avgWin = winSum / len(tablets.loc[winOS])\n",
        "avgAdr = adrSum / len(tablets.loc[adrOS])\n",
        "\n",
        "print(avgWin)\n",
        "print(avgAdr)"
      ]
    },
    {
      "cell_type": "markdown",
      "metadata": {
        "id": "BRIOe2RWTWmj"
      },
      "source": [
        "**3.c**"
      ]
    },
    {
      "cell_type": "code",
      "execution_count": 32,
      "metadata": {
        "colab": {
          "base_uri": "https://localhost:8080/"
        },
        "id": "zGpV62vmTZl5",
        "outputId": "1c209206-650c-4cc6-f861-46a71c5fc365"
      },
      "outputs": [
        {
          "data": {
            "text/plain": [
              "20.0"
            ]
          },
          "execution_count": 32,
          "metadata": {},
          "output_type": "execute_result"
        }
      ],
      "source": [
        "cpu = tablets['CPU Manufacturer'] == 'TI OMAP'\n",
        "( len(tablets.loc[cpu]) / len(tablets) ) * 100"
      ]
    },
    {
      "cell_type": "markdown",
      "metadata": {
        "id": "QkcKIb64WTd2"
      },
      "source": [
        "**3.d**"
      ]
    },
    {
      "cell_type": "code",
      "execution_count": 33,
      "metadata": {
        "colab": {
          "base_uri": "https://localhost:8080/"
        },
        "id": "0Se2y6vBWXCQ",
        "outputId": "c75b2bba-8627-497e-de6e-fc10b827ff47"
      },
      "outputs": [
        {
          "data": {
            "text/plain": [
              "40.0"
            ]
          },
          "execution_count": 33,
          "metadata": {},
          "output_type": "execute_result"
        }
      ],
      "source": [
        "( len(tablets.loc[adrOS]) / len(tablets) ) * 100"
      ]
    },
    {
      "cell_type": "code",
      "execution_count": 34,
      "metadata": {
        "colab": {
          "base_uri": "https://localhost:8080/",
          "height": 206
        },
        "id": "skpTq_4E2a8G",
        "outputId": "f1791f56-4e1c-4940-a6f3-c017593ecef2"
      },
      "outputs": [
        {
          "data": {
            "text/html": [
              "<div>\n",
              "<style scoped>\n",
              "    .dataframe tbody tr th:only-of-type {\n",
              "        vertical-align: middle;\n",
              "    }\n",
              "\n",
              "    .dataframe tbody tr th {\n",
              "        vertical-align: top;\n",
              "    }\n",
              "\n",
              "    .dataframe thead th {\n",
              "        text-align: right;\n",
              "    }\n",
              "</style>\n",
              "<table border=\"1\" class=\"dataframe\">\n",
              "  <thead>\n",
              "    <tr style=\"text-align: right;\">\n",
              "      <th></th>\n",
              "      <th>Brand</th>\n",
              "      <th>Model</th>\n",
              "      <th>Price ($)</th>\n",
              "      <th>Overall Score</th>\n",
              "      <th>Voice Quality</th>\n",
              "      <th>Talk Time (hours)</th>\n",
              "    </tr>\n",
              "  </thead>\n",
              "  <tbody>\n",
              "    <tr>\n",
              "      <th>0</th>\n",
              "      <td>AT&amp;T</td>\n",
              "      <td>CL84100</td>\n",
              "      <td>60</td>\n",
              "      <td>73</td>\n",
              "      <td>Excellent</td>\n",
              "      <td>7</td>\n",
              "    </tr>\n",
              "    <tr>\n",
              "      <th>1</th>\n",
              "      <td>AT&amp;T</td>\n",
              "      <td>TL92271</td>\n",
              "      <td>80</td>\n",
              "      <td>70</td>\n",
              "      <td>Very Good</td>\n",
              "      <td>7</td>\n",
              "    </tr>\n",
              "    <tr>\n",
              "      <th>2</th>\n",
              "      <td>Panasonic</td>\n",
              "      <td>4773B</td>\n",
              "      <td>100</td>\n",
              "      <td>78</td>\n",
              "      <td>Very Good</td>\n",
              "      <td>13</td>\n",
              "    </tr>\n",
              "    <tr>\n",
              "      <th>3</th>\n",
              "      <td>Panasonic</td>\n",
              "      <td>6592T</td>\n",
              "      <td>70</td>\n",
              "      <td>72</td>\n",
              "      <td>Very Good</td>\n",
              "      <td>13</td>\n",
              "    </tr>\n",
              "    <tr>\n",
              "      <th>4</th>\n",
              "      <td>Uniden</td>\n",
              "      <td>D2997</td>\n",
              "      <td>45</td>\n",
              "      <td>70</td>\n",
              "      <td>Very Good</td>\n",
              "      <td>10</td>\n",
              "    </tr>\n",
              "  </tbody>\n",
              "</table>\n",
              "</div>"
            ],
            "text/plain": [
              "       Brand     Model   Price ($)   Overall Score  Voice Quality   \\\n",
              "0       AT&T   CL84100           60              73     Excellent    \n",
              "1       AT&T   TL92271           80              70     Very Good    \n",
              "2  Panasonic     4773B          100              78     Very Good    \n",
              "3  Panasonic     6592T           70              72     Very Good    \n",
              "4     Uniden     D2997           45              70     Very Good    \n",
              "\n",
              "   Talk Time (hours)   \n",
              "0                   7  \n",
              "1                   7  \n",
              "2                  13  \n",
              "3                  13  \n",
              "4                  10  "
            ]
          },
          "execution_count": 34,
          "metadata": {},
          "output_type": "execute_result"
        }
      ],
      "source": [
        "phones = pd.read_csv('/home/zenbaei/Documents/Data_Statstics_Solutions_Notebooks/phones.csv')\n",
        "phones.head()\n"
      ]
    },
    {
      "cell_type": "code",
      "execution_count": 35,
      "metadata": {
        "id": "DvQjw-9m4C5t"
      },
      "outputs": [],
      "source": [
        "phones = phones.rename(str.strip, axis='columns')\n",
        "\n",
        "for col in phones.columns:\n",
        "  #is_col_object_dtype = is_object_dtype(df[column])\n",
        "  if phones[col].dtype == object:\n",
        "    phones[col] = phones[col].str.strip()"
      ]
    },
    {
      "cell_type": "markdown",
      "metadata": {
        "id": "bmwrj9Bd5CK2"
      },
      "source": [
        "**4.a**"
      ]
    },
    {
      "cell_type": "code",
      "execution_count": 36,
      "metadata": {
        "colab": {
          "base_uri": "https://localhost:8080/"
        },
        "id": "iruXTEER5JvD",
        "outputId": "d6b533fe-294b-49f5-f1d5-1c4f05142d56"
      },
      "outputs": [
        {
          "data": {
            "text/plain": [
              "(8, 6)"
            ]
          },
          "execution_count": 36,
          "metadata": {},
          "output_type": "execute_result"
        }
      ],
      "source": [
        "phones.shape"
      ]
    },
    {
      "cell_type": "markdown",
      "metadata": {
        "id": "Rbhg2sBh6FYQ"
      },
      "source": [
        "**4.b**\n",
        "\n",
        "- Price, Overall Score, Talk Time: Quantative\n",
        "- Voice Quality: Categorical"
      ]
    },
    {
      "cell_type": "markdown",
      "metadata": {
        "id": "eNZgzWJP7TIv"
      },
      "source": [
        "**4.c**\n",
        "\n",
        "- Model: Nominal\n",
        "- Voice Quality: Ordinal\n",
        "- Price, Talk Time: Ratio\n",
        "- Overall Score: Interval"
      ]
    },
    {
      "cell_type": "markdown",
      "metadata": {
        "id": "rgZ8knv87UxC"
      },
      "source": [
        "**5.a**"
      ]
    },
    {
      "cell_type": "code",
      "execution_count": 37,
      "metadata": {
        "colab": {
          "base_uri": "https://localhost:8080/"
        },
        "id": "Cm4XscRCA95y",
        "outputId": "5fa57aea-f3a0-4ec2-d329-68cec9a531c6"
      },
      "outputs": [
        {
          "data": {
            "text/plain": [
              "68.125"
            ]
          },
          "execution_count": 37,
          "metadata": {},
          "output_type": "execute_result"
        }
      ],
      "source": [
        "np.average(phones['Price ($)'])"
      ]
    },
    {
      "cell_type": "markdown",
      "metadata": {
        "id": "tElVILmrBgfp"
      },
      "source": [
        "**5.b**"
      ]
    },
    {
      "cell_type": "code",
      "execution_count": 38,
      "metadata": {
        "colab": {
          "base_uri": "https://localhost:8080/"
        },
        "id": "8zdlSoobBnz4",
        "outputId": "20ae4e66-1cd0-4550-b100-c04eaa10657b"
      },
      "outputs": [
        {
          "data": {
            "text/plain": [
              "8.875"
            ]
          },
          "execution_count": 38,
          "metadata": {},
          "output_type": "execute_result"
        }
      ],
      "source": [
        "np.average(phones['Talk Time (hours)'])"
      ]
    },
    {
      "cell_type": "markdown",
      "metadata": {
        "id": "EGjWJKbwCejm"
      },
      "source": [
        "**5.c**"
      ]
    },
    {
      "cell_type": "code",
      "execution_count": 39,
      "metadata": {
        "colab": {
          "base_uri": "https://localhost:8080/"
        },
        "id": "2dnQELL-CcWQ",
        "outputId": "72e299b3-58b3-4fc3-f2c8-3845942c869b"
      },
      "outputs": [
        {
          "data": {
            "text/plain": [
              "25.0"
            ]
          },
          "execution_count": 39,
          "metadata": {},
          "output_type": "execute_result"
        }
      ],
      "source": [
        "condition = phones['Voice Quality'] == 'Excellent'\n",
        "result = phones.loc[condition, 'Voice Quality']\n",
        "(result.size / len(phones['Voice Quality'])) * 100"
      ]
    },
    {
      "cell_type": "markdown",
      "metadata": {},
      "source": [
        "**6**\n",
        "\n",
        "- Categorical\n",
        "- Ratio Quantative\n",
        "- Categorical Ordinal\n",
        "- Ration Quantative\n",
        "- Categorical Ordinal"
      ]
    },
    {
      "cell_type": "markdown",
      "metadata": {},
      "source": [
        "**7**\n",
        "\n",
        "- Categorical\n",
        "- Nominal"
      ]
    },
    {
      "cell_type": "markdown",
      "metadata": {},
      "source": [
        "**8**\n",
        "\n",
        "- 762\n",
        "- Categorical\n",
        "- Yes\n",
        "- 762*0.67 = 511"
      ]
    },
    {
      "cell_type": "markdown",
      "metadata": {},
      "source": [
        "**9**\n",
        "\n",
        "- Categorical\n",
        "- 23+18+30= 71 -> 71/30 -> 42%"
      ]
    },
    {
      "cell_type": "markdown",
      "metadata": {},
      "source": [
        "**10**\n",
        "\n",
        "- Categorical\n",
        "- Yes\n",
        "- 44+130+165+741 = 1080 -> 44/1080 * 100 = 4%\n",
        "- Against"
      ]
    },
    {
      "cell_type": "markdown",
      "metadata": {},
      "source": [
        "**11**\n",
        "\n",
        "295 -> for/\n",
        "672 -> against/\n",
        "51 -> no opinion\n",
        "\n",
        "- Categorical\n",
        "- 1018\n",
        "- 295/1080 = 27%\n",
        "- Against"
      ]
    },
    {
      "cell_type": "markdown",
      "metadata": {},
      "source": [
        "**12**\n",
        "- 16\n",
        "- Yes\n",
        "- Quantative, Categorical, Categorical, Quantative"
      ]
    },
    {
      "cell_type": "markdown",
      "metadata": {},
      "source": [
        "**13**\n",
        "- Revenue\n",
        "- Quantative\n",
        "- Time Series\n",
        "- For 10 years the revenue increased about 60%"
      ]
    },
    {
      "cell_type": "markdown",
      "metadata": {},
      "source": [
        "**14.a**"
      ]
    },
    {
      "cell_type": "code",
      "execution_count": 48,
      "metadata": {},
      "outputs": [
        {
          "data": {
            "text/html": [
              "<div>\n",
              "<style scoped>\n",
              "    .dataframe tbody tr th:only-of-type {\n",
              "        vertical-align: middle;\n",
              "    }\n",
              "\n",
              "    .dataframe tbody tr th {\n",
              "        vertical-align: top;\n",
              "    }\n",
              "\n",
              "    .dataframe thead th {\n",
              "        text-align: right;\n",
              "    }\n",
              "</style>\n",
              "<table border=\"1\" class=\"dataframe\">\n",
              "  <thead>\n",
              "    <tr style=\"text-align: right;\">\n",
              "      <th></th>\n",
              "      <th>Hertz</th>\n",
              "      <th>Dollar</th>\n",
              "      <th>Avis</th>\n",
              "    </tr>\n",
              "  </thead>\n",
              "  <tbody>\n",
              "    <tr>\n",
              "      <th>2007</th>\n",
              "      <td>327</td>\n",
              "      <td>167</td>\n",
              "      <td>204</td>\n",
              "    </tr>\n",
              "    <tr>\n",
              "      <th>2008</th>\n",
              "      <td>311</td>\n",
              "      <td>140</td>\n",
              "      <td>220</td>\n",
              "    </tr>\n",
              "    <tr>\n",
              "      <th>2009</th>\n",
              "      <td>286</td>\n",
              "      <td>106</td>\n",
              "      <td>300</td>\n",
              "    </tr>\n",
              "    <tr>\n",
              "      <th>2010</th>\n",
              "      <td>290</td>\n",
              "      <td>108</td>\n",
              "      <td>270</td>\n",
              "    </tr>\n",
              "  </tbody>\n",
              "</table>\n",
              "</div>"
            ],
            "text/plain": [
              "      Hertz  Dollar  Avis\n",
              "2007    327     167   204\n",
              "2008    311     140   220\n",
              "2009    286     106   300\n",
              "2010    290     108   270"
            ]
          },
          "execution_count": 48,
          "metadata": {},
          "output_type": "execute_result"
        }
      ],
      "source": [
        "data = [(327, 167, 204),\n",
        "        (311, 140, 220),\n",
        "        (286, 106, 300),\n",
        "        (290, 108, 270)]\n",
        "years = ['2007', '2008', '2009', '2010']\n",
        "companies = pd.DataFrame(data, columns=['Hertz', 'Dollar', 'Avis'], index=years)\n",
        "\n",
        "companies.head()"
      ]
    },
    {
      "cell_type": "code",
      "execution_count": 54,
      "metadata": {},
      "outputs": [
        {
          "data": {
            "text/plain": [
              "<matplotlib.legend.Legend at 0x7f378c77a7d0>"
            ]
          },
          "execution_count": 54,
          "metadata": {},
          "output_type": "execute_result"
        },
        {
          "data": {
            "image/png": "[encoded data removed]",
            "text/plain": [
              "<Figure size 640x480 with 1 Axes>"
            ]
          },
          "metadata": {},
          "output_type": "display_data"
        }
      ],
      "source": [
        "plt.xlabel('Years')\n",
        "plt.ylabel('Services')\n",
        "\n",
        "companies['Hertz'].plot(label='Hertz', color='orange')\n",
        "companies['Dollar'].plot(label='Dollar', color='green')\n",
        "companies['Avis'].plot(label='Avis', color='black')\n",
        "\n",
        "plt.title('Renting Companies Services')\n",
        "plt.legend()"
      ]
    },
    {
      "cell_type": "markdown",
      "metadata": {},
      "source": [
        "**14**\n",
        "- Hertz\n",
        "- It shows to be dropping in between 2007 and 2009 for Hertz and Dollar whereas Avis is steadly growing, then stable from 2009 to 2010 but dropping for Avis\n",
        "- Cross-sectional"
      ]
    },
    {
      "cell_type": "code",
      "execution_count": 73,
      "metadata": {},
      "outputs": [
        {
          "data": {
            "text/plain": [
              "<Axes: >"
            ]
          },
          "execution_count": 73,
          "metadata": {},
          "output_type": "execute_result"
        },
        {
          "data": {
            "image/png": "[encoded data removed]",
            "text/plain": [
              "<Figure size 640x480 with 1 Axes>"
            ]
          },
          "metadata": {},
          "output_type": "display_data"
        }
      ],
      "source": [
        "cmps = ['Hertz', 'Dollar', 'Avis']\n",
        "companies.loc['2007'].plot.bar()"
      ]
    },
    {
      "cell_type": "markdown",
      "metadata": {},
      "source": [
        "**15**"
      ]
    },
    {
      "cell_type": "markdown",
      "metadata": {},
      "source": [
        "**23**\n",
        "- Sample of people aged 25-29\n",
        "- Do they own a Bch and work?\n",
        "- Categorical"
      ]
    }
  ],
  "metadata": {
    "colab": {
      "provenance": [],
      "toc_visible": true
    },
    "kernelspec": {
      "display_name": "Python 3",
      "name": "python3"
    },
    "language_info": {
      "codemirror_mode": {
        "name": "ipython",
        "version": 3
      },
      "file_extension": ".py",
      "mimetype": "text/x-python",
      "name": "python",
      "nbconvert_exporter": "python",
      "pygments_lexer": "ipython3",
      "version": "3.10.12"
    }
  },
  "nbformat": 4,
  "nbformat_minor": 0
}
