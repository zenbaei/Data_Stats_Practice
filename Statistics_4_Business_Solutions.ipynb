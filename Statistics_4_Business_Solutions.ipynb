{
  "cells": [
    {
      "cell_type": "code",
      "execution_count": 30,
      "metadata": {
        "id": "Pwa8YbC8CFlf"
      },
      "outputs": [],
      "source": [
        "import pandas as pd;\n",
        "import numpy as np;\n",
        "import matplotlib.pyplot as plt;\n",
        "import matplotlib.dates as mdates;\n",
        "import matplotlib.ticker as ticker;\n",
        "\n",
        "# %matplotlib inline: only draw static\n",
        "# images in the notebook\n",
        "#%matplotlib inline"
      ]
    },
    {
      "cell_type": "markdown",
      "metadata": {
        "id": "nGJmnvig3xn_"
      },
      "source": [
        "# Chapter 1"
      ]
    },
    {
      "cell_type": "code",
      "execution_count": 52,
      "metadata": {
        "colab": {
          "base_uri": "https://localhost:8080/",
          "height": 320
        },
        "id": "7xEBEhlb6vvG",
        "outputId": "b77337fd-93ac-47d5-ab29-70136b91027e"
      },
      "outputs": [
        {
          "data": {
            "text/html": [
              "<div>\n",
              "<style scoped>\n",
              "    .dataframe tbody tr th:only-of-type {\n",
              "        vertical-align: middle;\n",
              "    }\n",
              "\n",
              "    .dataframe tbody tr th {\n",
              "        vertical-align: top;\n",
              "    }\n",
              "\n",
              "    .dataframe thead th {\n",
              "        text-align: right;\n",
              "    }\n",
              "</style>\n",
              "<table border=\"1\" class=\"dataframe\">\n",
              "  <thead>\n",
              "    <tr style=\"text-align: right;\">\n",
              "      <th></th>\n",
              "      <th>Tablet</th>\n",
              "      <th>Cost ($)</th>\n",
              "      <th>Operating System</th>\n",
              "      <th>Display Size (centimeters)</th>\n",
              "      <th>Battery Life (hours)</th>\n",
              "      <th>CPU Manufacturer</th>\n",
              "    </tr>\n",
              "  </thead>\n",
              "  <tbody>\n",
              "    <tr>\n",
              "      <th>0</th>\n",
              "      <td>Acer Iconia W510</td>\n",
              "      <td>599</td>\n",
              "      <td>Windows</td>\n",
              "      <td>25.7</td>\n",
              "      <td>8.5</td>\n",
              "      <td>Intel</td>\n",
              "    </tr>\n",
              "    <tr>\n",
              "      <th>1</th>\n",
              "      <td>Amazon Kindle Fire HD</td>\n",
              "      <td>299</td>\n",
              "      <td>Android</td>\n",
              "      <td>22.6</td>\n",
              "      <td>9.0</td>\n",
              "      <td>TI OMAP</td>\n",
              "    </tr>\n",
              "    <tr>\n",
              "      <th>2</th>\n",
              "      <td>Apple iPad 4</td>\n",
              "      <td>499</td>\n",
              "      <td>iOS</td>\n",
              "      <td>24.6</td>\n",
              "      <td>11.0</td>\n",
              "      <td>Apple</td>\n",
              "    </tr>\n",
              "    <tr>\n",
              "      <th>3</th>\n",
              "      <td>HP Envy X2</td>\n",
              "      <td>860</td>\n",
              "      <td>Windows</td>\n",
              "      <td>29.5</td>\n",
              "      <td>8.0</td>\n",
              "      <td>Intel</td>\n",
              "    </tr>\n",
              "    <tr>\n",
              "      <th>4</th>\n",
              "      <td>Lenovo ThinkPad Tablet</td>\n",
              "      <td>668</td>\n",
              "      <td>Windows</td>\n",
              "      <td>25.7</td>\n",
              "      <td>10.5</td>\n",
              "      <td>Intel</td>\n",
              "    </tr>\n",
              "  </tbody>\n",
              "</table>\n",
              "</div>"
            ],
            "text/plain": [
              "                   Tablet  Cost ($) Operating System  \\\n",
              "0        Acer Iconia W510       599          Windows   \n",
              "1   Amazon Kindle Fire HD       299          Android   \n",
              "2            Apple iPad 4       499              iOS   \n",
              "3              HP Envy X2       860          Windows   \n",
              "4  Lenovo ThinkPad Tablet       668          Windows   \n",
              "\n",
              "   Display Size (centimeters)  Battery Life (hours) CPU Manufacturer  \n",
              "0                        25.7                   8.5            Intel  \n",
              "1                        22.6                   9.0          TI OMAP  \n",
              "2                        24.6                  11.0            Apple  \n",
              "3                        29.5                   8.0            Intel  \n",
              "4                        25.7                  10.5            Intel  "
            ]
          },
          "execution_count": 52,
          "metadata": {},
          "output_type": "execute_result"
        }
      ],
      "source": [
        "tablets = pd.read_csv('./tablets.csv')\n",
        "tablets.head()"
      ]
    },
    {
      "cell_type": "markdown",
      "metadata": {},
      "source": [
        "## 2"
      ]
    },
    {
      "cell_type": "markdown",
      "metadata": {
        "id": "KWu8TdgN0onq"
      },
      "source": [
        "**2.a-b**"
      ]
    },
    {
      "cell_type": "code",
      "execution_count": null,
      "metadata": {
        "colab": {
          "base_uri": "https://localhost:8080/"
        },
        "id": "pI0b1e8b09DA",
        "outputId": "2819828b-826e-40f2-839e-8a26d22931d5"
      },
      "outputs": [
        {
          "data": {
            "text/plain": [
              "(10, 6)"
            ]
          },
          "execution_count": 49,
          "metadata": {},
          "output_type": "execute_result"
        }
      ],
      "source": [
        "tablets.shape\n",
        "#tablets.columns.size"
      ]
    },
    {
      "cell_type": "markdown",
      "metadata": {
        "id": "qdGNucw51UKd"
      },
      "source": [
        "**2.c**"
      ]
    },
    {
      "cell_type": "code",
      "execution_count": null,
      "metadata": {
        "colab": {
          "base_uri": "https://localhost:8080/"
        },
        "id": "izdprfZY1ai3",
        "outputId": "36d40f34-7d2e-491f-a0f5-e72cf02c54d1"
      },
      "outputs": [
        {
          "name": "stdout",
          "output_type": "stream",
          "text": [
            "<class 'pandas.core.frame.DataFrame'>\n",
            "RangeIndex: 10 entries, 0 to 9\n",
            "Data columns (total 6 columns):\n",
            " #   Column                      Non-Null Count  Dtype  \n",
            "---  ------                      --------------  -----  \n",
            " 0   Tablet                      10 non-null     object \n",
            " 1   Cost ($)                    10 non-null     int64  \n",
            " 2   Operating System            10 non-null     object \n",
            " 3   Display Size (centimeters)  10 non-null     float64\n",
            " 4   Battery Life (hours)        10 non-null     float64\n",
            " 5   CPU Manufacturer            10 non-null     object \n",
            "dtypes: float64(2), int64(1), object(3)\n",
            "memory usage: 608.0+ bytes\n"
          ]
        }
      ],
      "source": [
        "tablets.info()\n",
        "\n",
        "# 2 Categorical\n",
        "# 3 Quantative"
      ]
    },
    {
      "cell_type": "markdown",
      "metadata": {
        "id": "LRyUaury17IS"
      },
      "source": [
        "**2.d**\n",
        "\n",
        "- Tablet, OS, CPU Mani: nominal scale\n",
        "\n",
        "- Cost, Display, Batter: ratio scale\n"
      ]
    },
    {
      "cell_type": "markdown",
      "metadata": {},
      "source": [
        "## 3"
      ]
    },
    {
      "cell_type": "markdown",
      "metadata": {
        "id": "xFfIoOWr36jC"
      },
      "source": [
        "**3.a**"
      ]
    },
    {
      "cell_type": "code",
      "execution_count": null,
      "metadata": {
        "colab": {
          "base_uri": "https://localhost:8080/"
        },
        "id": "ovLS1X5mDDaO",
        "outputId": "0177a025-454c-43b3-b153-e5fd69bd84b2"
      },
      "outputs": [
        {
          "data": {
            "text/plain": [
              "0     9.731219\n",
              "1    19.494983\n",
              "2    11.681363\n",
              "3     6.777907\n",
              "4     8.726048\n",
              "5     6.483871\n",
              "6    10.998113\n",
              "7     9.879661\n",
              "8    11.102857\n",
              "9    16.191667\n",
              "Name: Cost ($), dtype: float64"
            ]
          },
          "execution_count": 51,
          "metadata": {},
          "output_type": "execute_result"
        }
      ],
      "source": [
        "# np.mean(tablets['Cost ($)'])\n",
        "np.sum(tablets['Cost ($)']) / tablets['Cost ($)']"
      ]
    },
    {
      "cell_type": "markdown",
      "metadata": {
        "id": "2Rbmw5RiQRgJ"
      },
      "source": [
        "**3.b**"
      ]
    },
    {
      "cell_type": "code",
      "execution_count": null,
      "metadata": {
        "colab": {
          "base_uri": "https://localhost:8080/"
        },
        "id": "CjtxUisYCZ76",
        "outputId": "31db0b04-9dc2-46e2-ed1b-3ed89ca576ee"
      },
      "outputs": [
        {
          "name": "stdout",
          "output_type": "stream",
          "text": [
            "723.2\n",
            "428.5\n"
          ]
        }
      ],
      "source": [
        "winOS  = tablets['Operating System'] == \"Windows\"\n",
        "adrOS = tablets['Operating System']  == 'Android'\n",
        "\n",
        "winSum = np.sum(tablets[winOS]['Cost ($)'])\n",
        "adrSum = np.sum(tablets.loc[adrOS, 'Cost ($)'])\n",
        "\n",
        "avgWin = winSum / len(tablets.loc[winOS])\n",
        "avgAdr = adrSum / len(tablets.loc[adrOS])\n",
        "\n",
        "print(avgWin)\n",
        "print(avgAdr)"
      ]
    },
    {
      "cell_type": "markdown",
      "metadata": {
        "id": "BRIOe2RWTWmj"
      },
      "source": [
        "**3.c**"
      ]
    },
    {
      "cell_type": "code",
      "execution_count": null,
      "metadata": {
        "colab": {
          "base_uri": "https://localhost:8080/"
        },
        "id": "zGpV62vmTZl5",
        "outputId": "1c209206-650c-4cc6-f861-46a71c5fc365"
      },
      "outputs": [
        {
          "data": {
            "text/plain": [
              "20.0"
            ]
          },
          "execution_count": 53,
          "metadata": {},
          "output_type": "execute_result"
        }
      ],
      "source": [
        "cpu = tablets['CPU Manufacturer'] == 'TI OMAP'\n",
        "( len(tablets.loc[cpu]) / len(tablets) ) * 100"
      ]
    },
    {
      "cell_type": "markdown",
      "metadata": {
        "id": "QkcKIb64WTd2"
      },
      "source": [
        "**3.d**"
      ]
    },
    {
      "cell_type": "code",
      "execution_count": null,
      "metadata": {
        "colab": {
          "base_uri": "https://localhost:8080/"
        },
        "id": "0Se2y6vBWXCQ",
        "outputId": "c75b2bba-8627-497e-de6e-fc10b827ff47"
      },
      "outputs": [
        {
          "data": {
            "text/plain": [
              "40.0"
            ]
          },
          "execution_count": 54,
          "metadata": {},
          "output_type": "execute_result"
        }
      ],
      "source": [
        "( len(tablets.loc[adrOS]) / len(tablets) ) * 100"
      ]
    },
    {
      "cell_type": "code",
      "execution_count": null,
      "metadata": {
        "colab": {
          "base_uri": "https://localhost:8080/",
          "height": 206
        },
        "id": "skpTq_4E2a8G",
        "outputId": "f1791f56-4e1c-4940-a6f3-c017593ecef2"
      },
      "outputs": [
        {
          "data": {
            "text/html": [
              "<div>\n",
              "<style scoped>\n",
              "    .dataframe tbody tr th:only-of-type {\n",
              "        vertical-align: middle;\n",
              "    }\n",
              "\n",
              "    .dataframe tbody tr th {\n",
              "        vertical-align: top;\n",
              "    }\n",
              "\n",
              "    .dataframe thead th {\n",
              "        text-align: right;\n",
              "    }\n",
              "</style>\n",
              "<table border=\"1\" class=\"dataframe\">\n",
              "  <thead>\n",
              "    <tr style=\"text-align: right;\">\n",
              "      <th></th>\n",
              "      <th>Brand</th>\n",
              "      <th>Model</th>\n",
              "      <th>Price ($)</th>\n",
              "      <th>Overall Score</th>\n",
              "      <th>Voice Quality</th>\n",
              "      <th>Talk Time (hours)</th>\n",
              "    </tr>\n",
              "  </thead>\n",
              "  <tbody>\n",
              "    <tr>\n",
              "      <th>0</th>\n",
              "      <td>AT&amp;T</td>\n",
              "      <td>CL84100</td>\n",
              "      <td>60</td>\n",
              "      <td>73</td>\n",
              "      <td>Excellent</td>\n",
              "      <td>7</td>\n",
              "    </tr>\n",
              "    <tr>\n",
              "      <th>1</th>\n",
              "      <td>AT&amp;T</td>\n",
              "      <td>TL92271</td>\n",
              "      <td>80</td>\n",
              "      <td>70</td>\n",
              "      <td>Very Good</td>\n",
              "      <td>7</td>\n",
              "    </tr>\n",
              "    <tr>\n",
              "      <th>2</th>\n",
              "      <td>Panasonic</td>\n",
              "      <td>4773B</td>\n",
              "      <td>100</td>\n",
              "      <td>78</td>\n",
              "      <td>Very Good</td>\n",
              "      <td>13</td>\n",
              "    </tr>\n",
              "    <tr>\n",
              "      <th>3</th>\n",
              "      <td>Panasonic</td>\n",
              "      <td>6592T</td>\n",
              "      <td>70</td>\n",
              "      <td>72</td>\n",
              "      <td>Very Good</td>\n",
              "      <td>13</td>\n",
              "    </tr>\n",
              "    <tr>\n",
              "      <th>4</th>\n",
              "      <td>Uniden</td>\n",
              "      <td>D2997</td>\n",
              "      <td>45</td>\n",
              "      <td>70</td>\n",
              "      <td>Very Good</td>\n",
              "      <td>10</td>\n",
              "    </tr>\n",
              "  </tbody>\n",
              "</table>\n",
              "</div>"
            ],
            "text/plain": [
              "       Brand     Model   Price ($)   Overall Score  Voice Quality   \\\n",
              "0       AT&T   CL84100           60              73     Excellent    \n",
              "1       AT&T   TL92271           80              70     Very Good    \n",
              "2  Panasonic     4773B          100              78     Very Good    \n",
              "3  Panasonic     6592T           70              72     Very Good    \n",
              "4     Uniden     D2997           45              70     Very Good    \n",
              "\n",
              "   Talk Time (hours)   \n",
              "0                   7  \n",
              "1                   7  \n",
              "2                  13  \n",
              "3                  13  \n",
              "4                  10  "
            ]
          },
          "execution_count": 55,
          "metadata": {},
          "output_type": "execute_result"
        }
      ],
      "source": [
        "phones = pd.read_csv('/home/zenbaei/Documents/Data_Statstics_Solutions_Notebooks/phones.csv')\n",
        "phones.head()\n"
      ]
    },
    {
      "cell_type": "code",
      "execution_count": null,
      "metadata": {
        "id": "DvQjw-9m4C5t"
      },
      "outputs": [],
      "source": [
        "phones = phones.rename(str.strip, axis='columns')\n",
        "\n",
        "for col in phones.columns:\n",
        "  #is_col_object_dtype = is_object_dtype(df[column])\n",
        "  if phones[col].dtype == object:\n",
        "    phones[col] = phones[col].str.strip()"
      ]
    },
    {
      "cell_type": "markdown",
      "metadata": {},
      "source": [
        "## 4"
      ]
    },
    {
      "cell_type": "markdown",
      "metadata": {
        "id": "bmwrj9Bd5CK2"
      },
      "source": [
        "**4.a**"
      ]
    },
    {
      "cell_type": "code",
      "execution_count": null,
      "metadata": {
        "colab": {
          "base_uri": "https://localhost:8080/"
        },
        "id": "iruXTEER5JvD",
        "outputId": "d6b533fe-294b-49f5-f1d5-1c4f05142d56"
      },
      "outputs": [
        {
          "data": {
            "text/plain": [
              "(8, 6)"
            ]
          },
          "execution_count": 57,
          "metadata": {},
          "output_type": "execute_result"
        }
      ],
      "source": [
        "phones.shape"
      ]
    },
    {
      "cell_type": "markdown",
      "metadata": {
        "id": "Rbhg2sBh6FYQ"
      },
      "source": [
        "**4.b**\n",
        "- Price, Overall Score, Talk Time: Quantative\n",
        "- Voice Quality: Categorical"
      ]
    },
    {
      "cell_type": "markdown",
      "metadata": {},
      "source": [
        "**4.c**\n",
        "- Model: Nominal\n",
        "- Voice Quality: Ordinal\n",
        "- Price, Talk Time: Ratio\n",
        "- Overall Score: Interval"
      ]
    },
    {
      "cell_type": "markdown",
      "metadata": {},
      "source": [
        "## 5"
      ]
    },
    {
      "cell_type": "markdown",
      "metadata": {
        "id": "rgZ8knv87UxC"
      },
      "source": [
        "**5.a**"
      ]
    },
    {
      "cell_type": "code",
      "execution_count": null,
      "metadata": {
        "colab": {
          "base_uri": "https://localhost:8080/"
        },
        "id": "Cm4XscRCA95y",
        "outputId": "5fa57aea-f3a0-4ec2-d329-68cec9a531c6"
      },
      "outputs": [
        {
          "data": {
            "text/plain": [
              "68.125"
            ]
          },
          "execution_count": 58,
          "metadata": {},
          "output_type": "execute_result"
        }
      ],
      "source": [
        "np.average(phones['Price ($)'])"
      ]
    },
    {
      "cell_type": "markdown",
      "metadata": {
        "id": "tElVILmrBgfp"
      },
      "source": [
        "**5.b**"
      ]
    },
    {
      "cell_type": "code",
      "execution_count": null,
      "metadata": {
        "colab": {
          "base_uri": "https://localhost:8080/"
        },
        "id": "8zdlSoobBnz4",
        "outputId": "20ae4e66-1cd0-4550-b100-c04eaa10657b"
      },
      "outputs": [
        {
          "data": {
            "text/plain": [
              "8.875"
            ]
          },
          "execution_count": 59,
          "metadata": {},
          "output_type": "execute_result"
        }
      ],
      "source": [
        "np.average(phones['Talk Time (hours)'])"
      ]
    },
    {
      "cell_type": "markdown",
      "metadata": {
        "id": "EGjWJKbwCejm"
      },
      "source": [
        "**5.c**"
      ]
    },
    {
      "cell_type": "code",
      "execution_count": null,
      "metadata": {
        "colab": {
          "base_uri": "https://localhost:8080/"
        },
        "id": "2dnQELL-CcWQ",
        "outputId": "72e299b3-58b3-4fc3-f2c8-3845942c869b"
      },
      "outputs": [
        {
          "data": {
            "text/plain": [
              "25.0"
            ]
          },
          "execution_count": 60,
          "metadata": {},
          "output_type": "execute_result"
        }
      ],
      "source": [
        "condition = phones['Voice Quality'] == 'Excellent'\n",
        "result = phones.loc[condition, 'Voice Quality']\n",
        "(result.size / len(phones['Voice Quality'])) * 100"
      ]
    },
    {
      "cell_type": "markdown",
      "metadata": {},
      "source": [
        "## **6**\n",
        "- Categorical\n",
        "- Ratio Quantative\n",
        "- Categorical Ordinal\n",
        "- Ration Quantative\n",
        "- Categorical Ordinal"
      ]
    },
    {
      "cell_type": "markdown",
      "metadata": {},
      "source": [
        "## **7**\n",
        "- Categorical\n",
        "- Nominal"
      ]
    },
    {
      "cell_type": "markdown",
      "metadata": {},
      "source": [
        "## **8**\n",
        "- 762\n",
        "- Categorical\n",
        "- Yes\n",
        "- 762*0.67 = 511"
      ]
    },
    {
      "cell_type": "markdown",
      "metadata": {},
      "source": [
        "## **9**\n",
        "- Categorical\n",
        "- 23+18+30= 71 -> 71/30 -> 42%"
      ]
    },
    {
      "cell_type": "markdown",
      "metadata": {},
      "source": [
        "## **10**\n",
        "\n",
        "- Categorical\n",
        "- Yes\n",
        "- 44+130+165+741 = 1080 -> 44/1080 * 100 = 4%\n",
        "- Against"
      ]
    },
    {
      "cell_type": "markdown",
      "metadata": {},
      "source": [
        "## 11\n",
        "\n",
        "295 -> for/\n",
        "672 -> against/\n",
        "51 -> no opinion\n",
        "\n",
        "- Categorical\n",
        "- 1018\n",
        "- 295/1080 = 27%\n",
        "- Against"
      ]
    },
    {
      "cell_type": "markdown",
      "metadata": {},
      "source": [
        "## 12\n",
        "- Huawaii Vistors\n",
        "- Yes\n",
        "- Quantative, Categorical, Categorical, Quantative"
      ]
    },
    {
      "cell_type": "markdown",
      "metadata": {},
      "source": [
        "## 13\n",
        "- Revenue\n",
        "- Quantative\n",
        "- Time Series\n",
        "- For 10 years the revenue increased by 60%"
      ]
    },
    {
      "cell_type": "markdown",
      "metadata": {},
      "source": [
        "## 14"
      ]
    },
    {
      "cell_type": "markdown",
      "metadata": {},
      "source": [
        "### 14.a"
      ]
    },
    {
      "cell_type": "code",
      "execution_count": null,
      "metadata": {},
      "outputs": [
        {
          "data": {
            "text/html": [
              "<div>\n",
              "<style scoped>\n",
              "    .dataframe tbody tr th:only-of-type {\n",
              "        vertical-align: middle;\n",
              "    }\n",
              "\n",
              "    .dataframe tbody tr th {\n",
              "        vertical-align: top;\n",
              "    }\n",
              "\n",
              "    .dataframe thead th {\n",
              "        text-align: right;\n",
              "    }\n",
              "</style>\n",
              "<table border=\"1\" class=\"dataframe\">\n",
              "  <thead>\n",
              "    <tr style=\"text-align: right;\">\n",
              "      <th></th>\n",
              "      <th>Hertz</th>\n",
              "      <th>Dollar</th>\n",
              "      <th>Avis</th>\n",
              "    </tr>\n",
              "  </thead>\n",
              "  <tbody>\n",
              "    <tr>\n",
              "      <th>2007</th>\n",
              "      <td>327</td>\n",
              "      <td>167</td>\n",
              "      <td>204</td>\n",
              "    </tr>\n",
              "    <tr>\n",
              "      <th>2008</th>\n",
              "      <td>311</td>\n",
              "      <td>140</td>\n",
              "      <td>220</td>\n",
              "    </tr>\n",
              "    <tr>\n",
              "      <th>2009</th>\n",
              "      <td>286</td>\n",
              "      <td>106</td>\n",
              "      <td>300</td>\n",
              "    </tr>\n",
              "    <tr>\n",
              "      <th>2010</th>\n",
              "      <td>290</td>\n",
              "      <td>108</td>\n",
              "      <td>270</td>\n",
              "    </tr>\n",
              "  </tbody>\n",
              "</table>\n",
              "</div>"
            ],
            "text/plain": [
              "      Hertz  Dollar  Avis\n",
              "2007    327     167   204\n",
              "2008    311     140   220\n",
              "2009    286     106   300\n",
              "2010    290     108   270"
            ]
          },
          "execution_count": 61,
          "metadata": {},
          "output_type": "execute_result"
        }
      ],
      "source": [
        "data = [(327, 167, 204),\n",
        "        (311, 140, 220),\n",
        "        (286, 106, 300),\n",
        "        (290, 108, 270)]\n",
        "years = ['2007', '2008', '2009', '2010']\n",
        "companies = pd.DataFrame(data, columns=['Hertz', 'Dollar', 'Avis'], index=years)\n",
        "\n",
        "companies.head()"
      ]
    },
    {
      "cell_type": "code",
      "execution_count": null,
      "metadata": {},
      "outputs": [
        {
          "data": {
            "text/plain": [
              "<matplotlib.legend.Legend at 0x7f3a418b27a0>"
            ]
          },
          "execution_count": 62,
          "metadata": {},
          "output_type": "execute_result"
        },
        {
          "data": {
            "image/png": "[encoded data removed]",
            "text/plain": [
              "<Figure size 640x480 with 1 Axes>"
            ]
          },
          "metadata": {},
          "output_type": "display_data"
        }
      ],
      "source": [
        "plt.xlabel('Years')\n",
        "plt.ylabel('Services')\n",
        "\n",
        "companies['Hertz'].plot(label='Hertz', color='orange')\n",
        "companies['Dollar'].plot(label='Dollar', color='green')\n",
        "companies['Avis'].plot(label='Avis', color='black')\n",
        "\n",
        "plt.title('Renting Companies Services')\n",
        "plt.legend()"
      ]
    },
    {
      "cell_type": "markdown",
      "metadata": {},
      "source": [
        "### 14.b-d\n",
        "- Hertz\n",
        "- It shows to be dropping in between 2007 and 2009 for Hertz and Dollar whereas Avis is steadly growing, then stable from 2009 to 2010 but dropping for Avis\n",
        "- Cross-sectional"
      ]
    },
    {
      "cell_type": "code",
      "execution_count": null,
      "metadata": {},
      "outputs": [
        {
          "data": {
            "text/plain": [
              "<Axes: >"
            ]
          },
          "execution_count": 63,
          "metadata": {},
          "output_type": "execute_result"
        },
        {
          "data": {
            "image/png": "[encoded data removed]",
            "text/plain": [
              "<Figure size 640x480 with 1 Axes>"
            ]
          },
          "metadata": {},
          "output_type": "display_data"
        }
      ],
      "source": [
        "cmps = ['Hertz', 'Dollar', 'Avis']\n",
        "companies.loc['2007'].plot.bar()"
      ]
    },
    {
      "cell_type": "markdown",
      "metadata": {},
      "source": [
        "## 15\n",
        "- Quantative\n",
        "- Time Series\n",
        "- July (1100)\n",
        "- 61/4730 * 100 = 1% --- 76/4730 * 100 = 2% (yes resonable because of the off season)\n",
        "- The accidents are high in general, specially during summer"
      ]
    },
    {
      "cell_type": "markdown",
      "metadata": {},
      "source": [
        "## 16"
      ]
    },
    {
      "cell_type": "markdown",
      "metadata": {},
      "source": [
        "### 16.a"
      ]
    },
    {
      "cell_type": "code",
      "execution_count": 59,
      "metadata": {},
      "outputs": [
        {
          "data": {
            "text/html": [
              "<div>\n",
              "<style scoped>\n",
              "    .dataframe tbody tr th:only-of-type {\n",
              "        vertical-align: middle;\n",
              "    }\n",
              "\n",
              "    .dataframe tbody tr th {\n",
              "        vertical-align: top;\n",
              "    }\n",
              "\n",
              "    .dataframe thead th {\n",
              "        text-align: right;\n",
              "    }\n",
              "</style>\n",
              "<table border=\"1\" class=\"dataframe\">\n",
              "  <thead>\n",
              "    <tr style=\"text-align: right;\">\n",
              "      <th></th>\n",
              "      <th>Date</th>\n",
              "      <th>Dollars per Gallon</th>\n",
              "    </tr>\n",
              "  </thead>\n",
              "  <tbody>\n",
              "    <tr>\n",
              "      <th>0</th>\n",
              "      <td>1990-08-15</td>\n",
              "      <td>NaN</td>\n",
              "    </tr>\n",
              "    <tr>\n",
              "      <th>1</th>\n",
              "      <td>1990-09-15</td>\n",
              "      <td>1.258</td>\n",
              "    </tr>\n",
              "    <tr>\n",
              "      <th>2</th>\n",
              "      <td>1990-10-15</td>\n",
              "      <td>1.335</td>\n",
              "    </tr>\n",
              "    <tr>\n",
              "      <th>3</th>\n",
              "      <td>1990-11-15</td>\n",
              "      <td>1.324</td>\n",
              "    </tr>\n",
              "    <tr>\n",
              "      <th>4</th>\n",
              "      <td>1990-12-15</td>\n",
              "      <td>NaN</td>\n",
              "    </tr>\n",
              "  </tbody>\n",
              "</table>\n",
              "</div>"
            ],
            "text/plain": [
              "        Date   Dollars per Gallon\n",
              "0 1990-08-15                  NaN\n",
              "1 1990-09-15                1.258\n",
              "2 1990-10-15                1.335\n",
              "3 1990-11-15                1.324\n",
              "4 1990-12-15                  NaN"
            ]
          },
          "execution_count": 59,
          "metadata": {},
          "output_type": "execute_result"
        }
      ],
      "source": [
        "gas = pd.read_excel('./EMM_EPMRU_PTE_NUS_DPGm.xls', sheet_name='Data 1'\n",
        "                    , skiprows=2)\n",
        "gas.rename(columns={gas.columns[1] :' Dollars per Gallon'},\n",
        "           inplace=True)\n",
        "gas.head()"
      ]
    },
    {
      "cell_type": "code",
      "execution_count": 61,
      "metadata": {},
      "outputs": [
        {
          "data": {
            "text/plain": [
              "<Axes: xlabel='Date', ylabel='Average Price Per Gallon'>"
            ]
          },
          "execution_count": 61,
          "metadata": {},
          "output_type": "execute_result"
        },
        {
          "data": {
            "image/png": "[encoded data removed]",
            "text/plain": [
              "<Figure size 2000x500 with 1 Axes>"
            ]
          },
          "metadata": {},
          "output_type": "display_data"
        }
      ],
      "source": [
        "#modified answer (I thought the plot is grouped by every 7 months)\n",
        "filterGas = gas.loc[gas['Date'].dt.year >= 2009].copy()\n",
        "grouped = filterGas.groupby(pd.Grouper(key='Date', freq='7M')).mean()\n",
        "grouped.index = grouped.index.strftime('%b-%y')\n",
        "grouped.plot(xticks=range(0, len(grouped.index)),figsize=(20, 5), ylim=(0, 4), ylabel=\"Average Price Per Gallon\"\n",
        "             , style=\"--ro\")"
      ]
    },
    {
      "cell_type": "code",
      "execution_count": null,
      "metadata": {},
      "outputs": [
        {
          "data": {
            "image/png": "[encoded data removed]",
            "text/plain": [
              "<Figure size 2000x500 with 1 Axes>"
            ]
          },
          "metadata": {},
          "output_type": "display_data"
        }
      ],
      "source": [
        "ax = filterGas.plot(x='Date', figsize=(20, 5), xticks=filterGas['Date'], style=\"--ro\")\n",
        "for index, label in enumerate(ax.xaxis.get_ticklabels()):\n",
        "    if index % 5 != 0:\n",
        "        label.set_visible(False)\n",
        "\n",
        "ax.xaxis.set_major_formatter(mdates.DateFormatter('%b-%Y'))\n"
      ]
    },
    {
      "cell_type": "markdown",
      "metadata": {},
      "source": [
        "### 16.b-c\n",
        "- The price dropped from 2014 average price to get the same price on 2021 then got higher and reached its highest price in 2022\n",
        "- not  always"
      ]
    },
    {
      "cell_type": "markdown",
      "metadata": {},
      "source": [
        "## 17\n",
        "- Internal Resources: company average salaries, the subordinate deparment's average salaries.\n",
        "- External Resources: Subordinate's job avg salaries in their city."
      ]
    },
    {
      "cell_type": "markdown",
      "metadata": {},
      "source": [
        "## 18\n",
        "- 684/1021 = 66%\n",
        "- 1021 * 0.60 = 613\n",
        "- Categorical"
      ]
    },
    {
      "cell_type": "markdown",
      "metadata": {},
      "source": [
        "## 19\n",
        "- North American Bloomberg Businessweek Subscribers\n",
        "- Quantative\n",
        "- Categorical\n",
        "- Cross-Sectional\n",
        "- North American have high incomes and we could target them by more ads or projects!"
      ]
    },
    {
      "cell_type": "markdown",
      "metadata": {},
      "source": [
        "## 20\n",
        "- Most managers don't have enough info on stock market. \n",
        "  Few consider the health sector to be the leading market for the next 12 months.\n",
        "- 11.2%\n",
        "- 2.5 year"
      ]
    },
    {
      "cell_type": "markdown",
      "metadata": {},
      "source": [
        "## 21\n",
        "- Women's mothers who took/don't took DES during pregnancy.\n",
        "- Survey\n",
        "- 3980 -> 63 === 1980/4 -> 63/4 = 16\n",
        "- \n",
        "- Because the issue concerns people health and they need to be ascertain "
      ]
    },
    {
      "cell_type": "markdown",
      "metadata": {},
      "source": [
        "## 22\n",
        "- A sample from our Denver clients selling their homes.\n",
        "- Surveying them about their resaons for moving, Where are they wishing to move, Facilities they are looking for."
      ]
    },
    {
      "cell_type": "markdown",
      "metadata": {},
      "source": [
        "## 23\n",
        "- American adults\n",
        "- Cell phones and tablets owners\n",
        "- Sample survey, \n",
        "- Yes interesting, based on this info I can make sure my data is available online and updated"
      ]
    },
    {
      "cell_type": "markdown",
      "metadata": {},
      "source": [
        "## 24\n",
        "- Correct\n",
        "- Generalized\n",
        "- Correct\n",
        "- Generalized\n",
        "- Generalized"
      ]
    },
    {
      "cell_type": "markdown",
      "metadata": {},
      "source": [
        "## 25"
      ]
    },
    {
      "cell_type": "code",
      "execution_count": null,
      "metadata": {},
      "outputs": [
        {
          "data": {
            "text/html": [
              "<div>\n",
              "<style scoped>\n",
              "    .dataframe tbody tr th:only-of-type {\n",
              "        vertical-align: middle;\n",
              "    }\n",
              "\n",
              "    .dataframe tbody tr th {\n",
              "        vertical-align: top;\n",
              "    }\n",
              "\n",
              "    .dataframe thead th {\n",
              "        text-align: right;\n",
              "    }\n",
              "</style>\n",
              "<table border=\"1\" class=\"dataframe\">\n",
              "  <thead>\n",
              "    <tr style=\"text-align: right;\">\n",
              "      <th></th>\n",
              "      <th>Company</th>\n",
              "      <th>Exchange</th>\n",
              "      <th>Ticker Symbol</th>\n",
              "      <th>Market Cap in millions</th>\n",
              "      <th>Price by Earnings Ratio</th>\n",
              "      <th>Profit Margin Percentage</th>\n",
              "    </tr>\n",
              "  </thead>\n",
              "  <tbody>\n",
              "    <tr>\n",
              "      <th>0</th>\n",
              "      <td>DeWolfe Companies</td>\n",
              "      <td>AMEX</td>\n",
              "      <td>DWL</td>\n",
              "      <td>36.4</td>\n",
              "      <td>8.4</td>\n",
              "      <td>36.7</td>\n",
              "    </tr>\n",
              "    <tr>\n",
              "      <th>1</th>\n",
              "      <td>North Coast Energy</td>\n",
              "      <td>OTC</td>\n",
              "      <td>NCEB</td>\n",
              "      <td>52.5</td>\n",
              "      <td>6.2</td>\n",
              "      <td>59.3</td>\n",
              "    </tr>\n",
              "    <tr>\n",
              "      <th>2</th>\n",
              "      <td>Hansen Natural Corp.</td>\n",
              "      <td>OTC</td>\n",
              "      <td>HANS</td>\n",
              "      <td>41.1</td>\n",
              "      <td>14.6</td>\n",
              "      <td>44.8</td>\n",
              "    </tr>\n",
              "    <tr>\n",
              "      <th>3</th>\n",
              "      <td>MarineMax, Inc.</td>\n",
              "      <td>NYSE</td>\n",
              "      <td>HZO</td>\n",
              "      <td>111.5</td>\n",
              "      <td>7.2</td>\n",
              "      <td>23.8</td>\n",
              "    </tr>\n",
              "    <tr>\n",
              "      <th>4</th>\n",
              "      <td>Nanometrics Incorporated</td>\n",
              "      <td>OTC</td>\n",
              "      <td>NANO</td>\n",
              "      <td>228.6</td>\n",
              "      <td>38.0</td>\n",
              "      <td>53.3</td>\n",
              "    </tr>\n",
              "  </tbody>\n",
              "</table>\n",
              "</div>"
            ],
            "text/plain": [
              "                    Company  Exchange Ticker Symbol   Market Cap in millions   \\\n",
              "0         DeWolfe Companies      AMEX           DWL                      36.4   \n",
              "1        North Coast Energy       OTC          NCEB                      52.5   \n",
              "2      Hansen Natural Corp.       OTC          HANS                      41.1   \n",
              "3           MarineMax, Inc.      NYSE           HZO                     111.5   \n",
              "4  Nanometrics Incorporated       OTC          NANO                     228.6   \n",
              "\n",
              "   Price by Earnings Ratio   Profit Margin Percentage  \n",
              "0                       8.4                      36.7  \n",
              "1                       6.2                      59.3  \n",
              "2                      14.6                      44.8  \n",
              "3                       7.2                      23.8  \n",
              "4                      38.0                      53.3  "
            ]
          },
          "execution_count": 67,
          "metadata": {},
          "output_type": "execute_result"
        }
      ],
      "source": [
        "shadow = pd.read_excel('/home/zenbaei/Documents/Data_Statstics_Solutions_Notebooks/Shadow_Stocks.xls')\n",
        "shadow['Exchange'] = shadow['Exchange'].str.strip()\n",
        "shadow.head()"
      ]
    },
    {
      "cell_type": "markdown",
      "metadata": {},
      "source": [
        "### 25.a-d\n",
        "- 5\n",
        "- Exchange - Ticker symbol are Categorical. Market - Price - Profit are Quantative"
      ]
    },
    {
      "cell_type": "code",
      "execution_count": null,
      "metadata": {},
      "outputs": [],
      "source": [
        "amex = len(shadow[shadow['Exchange'] == 'AMEX'])\n",
        "nyse = len(shadow[shadow['Exchange'] == 'NYSE'])\n",
        "otc = len(shadow[shadow['Exchange'] == 'OTC'])"
      ]
    },
    {
      "cell_type": "code",
      "execution_count": null,
      "metadata": {},
      "outputs": [
        {
          "data": {
            "text/plain": [
              "20.0"
            ]
          },
          "execution_count": 69,
          "metadata": {},
          "output_type": "execute_result"
        }
      ],
      "source": [
        "(len(shadow[shadow['Exchange'] == 'AMEX']) / len(shadow) ) * 100"
      ]
    },
    {
      "cell_type": "code",
      "execution_count": null,
      "metadata": {},
      "outputs": [
        {
          "data": {
            "text/html": [
              "<div>\n",
              "<style scoped>\n",
              "    .dataframe tbody tr th:only-of-type {\n",
              "        vertical-align: middle;\n",
              "    }\n",
              "\n",
              "    .dataframe tbody tr th {\n",
              "        vertical-align: top;\n",
              "    }\n",
              "\n",
              "    .dataframe thead th {\n",
              "        text-align: right;\n",
              "    }\n",
              "</style>\n",
              "<table border=\"1\" class=\"dataframe\">\n",
              "  <thead>\n",
              "    <tr style=\"text-align: right;\">\n",
              "      <th></th>\n",
              "      <th>Freq</th>\n",
              "    </tr>\n",
              "    <tr>\n",
              "      <th>Name</th>\n",
              "      <th></th>\n",
              "    </tr>\n",
              "  </thead>\n",
              "  <tbody>\n",
              "    <tr>\n",
              "      <th>AMEX</th>\n",
              "      <td>5</td>\n",
              "    </tr>\n",
              "    <tr>\n",
              "      <th>NYSE</th>\n",
              "      <td>3</td>\n",
              "    </tr>\n",
              "    <tr>\n",
              "      <th>OTC</th>\n",
              "      <td>17</td>\n",
              "    </tr>\n",
              "  </tbody>\n",
              "</table>\n",
              "</div>"
            ],
            "text/plain": [
              "      Freq\n",
              "Name      \n",
              "AMEX     5\n",
              "NYSE     3\n",
              "OTC     17"
            ]
          },
          "execution_count": 70,
          "metadata": {},
          "output_type": "execute_result"
        }
      ],
      "source": [
        "exchange = pd.DataFrame([('AMEX', amex), ('NYSE', nyse), ('OTC', otc)], columns=['Name', 'Freq'])\n",
        "exchange = exchange.set_index('Name')\n",
        "exchange.head()"
      ]
    },
    {
      "cell_type": "code",
      "execution_count": null,
      "metadata": {},
      "outputs": [
        {
          "data": {
            "text/plain": [
              "<Axes: xlabel='Name'>"
            ]
          },
          "execution_count": 71,
          "metadata": {},
          "output_type": "execute_result"
        },
        {
          "data": {
            "image/png": "[encoded data removed]",
            "text/plain": [
              "<Figure size 640x480 with 1 Axes>"
            ]
          },
          "metadata": {},
          "output_type": "display_data"
        }
      ],
      "source": [
        "exchange.plot(kind='bar')"
      ]
    },
    {
      "cell_type": "code",
      "execution_count": null,
      "metadata": {},
      "outputs": [
        {
          "data": {
            "text/plain": [
              "<Axes: xlabel='Profit Margin Percentage'>"
            ]
          },
          "execution_count": 72,
          "metadata": {},
          "output_type": "execute_result"
        },
        {
          "data": {
            "image/png": "[encoded data removed]",
            "text/plain": [
              "<Figure size 600x350 with 1 Axes>"
            ]
          },
          "metadata": {},
          "output_type": "display_data"
        }
      ],
      "source": [
        "bins = np.arange(0, 80, 15)\n",
        "#ax = pd.cut(shadow['Profit Margin Percentage'], bins= bins).value_counts().sort_index()\n",
        "#plt.bar(x=shadow['Profit Margin Percentage'])  \n",
        "\n",
        "fig, ax = plt.subplots(figsize=(6, 3.5))\n",
        "(\n",
        "    pd.cut(shadow['Profit Margin Percentage'], bins= bins)\n",
        "        .value_counts()\n",
        "        .sort_index()\n",
        "        .plot.bar(ax=ax, width=1, edgecolor='w')\n",
        ")\n",
        "\n",
        "\n"
      ]
    },
    {
      "cell_type": "code",
      "execution_count": null,
      "metadata": {},
      "outputs": [
        {
          "data": {
            "text/plain": [
              "20.215999999999998"
            ]
          },
          "execution_count": 73,
          "metadata": {},
          "output_type": "execute_result"
        }
      ],
      "source": [
        "np.average(shadow['Price by Earnings Ratio '])"
      ]
    },
    {
      "cell_type": "markdown",
      "metadata": {},
      "source": [
        "# Chapter 2"
      ]
    },
    {
      "cell_type": "markdown",
      "metadata": {},
      "source": [
        "### 1"
      ]
    },
    {
      "cell_type": "code",
      "execution_count": null,
      "metadata": {},
      "outputs": [
        {
          "data": {
            "text/html": [
              "<div>\n",
              "<style scoped>\n",
              "    .dataframe tbody tr th:only-of-type {\n",
              "        vertical-align: middle;\n",
              "    }\n",
              "\n",
              "    .dataframe tbody tr th {\n",
              "        vertical-align: top;\n",
              "    }\n",
              "\n",
              "    .dataframe thead th {\n",
              "        text-align: right;\n",
              "    }\n",
              "</style>\n",
              "<table border=\"1\" class=\"dataframe\">\n",
              "  <thead>\n",
              "    <tr style=\"text-align: right;\">\n",
              "      <th></th>\n",
              "      <th>Freq</th>\n",
              "    </tr>\n",
              "    <tr>\n",
              "      <th>Category</th>\n",
              "      <th></th>\n",
              "    </tr>\n",
              "  </thead>\n",
              "  <tbody>\n",
              "    <tr>\n",
              "      <th>A</th>\n",
              "      <td>60</td>\n",
              "    </tr>\n",
              "    <tr>\n",
              "      <th>B</th>\n",
              "      <td>24</td>\n",
              "    </tr>\n",
              "    <tr>\n",
              "      <th>C</th>\n",
              "      <td>36</td>\n",
              "    </tr>\n",
              "  </tbody>\n",
              "</table>\n",
              "</div>"
            ],
            "text/plain": [
              "          Freq\n",
              "Category      \n",
              "A           60\n",
              "B           24\n",
              "C           36"
            ]
          },
          "execution_count": 74,
          "metadata": {},
          "output_type": "execute_result"
        }
      ],
      "source": [
        "abc = pd.DataFrame([('A', 60), ('B', 24), ('C', 36)], columns=['Category', 'Freq'])\n",
        "abc = abc.set_index('Category')\n",
        "abc.head()"
      ]
    },
    {
      "cell_type": "code",
      "execution_count": null,
      "metadata": {},
      "outputs": [
        {
          "data": {
            "text/plain": [
              "Category\n",
              "A    0.5\n",
              "B    0.2\n",
              "C    0.3\n",
              "Name: Freq, dtype: float64"
            ]
          },
          "execution_count": 75,
          "metadata": {},
          "output_type": "execute_result"
        }
      ],
      "source": [
        "abc_rlt = abc['Freq']/120\n",
        "abc_rlt.head()"
      ]
    },
    {
      "cell_type": "markdown",
      "metadata": {},
      "source": [
        "## 2"
      ]
    },
    {
      "cell_type": "code",
      "execution_count": null,
      "metadata": {},
      "outputs": [
        {
          "data": {
            "text/html": [
              "<div>\n",
              "<style scoped>\n",
              "    .dataframe tbody tr th:only-of-type {\n",
              "        vertical-align: middle;\n",
              "    }\n",
              "\n",
              "    .dataframe tbody tr th {\n",
              "        vertical-align: top;\n",
              "    }\n",
              "\n",
              "    .dataframe thead th {\n",
              "        text-align: right;\n",
              "    }\n",
              "</style>\n",
              "<table border=\"1\" class=\"dataframe\">\n",
              "  <thead>\n",
              "    <tr style=\"text-align: right;\">\n",
              "      <th></th>\n",
              "      <th>A</th>\n",
              "      <th>B</th>\n",
              "      <th>C</th>\n",
              "    </tr>\n",
              "  </thead>\n",
              "  <tbody>\n",
              "    <tr>\n",
              "      <th>0</th>\n",
              "      <td>0.22</td>\n",
              "      <td>0.18</td>\n",
              "      <td>0.4</td>\n",
              "    </tr>\n",
              "  </tbody>\n",
              "</table>\n",
              "</div>"
            ],
            "text/plain": [
              "      A     B    C\n",
              "0  0.22  0.18  0.4"
            ]
          },
          "execution_count": 100,
          "metadata": {},
          "output_type": "execute_result"
        }
      ],
      "source": [
        "abcd = pd.DataFrame([{'A': .22, 'B': .18, 'C': .40}])\n",
        "abcd.head()"
      ]
    },
    {
      "cell_type": "markdown",
      "metadata": {},
      "source": [
        "### 2.a"
      ]
    },
    {
      "cell_type": "code",
      "execution_count": null,
      "metadata": {},
      "outputs": [
        {
          "data": {
            "text/plain": [
              "0    0.2\n",
              "dtype: float64"
            ]
          },
          "execution_count": 81,
          "metadata": {},
          "output_type": "execute_result"
        }
      ],
      "source": [
        "d = 1- (abcd['A'] + abcd['B'] + abcd['C'])\n",
        "d"
      ]
    },
    {
      "cell_type": "markdown",
      "metadata": {},
      "source": [
        "### 2.b"
      ]
    },
    {
      "cell_type": "code",
      "execution_count": null,
      "metadata": {},
      "outputs": [
        {
          "data": {
            "text/plain": [
              "0    40.0\n",
              "dtype: float64"
            ]
          },
          "execution_count": 82,
          "metadata": {},
          "output_type": "execute_result"
        }
      ],
      "source": [
        "d = d*200\n",
        "d"
      ]
    },
    {
      "cell_type": "markdown",
      "metadata": {},
      "source": [
        "### 2.c"
      ]
    },
    {
      "cell_type": "code",
      "execution_count": null,
      "metadata": {},
      "outputs": [
        {
          "data": {
            "text/html": [
              "<div>\n",
              "<style scoped>\n",
              "    .dataframe tbody tr th:only-of-type {\n",
              "        vertical-align: middle;\n",
              "    }\n",
              "\n",
              "    .dataframe tbody tr th {\n",
              "        vertical-align: top;\n",
              "    }\n",
              "\n",
              "    .dataframe thead th {\n",
              "        text-align: right;\n",
              "    }\n",
              "</style>\n",
              "<table border=\"1\" class=\"dataframe\">\n",
              "  <thead>\n",
              "    <tr style=\"text-align: right;\">\n",
              "      <th></th>\n",
              "      <th>A</th>\n",
              "      <th>B</th>\n",
              "      <th>C</th>\n",
              "      <th>D</th>\n",
              "    </tr>\n",
              "  </thead>\n",
              "  <tbody>\n",
              "    <tr>\n",
              "      <th>0</th>\n",
              "      <td>44.0</td>\n",
              "      <td>36.0</td>\n",
              "      <td>80.0</td>\n",
              "      <td>40.0</td>\n",
              "    </tr>\n",
              "  </tbody>\n",
              "</table>\n",
              "</div>"
            ],
            "text/plain": [
              "      A     B     C     D\n",
              "0  44.0  36.0  80.0  40.0"
            ]
          },
          "execution_count": 97,
          "metadata": {},
          "output_type": "execute_result"
        }
      ],
      "source": [
        "A = abcd['A'] * 200\n",
        "B = abcd['B'] * 200\n",
        "C = abcd['C'] * 200\n",
        "\n",
        "abcd_freq = pd.DataFrame({'A': A, 'B': B, 'C': C, 'D': d})\n",
        "\n",
        "abcd_freq.head()\n"
      ]
    },
    {
      "cell_type": "markdown",
      "metadata": {},
      "source": [
        "### 2.d"
      ]
    },
    {
      "cell_type": "code",
      "execution_count": null,
      "metadata": {},
      "outputs": [
        {
          "data": {
            "text/html": [
              "<div>\n",
              "<style scoped>\n",
              "    .dataframe tbody tr th:only-of-type {\n",
              "        vertical-align: middle;\n",
              "    }\n",
              "\n",
              "    .dataframe tbody tr th {\n",
              "        vertical-align: top;\n",
              "    }\n",
              "\n",
              "    .dataframe thead th {\n",
              "        text-align: right;\n",
              "    }\n",
              "</style>\n",
              "<table border=\"1\" class=\"dataframe\">\n",
              "  <thead>\n",
              "    <tr style=\"text-align: right;\">\n",
              "      <th></th>\n",
              "      <th>A</th>\n",
              "      <th>B</th>\n",
              "      <th>C</th>\n",
              "      <th>D</th>\n",
              "    </tr>\n",
              "  </thead>\n",
              "  <tbody>\n",
              "    <tr>\n",
              "      <th>0</th>\n",
              "      <td>22.0</td>\n",
              "      <td>18.0</td>\n",
              "      <td>40.0</td>\n",
              "      <td>20.0</td>\n",
              "    </tr>\n",
              "  </tbody>\n",
              "</table>\n",
              "</div>"
            ],
            "text/plain": [
              "      A     B     C     D\n",
              "0  22.0  18.0  40.0  20.0"
            ]
          },
          "execution_count": 101,
          "metadata": {},
          "output_type": "execute_result"
        }
      ],
      "source": [
        "abcd_pf = (abcd_freq / 200) * 100\n",
        "abcd_pf.head()"
      ]
    },
    {
      "cell_type": "markdown",
      "metadata": {},
      "source": [
        "## 3"
      ]
    },
    {
      "cell_type": "code",
      "execution_count": null,
      "metadata": {},
      "outputs": [
        {
          "data": {
            "text/html": [
              "<div>\n",
              "<style scoped>\n",
              "    .dataframe tbody tr th:only-of-type {\n",
              "        vertical-align: middle;\n",
              "    }\n",
              "\n",
              "    .dataframe tbody tr th {\n",
              "        vertical-align: top;\n",
              "    }\n",
              "\n",
              "    .dataframe thead th {\n",
              "        text-align: right;\n",
              "    }\n",
              "</style>\n",
              "<table border=\"1\" class=\"dataframe\">\n",
              "  <thead>\n",
              "    <tr style=\"text-align: right;\">\n",
              "      <th></th>\n",
              "      <th>Yes</th>\n",
              "      <th>No</th>\n",
              "      <th>no-opinion</th>\n",
              "    </tr>\n",
              "  </thead>\n",
              "  <tbody>\n",
              "    <tr>\n",
              "      <th>0</th>\n",
              "      <td>58</td>\n",
              "      <td>42</td>\n",
              "      <td>20</td>\n",
              "    </tr>\n",
              "  </tbody>\n",
              "</table>\n",
              "</div>"
            ],
            "text/plain": [
              "   Yes  No  no-opinion\n",
              "0   58  42          20"
            ]
          },
          "execution_count": 103,
          "metadata": {},
          "output_type": "execute_result"
        }
      ],
      "source": [
        "qst = pd.DataFrame([{'Yes': 58, 'No': 42, 'no-opinion': 20}])\n",
        "qst.head()"
      ]
    },
    {
      "cell_type": "markdown",
      "metadata": {},
      "source": [
        "### 3.a"
      ]
    },
    {
      "cell_type": "code",
      "execution_count": null,
      "metadata": {},
      "outputs": [
        {
          "data": {
            "text/plain": [
              "0    174.0\n",
              "Name: Yes, dtype: float64"
            ]
          },
          "execution_count": 112,
          "metadata": {},
          "output_type": "execute_result"
        }
      ],
      "source": [
        "360 * (qst['Yes'] / qst.iloc[0].sum())"
      ]
    },
    {
      "cell_type": "markdown",
      "metadata": {},
      "source": [
        "### 3.b"
      ]
    },
    {
      "cell_type": "code",
      "execution_count": null,
      "metadata": {},
      "outputs": [
        {
          "data": {
            "text/plain": [
              "0    126.0\n",
              "Name: No, dtype: float64"
            ]
          },
          "execution_count": 114,
          "metadata": {},
          "output_type": "execute_result"
        }
      ],
      "source": [
        "360 * (qst['No'] / qst.iloc[0].sum())"
      ]
    },
    {
      "cell_type": "markdown",
      "metadata": {},
      "source": [
        "### 3.c"
      ]
    },
    {
      "cell_type": "code",
      "execution_count": null,
      "metadata": {},
      "outputs": [
        {
          "data": {
            "text/plain": [
              "<Axes: ylabel='0'>"
            ]
          },
          "execution_count": 120,
          "metadata": {},
          "output_type": "execute_result"
        },
        {
          "data": {
            "image/png": "[encoded data removed]",
            "text/plain": [
              "<Figure size 640x480 with 1 Axes>"
            ]
          },
          "metadata": {},
          "output_type": "display_data"
        }
      ],
      "source": [
        "qst.iloc[0].plot(kind='pie')"
      ]
    },
    {
      "cell_type": "markdown",
      "metadata": {},
      "source": [
        "### 3.d"
      ]
    },
    {
      "cell_type": "code",
      "execution_count": null,
      "metadata": {},
      "outputs": [
        {
          "data": {
            "text/plain": [
              "<Axes: >"
            ]
          },
          "execution_count": 130,
          "metadata": {},
          "output_type": "execute_result"
        },
        {
          "data": {
            "image/png": "[encoded data removed]",
            "text/plain": [
              "<Figure size 640x480 with 1 Axes>"
            ]
          },
          "metadata": {},
          "output_type": "display_data"
        }
      ],
      "source": [
        "qst.iloc[0].plot(kind='bar', rot= 0)"
      ]
    },
    {
      "cell_type": "markdown",
      "metadata": {},
      "source": [
        "## 4"
      ]
    },
    {
      "cell_type": "code",
      "execution_count": null,
      "metadata": {},
      "outputs": [
        {
          "data": {
            "text/html": [
              "<div>\n",
              "<style scoped>\n",
              "    .dataframe tbody tr th:only-of-type {\n",
              "        vertical-align: middle;\n",
              "    }\n",
              "\n",
              "    .dataframe tbody tr th {\n",
              "        vertical-align: top;\n",
              "    }\n",
              "\n",
              "    .dataframe thead th {\n",
              "        text-align: right;\n",
              "    }\n",
              "</style>\n",
              "<table border=\"1\" class=\"dataframe\">\n",
              "  <thead>\n",
              "    <tr style=\"text-align: right;\">\n",
              "      <th></th>\n",
              "      <th>show</th>\n",
              "    </tr>\n",
              "  </thead>\n",
              "  <tbody>\n",
              "    <tr>\n",
              "      <th>0</th>\n",
              "      <td>WOF</td>\n",
              "    </tr>\n",
              "    <tr>\n",
              "      <th>1</th>\n",
              "      <td>THM</td>\n",
              "    </tr>\n",
              "    <tr>\n",
              "      <th>2</th>\n",
              "      <td>JEP</td>\n",
              "    </tr>\n",
              "    <tr>\n",
              "      <th>3</th>\n",
              "      <td>WOF</td>\n",
              "    </tr>\n",
              "    <tr>\n",
              "      <th>4</th>\n",
              "      <td>THM</td>\n",
              "    </tr>\n",
              "  </tbody>\n",
              "</table>\n",
              "</div>"
            ],
            "text/plain": [
              "   show\n",
              "0  WOF \n",
              "1  THM \n",
              "2  JEP \n",
              "3  WOF \n",
              "4  THM "
            ]
          },
          "execution_count": 229,
          "metadata": {},
          "output_type": "execute_result"
        }
      ],
      "source": [
        "synd_prog = pd.read_csv('syndicated_programs.csv', header=None, names=['show'])\n",
        "synd_prog['show'] = synd_prog['show'].str.upper()\n",
        "synd_prog.head()"
      ]
    },
    {
      "cell_type": "markdown",
      "metadata": {},
      "source": [
        "### 4.a"
      ]
    },
    {
      "cell_type": "code",
      "execution_count": null,
      "metadata": {},
      "outputs": [
        {
          "data": {
            "text/html": [
              "<div>\n",
              "<style scoped>\n",
              "    .dataframe tbody tr th:only-of-type {\n",
              "        vertical-align: middle;\n",
              "    }\n",
              "\n",
              "    .dataframe tbody tr th {\n",
              "        vertical-align: top;\n",
              "    }\n",
              "\n",
              "    .dataframe thead th {\n",
              "        text-align: right;\n",
              "    }\n",
              "</style>\n",
              "<table border=\"1\" class=\"dataframe\">\n",
              "  <thead>\n",
              "    <tr style=\"text-align: right;\">\n",
              "      <th></th>\n",
              "      <th>show</th>\n",
              "      <th>counts</th>\n",
              "    </tr>\n",
              "  </thead>\n",
              "  <tbody>\n",
              "    <tr>\n",
              "      <th>0</th>\n",
              "      <td>WOF</td>\n",
              "      <td>13</td>\n",
              "    </tr>\n",
              "    <tr>\n",
              "      <th>1</th>\n",
              "      <td>THM</td>\n",
              "      <td>12</td>\n",
              "    </tr>\n",
              "    <tr>\n",
              "      <th>2</th>\n",
              "      <td>JEP</td>\n",
              "      <td>10</td>\n",
              "    </tr>\n",
              "    <tr>\n",
              "      <th>3</th>\n",
              "      <td>JJ</td>\n",
              "      <td>8</td>\n",
              "    </tr>\n",
              "    <tr>\n",
              "      <th>4</th>\n",
              "      <td>OWS</td>\n",
              "      <td>7</td>\n",
              "    </tr>\n",
              "  </tbody>\n",
              "</table>\n",
              "</div>"
            ],
            "text/plain": [
              "   show  counts\n",
              "0  WOF       13\n",
              "1  THM       12\n",
              "2  JEP       10\n",
              "3   JJ        8\n",
              "4  OWS        7"
            ]
          },
          "execution_count": 230,
          "metadata": {},
          "output_type": "execute_result"
        }
      ],
      "source": [
        "#synd_prog_frq = synd_prog.value_counts().to_frame()\n",
        "synd_prog_frq = synd_prog.value_counts().rename_axis('show').reset_index(name='counts')\n",
        "synd_prog_frq"
      ]
    },
    {
      "cell_type": "code",
      "execution_count": null,
      "metadata": {},
      "outputs": [
        {
          "data": {
            "text/html": [
              "<div>\n",
              "<style scoped>\n",
              "    .dataframe tbody tr th:only-of-type {\n",
              "        vertical-align: middle;\n",
              "    }\n",
              "\n",
              "    .dataframe tbody tr th {\n",
              "        vertical-align: top;\n",
              "    }\n",
              "\n",
              "    .dataframe thead th {\n",
              "        text-align: right;\n",
              "    }\n",
              "</style>\n",
              "<table border=\"1\" class=\"dataframe\">\n",
              "  <thead>\n",
              "    <tr style=\"text-align: right;\">\n",
              "      <th></th>\n",
              "      <th>show</th>\n",
              "      <th>counts</th>\n",
              "    </tr>\n",
              "  </thead>\n",
              "  <tbody>\n",
              "    <tr>\n",
              "      <th>0</th>\n",
              "      <td>WOF</td>\n",
              "      <td>26.0</td>\n",
              "    </tr>\n",
              "    <tr>\n",
              "      <th>1</th>\n",
              "      <td>THM</td>\n",
              "      <td>24.0</td>\n",
              "    </tr>\n",
              "    <tr>\n",
              "      <th>2</th>\n",
              "      <td>JEP</td>\n",
              "      <td>20.0</td>\n",
              "    </tr>\n",
              "    <tr>\n",
              "      <th>3</th>\n",
              "      <td>JJ</td>\n",
              "      <td>16.0</td>\n",
              "    </tr>\n",
              "    <tr>\n",
              "      <th>4</th>\n",
              "      <td>OWS</td>\n",
              "      <td>14.0</td>\n",
              "    </tr>\n",
              "  </tbody>\n",
              "</table>\n",
              "</div>"
            ],
            "text/plain": [
              "   show  counts\n",
              "0  WOF     26.0\n",
              "1  THM     24.0\n",
              "2  JEP     20.0\n",
              "3   JJ     16.0\n",
              "4  OWS     14.0"
            ]
          },
          "execution_count": 231,
          "metadata": {},
          "output_type": "execute_result"
        }
      ],
      "source": [
        "synd_prog_prc_frq = synd_prog_frq.copy()\n",
        "synd_prog_prc_frq['counts'] = (synd_prog_prc_frq['counts'] / synd_prog.size) * 100\n",
        "synd_prog_prc_frq\n"
      ]
    },
    {
      "cell_type": "markdown",
      "metadata": {},
      "source": [
        "### 4.c"
      ]
    },
    {
      "cell_type": "code",
      "execution_count": null,
      "metadata": {},
      "outputs": [
        {
          "data": {
            "image/png": "[encoded data removed]",
            "text/plain": [
              "<Figure size 1000x400 with 2 Axes>"
            ]
          },
          "metadata": {},
          "output_type": "display_data"
        }
      ],
      "source": [
        "fig, axs = plt.subplots(ncols=2, figsize= (10, 4))\n",
        "axs[0].set_ylim(0, 14)\n",
        "axs[0].bar(synd_prog_frq['show'], synd_prog_frq['counts'])\n",
        "axs[1].pie(synd_prog_frq['counts'], labels=synd_prog_frq['show'], autopct='%1.1f%%')\n",
        "plt.show()"
      ]
    },
    {
      "cell_type": "markdown",
      "metadata": {},
      "source": [
        "## 11"
      ]
    },
    {
      "cell_type": "code",
      "execution_count": null,
      "metadata": {},
      "outputs": [
        {
          "data": {
            "text/html": [
              "<div>\n",
              "<style scoped>\n",
              "    .dataframe tbody tr th:only-of-type {\n",
              "        vertical-align: middle;\n",
              "    }\n",
              "\n",
              "    .dataframe tbody tr th {\n",
              "        vertical-align: top;\n",
              "    }\n",
              "\n",
              "    .dataframe thead th {\n",
              "        text-align: right;\n",
              "    }\n",
              "</style>\n",
              "<table border=\"1\" class=\"dataframe\">\n",
              "  <thead>\n",
              "    <tr style=\"text-align: right;\">\n",
              "      <th></th>\n",
              "      <th>0</th>\n",
              "      <th>1</th>\n",
              "      <th>2</th>\n",
              "      <th>3</th>\n",
              "      <th>4</th>\n",
              "    </tr>\n",
              "  </thead>\n",
              "  <tbody>\n",
              "    <tr>\n",
              "      <th>0</th>\n",
              "      <td>14</td>\n",
              "      <td>21</td>\n",
              "      <td>23</td>\n",
              "      <td>21</td>\n",
              "      <td>16</td>\n",
              "    </tr>\n",
              "    <tr>\n",
              "      <th>1</th>\n",
              "      <td>19</td>\n",
              "      <td>22</td>\n",
              "      <td>25</td>\n",
              "      <td>16</td>\n",
              "      <td>16</td>\n",
              "    </tr>\n",
              "    <tr>\n",
              "      <th>2</th>\n",
              "      <td>24</td>\n",
              "      <td>24</td>\n",
              "      <td>25</td>\n",
              "      <td>19</td>\n",
              "      <td>16</td>\n",
              "    </tr>\n",
              "    <tr>\n",
              "      <th>3</th>\n",
              "      <td>19</td>\n",
              "      <td>18</td>\n",
              "      <td>19</td>\n",
              "      <td>21</td>\n",
              "      <td>12</td>\n",
              "    </tr>\n",
              "    <tr>\n",
              "      <th>4</th>\n",
              "      <td>16</td>\n",
              "      <td>17</td>\n",
              "      <td>18</td>\n",
              "      <td>23</td>\n",
              "      <td>25</td>\n",
              "    </tr>\n",
              "  </tbody>\n",
              "</table>\n",
              "</div>"
            ],
            "text/plain": [
              "    0   1   2   3   4\n",
              "0  14  21  23  21  16\n",
              "1  19  22  25  16  16\n",
              "2  24  24  25  19  16\n",
              "3  19  18  19  21  12\n",
              "4  16  17  18  23  25"
            ]
          },
          "execution_count": 182,
          "metadata": {},
          "output_type": "execute_result"
        }
      ],
      "source": [
        "import pandas as pd;\n",
        "import numpy as np;\n",
        "\n",
        "freq_dist = pd.read_csv('freq-dist-classes.csv', header=None)\n",
        "freq_dist.head()"
      ]
    },
    {
      "cell_type": "code",
      "execution_count": null,
      "metadata": {},
      "outputs": [
        {
          "data": {
            "text/plain": [
              "0  0    14\n",
              "   1    21\n",
              "   2    23\n",
              "   3    21\n",
              "   4    16\n",
              "1  0    19\n",
              "   1    22\n",
              "   2    25\n",
              "   3    16\n",
              "   4    16\n",
              "dtype: int64"
            ]
          },
          "execution_count": 179,
          "metadata": {},
          "output_type": "execute_result"
        }
      ],
      "source": [
        "freq_dist_stk = freq_dist.stack()\n",
        "freq_dist_stk.head(10)"
      ]
    },
    {
      "cell_type": "code",
      "execution_count": null,
      "metadata": {},
      "outputs": [
        {
          "data": {
            "text/plain": [
              "0     14\n",
              "1     21\n",
              "2     23\n",
              "3     21\n",
              "4     16\n",
              "5     19\n",
              "6     22\n",
              "7     25\n",
              "8     16\n",
              "9     16\n",
              "10    24\n",
              "11    24\n",
              "12    25\n",
              "13    19\n",
              "14    16\n",
              "15    19\n",
              "16    18\n",
              "17    19\n",
              "18    21\n",
              "19    12\n",
              "20    16\n",
              "21    17\n",
              "22    18\n",
              "23    23\n",
              "24    25\n",
              "25    20\n",
              "26    23\n",
              "27    16\n",
              "28    20\n",
              "29    19\n",
              "30    24\n",
              "31    26\n",
              "32    15\n",
              "33    22\n",
              "34    24\n",
              "35    20\n",
              "36    22\n",
              "37    24\n",
              "38    22\n",
              "39    20\n",
              "dtype: int64"
            ]
          },
          "execution_count": 180,
          "metadata": {},
          "output_type": "execute_result"
        }
      ],
      "source": [
        "freq_dist_stk.reset_index(drop=True, inplace=True)\n",
        "freq_dist_stk"
      ]
    },
    {
      "cell_type": "code",
      "execution_count": null,
      "metadata": {},
      "outputs": [
        {
          "data": {
            "text/plain": [
              "12    1\n",
              "14    1\n",
              "15    1\n",
              "16    6\n",
              "17    1\n",
              "18    2\n",
              "19    5\n",
              "20    4\n",
              "21    3\n",
              "22    4\n",
              "23    3\n",
              "24    5\n",
              "25    3\n",
              "26    1\n",
              "Name: count, dtype: int64"
            ]
          },
          "execution_count": 211,
          "metadata": {},
          "output_type": "execute_result"
        }
      ],
      "source": [
        "freq_dist_stk.value_counts().sort_index()"
      ]
    },
    {
      "cell_type": "markdown",
      "metadata": {},
      "source": [
        "### 11.a"
      ]
    },
    {
      "cell_type": "code",
      "execution_count": null,
      "metadata": {},
      "outputs": [
        {
          "data": {
            "text/plain": [
              "(11, 15]     3\n",
              "(15, 18]     9\n",
              "(18, 21]    12\n",
              "(21, 24]    12\n",
              "(24, 27]     4\n",
              "Name: count, dtype: int64"
            ]
          },
          "execution_count": 222,
          "metadata": {},
          "output_type": "execute_result"
        }
      ],
      "source": [
        "df = freq_dist_stk.to_frame()\n",
        "output = pd.cut(freq_dist_stk, bins = np.arange(12, 28, 3), include_lowest=True, precision=0).value_counts().sort_index()\n",
        "output"
      ]
    },
    {
      "cell_type": "markdown",
      "metadata": {},
      "source": [
        "### 11.b"
      ]
    },
    {
      "cell_type": "code",
      "execution_count": null,
      "metadata": {},
      "outputs": [
        {
          "data": {
            "text/html": [
              "<div>\n",
              "<style scoped>\n",
              "    .dataframe tbody tr th:only-of-type {\n",
              "        vertical-align: middle;\n",
              "    }\n",
              "\n",
              "    .dataframe tbody tr th {\n",
              "        vertical-align: top;\n",
              "    }\n",
              "\n",
              "    .dataframe thead th {\n",
              "        text-align: right;\n",
              "    }\n",
              "</style>\n",
              "<table border=\"1\" class=\"dataframe\">\n",
              "  <thead>\n",
              "    <tr style=\"text-align: right;\">\n",
              "      <th></th>\n",
              "      <th>freq</th>\n",
              "    </tr>\n",
              "  </thead>\n",
              "  <tbody>\n",
              "    <tr>\n",
              "      <th>(11, 15]</th>\n",
              "      <td>3</td>\n",
              "    </tr>\n",
              "    <tr>\n",
              "      <th>(15, 18]</th>\n",
              "      <td>9</td>\n",
              "    </tr>\n",
              "    <tr>\n",
              "      <th>(18, 21]</th>\n",
              "      <td>12</td>\n",
              "    </tr>\n",
              "    <tr>\n",
              "      <th>(21, 24]</th>\n",
              "      <td>12</td>\n",
              "    </tr>\n",
              "    <tr>\n",
              "      <th>(24, 27]</th>\n",
              "      <td>4</td>\n",
              "    </tr>\n",
              "  </tbody>\n",
              "</table>\n",
              "</div>"
            ],
            "text/plain": [
              "          freq\n",
              "(11, 15]     3\n",
              "(15, 18]     9\n",
              "(18, 21]    12\n",
              "(21, 24]    12\n",
              "(24, 27]     4"
            ]
          },
          "execution_count": 223,
          "metadata": {},
          "output_type": "execute_result"
        }
      ],
      "source": [
        "df = pd.DataFrame(output)\n",
        "df.rename(columns={'count': 'freq'}, inplace=True)\n",
        "df"
      ]
    },
    {
      "cell_type": "code",
      "execution_count": null,
      "metadata": {},
      "outputs": [
        {
          "data": {
            "text/html": [
              "<div>\n",
              "<style scoped>\n",
              "    .dataframe tbody tr th:only-of-type {\n",
              "        vertical-align: middle;\n",
              "    }\n",
              "\n",
              "    .dataframe tbody tr th {\n",
              "        vertical-align: top;\n",
              "    }\n",
              "\n",
              "    .dataframe thead th {\n",
              "        text-align: right;\n",
              "    }\n",
              "</style>\n",
              "<table border=\"1\" class=\"dataframe\">\n",
              "  <thead>\n",
              "    <tr style=\"text-align: right;\">\n",
              "      <th></th>\n",
              "      <th>freq</th>\n",
              "      <th>relative</th>\n",
              "    </tr>\n",
              "  </thead>\n",
              "  <tbody>\n",
              "    <tr>\n",
              "      <th>(11, 15]</th>\n",
              "      <td>3</td>\n",
              "      <td>0.075</td>\n",
              "    </tr>\n",
              "    <tr>\n",
              "      <th>(15, 18]</th>\n",
              "      <td>9</td>\n",
              "      <td>0.225</td>\n",
              "    </tr>\n",
              "    <tr>\n",
              "      <th>(18, 21]</th>\n",
              "      <td>12</td>\n",
              "      <td>0.300</td>\n",
              "    </tr>\n",
              "    <tr>\n",
              "      <th>(21, 24]</th>\n",
              "      <td>12</td>\n",
              "      <td>0.300</td>\n",
              "    </tr>\n",
              "    <tr>\n",
              "      <th>(24, 27]</th>\n",
              "      <td>4</td>\n",
              "      <td>0.100</td>\n",
              "    </tr>\n",
              "  </tbody>\n",
              "</table>\n",
              "</div>"
            ],
            "text/plain": [
              "          freq  relative\n",
              "(11, 15]     3     0.075\n",
              "(15, 18]     9     0.225\n",
              "(18, 21]    12     0.300\n",
              "(21, 24]    12     0.300\n",
              "(24, 27]     4     0.100"
            ]
          },
          "execution_count": 229,
          "metadata": {},
          "output_type": "execute_result"
        }
      ],
      "source": [
        "df['relative'] = df['freq'] / freq_dist_stk.size\n",
        "df"
      ]
    },
    {
      "cell_type": "code",
      "execution_count": null,
      "metadata": {},
      "outputs": [
        {
          "data": {
            "text/html": [
              "<div>\n",
              "<style scoped>\n",
              "    .dataframe tbody tr th:only-of-type {\n",
              "        vertical-align: middle;\n",
              "    }\n",
              "\n",
              "    .dataframe tbody tr th {\n",
              "        vertical-align: top;\n",
              "    }\n",
              "\n",
              "    .dataframe thead th {\n",
              "        text-align: right;\n",
              "    }\n",
              "</style>\n",
              "<table border=\"1\" class=\"dataframe\">\n",
              "  <thead>\n",
              "    <tr style=\"text-align: right;\">\n",
              "      <th></th>\n",
              "      <th>freq</th>\n",
              "      <th>relative</th>\n",
              "      <th>percent</th>\n",
              "    </tr>\n",
              "  </thead>\n",
              "  <tbody>\n",
              "    <tr>\n",
              "      <th>(11, 15]</th>\n",
              "      <td>3</td>\n",
              "      <td>0.075</td>\n",
              "      <td>7.5</td>\n",
              "    </tr>\n",
              "    <tr>\n",
              "      <th>(15, 18]</th>\n",
              "      <td>9</td>\n",
              "      <td>0.225</td>\n",
              "      <td>22.5</td>\n",
              "    </tr>\n",
              "    <tr>\n",
              "      <th>(18, 21]</th>\n",
              "      <td>12</td>\n",
              "      <td>0.300</td>\n",
              "      <td>30.0</td>\n",
              "    </tr>\n",
              "    <tr>\n",
              "      <th>(21, 24]</th>\n",
              "      <td>12</td>\n",
              "      <td>0.300</td>\n",
              "      <td>30.0</td>\n",
              "    </tr>\n",
              "    <tr>\n",
              "      <th>(24, 27]</th>\n",
              "      <td>4</td>\n",
              "      <td>0.100</td>\n",
              "      <td>10.0</td>\n",
              "    </tr>\n",
              "  </tbody>\n",
              "</table>\n",
              "</div>"
            ],
            "text/plain": [
              "          freq  relative  percent\n",
              "(11, 15]     3     0.075      7.5\n",
              "(15, 18]     9     0.225     22.5\n",
              "(18, 21]    12     0.300     30.0\n",
              "(21, 24]    12     0.300     30.0\n",
              "(24, 27]     4     0.100     10.0"
            ]
          },
          "execution_count": 232,
          "metadata": {},
          "output_type": "execute_result"
        }
      ],
      "source": [
        "df['percent'] = df['relative'] * 100\n",
        "df"
      ]
    },
    {
      "cell_type": "markdown",
      "metadata": {},
      "source": [
        "## 12"
      ]
    },
    {
      "cell_type": "code",
      "execution_count": null,
      "metadata": {},
      "outputs": [
        {
          "data": {
            "text/html": [
              "<div>\n",
              "<style scoped>\n",
              "    .dataframe tbody tr th:only-of-type {\n",
              "        vertical-align: middle;\n",
              "    }\n",
              "\n",
              "    .dataframe tbody tr th {\n",
              "        vertical-align: top;\n",
              "    }\n",
              "\n",
              "    .dataframe thead th {\n",
              "        text-align: right;\n",
              "    }\n",
              "</style>\n",
              "<table border=\"1\" class=\"dataframe\">\n",
              "  <thead>\n",
              "    <tr style=\"text-align: right;\">\n",
              "      <th></th>\n",
              "      <th>Class</th>\n",
              "      <th>Frequency</th>\n",
              "      <th>Cumulative_Frq</th>\n",
              "    </tr>\n",
              "  </thead>\n",
              "  <tbody>\n",
              "    <tr>\n",
              "      <th>0</th>\n",
              "      <td>10–19</td>\n",
              "      <td>10</td>\n",
              "      <td>0</td>\n",
              "    </tr>\n",
              "    <tr>\n",
              "      <th>1</th>\n",
              "      <td>20–29</td>\n",
              "      <td>14</td>\n",
              "      <td>0</td>\n",
              "    </tr>\n",
              "    <tr>\n",
              "      <th>2</th>\n",
              "      <td>30–39</td>\n",
              "      <td>17</td>\n",
              "      <td>0</td>\n",
              "    </tr>\n",
              "    <tr>\n",
              "      <th>3</th>\n",
              "      <td>40–49</td>\n",
              "      <td>7</td>\n",
              "      <td>0</td>\n",
              "    </tr>\n",
              "    <tr>\n",
              "      <th>4</th>\n",
              "      <td>50–59</td>\n",
              "      <td>2</td>\n",
              "      <td>0</td>\n",
              "    </tr>\n",
              "  </tbody>\n",
              "</table>\n",
              "</div>"
            ],
            "text/plain": [
              "   Class   Frequency   Cumulative_Frq\n",
              "0  10–19           10               0\n",
              "1  20–29           14               0\n",
              "2  30–39           17               0\n",
              "3  40–49            7               0\n",
              "4  50–59            2               0"
            ]
          },
          "execution_count": 265,
          "metadata": {},
          "output_type": "execute_result"
        }
      ],
      "source": [
        "freq_dist_12 = pd.read_csv('freq_dist_12.csv')\n",
        "freq_dist_12['Cumulative_Frq'] = 0\n",
        "freq_dist_12"
      ]
    },
    {
      "cell_type": "code",
      "execution_count": null,
      "metadata": {},
      "outputs": [
        {
          "data": {
            "text/html": [
              "<div>\n",
              "<style scoped>\n",
              "    .dataframe tbody tr th:only-of-type {\n",
              "        vertical-align: middle;\n",
              "    }\n",
              "\n",
              "    .dataframe tbody tr th {\n",
              "        vertical-align: top;\n",
              "    }\n",
              "\n",
              "    .dataframe thead th {\n",
              "        text-align: right;\n",
              "    }\n",
              "</style>\n",
              "<table border=\"1\" class=\"dataframe\">\n",
              "  <thead>\n",
              "    <tr style=\"text-align: right;\">\n",
              "      <th></th>\n",
              "      <th>Class</th>\n",
              "      <th>Frequency</th>\n",
              "      <th>Cumulative_Frq</th>\n",
              "    </tr>\n",
              "  </thead>\n",
              "  <tbody>\n",
              "    <tr>\n",
              "      <th>0</th>\n",
              "      <td>10–19</td>\n",
              "      <td>10</td>\n",
              "      <td>10</td>\n",
              "    </tr>\n",
              "    <tr>\n",
              "      <th>1</th>\n",
              "      <td>20–29</td>\n",
              "      <td>14</td>\n",
              "      <td>24</td>\n",
              "    </tr>\n",
              "    <tr>\n",
              "      <th>2</th>\n",
              "      <td>30–39</td>\n",
              "      <td>17</td>\n",
              "      <td>41</td>\n",
              "    </tr>\n",
              "    <tr>\n",
              "      <th>3</th>\n",
              "      <td>40–49</td>\n",
              "      <td>7</td>\n",
              "      <td>48</td>\n",
              "    </tr>\n",
              "    <tr>\n",
              "      <th>4</th>\n",
              "      <td>50–59</td>\n",
              "      <td>2</td>\n",
              "      <td>50</td>\n",
              "    </tr>\n",
              "  </tbody>\n",
              "</table>\n",
              "</div>"
            ],
            "text/plain": [
              "   Class   Frequency   Cumulative_Frq\n",
              "0  10–19           10              10\n",
              "1  20–29           14              24\n",
              "2  30–39           17              41\n",
              "3  40–49            7              48\n",
              "4  50–59            2              50"
            ]
          },
          "execution_count": 266,
          "metadata": {},
          "output_type": "execute_result"
        }
      ],
      "source": [
        "total = 0;\n",
        "for idx, row in freq_dist_12.iterrows():\n",
        "    total = total + freq_dist_12.iloc[idx, 1]\n",
        "    freq_dist_12.iloc[idx, 2] = total\n",
        "freq_dist_12"
      ]
    },
    {
      "cell_type": "code",
      "execution_count": null,
      "metadata": {},
      "outputs": [
        {
          "data": {
            "text/html": [
              "<div>\n",
              "<style scoped>\n",
              "    .dataframe tbody tr th:only-of-type {\n",
              "        vertical-align: middle;\n",
              "    }\n",
              "\n",
              "    .dataframe tbody tr th {\n",
              "        vertical-align: top;\n",
              "    }\n",
              "\n",
              "    .dataframe thead th {\n",
              "        text-align: right;\n",
              "    }\n",
              "</style>\n",
              "<table border=\"1\" class=\"dataframe\">\n",
              "  <thead>\n",
              "    <tr style=\"text-align: right;\">\n",
              "      <th></th>\n",
              "      <th>Class</th>\n",
              "      <th>Frequency</th>\n",
              "      <th>Cumulative_Frq</th>\n",
              "      <th>Relavtive_Cum_Frq</th>\n",
              "    </tr>\n",
              "  </thead>\n",
              "  <tbody>\n",
              "    <tr>\n",
              "      <th>0</th>\n",
              "      <td>10–19</td>\n",
              "      <td>10</td>\n",
              "      <td>10</td>\n",
              "      <td>0.20</td>\n",
              "    </tr>\n",
              "    <tr>\n",
              "      <th>1</th>\n",
              "      <td>20–29</td>\n",
              "      <td>14</td>\n",
              "      <td>24</td>\n",
              "      <td>0.48</td>\n",
              "    </tr>\n",
              "    <tr>\n",
              "      <th>2</th>\n",
              "      <td>30–39</td>\n",
              "      <td>17</td>\n",
              "      <td>41</td>\n",
              "      <td>0.82</td>\n",
              "    </tr>\n",
              "    <tr>\n",
              "      <th>3</th>\n",
              "      <td>40–49</td>\n",
              "      <td>7</td>\n",
              "      <td>48</td>\n",
              "      <td>0.96</td>\n",
              "    </tr>\n",
              "    <tr>\n",
              "      <th>4</th>\n",
              "      <td>50–59</td>\n",
              "      <td>2</td>\n",
              "      <td>50</td>\n",
              "      <td>1.00</td>\n",
              "    </tr>\n",
              "  </tbody>\n",
              "</table>\n",
              "</div>"
            ],
            "text/plain": [
              "   Class   Frequency   Cumulative_Frq  Relavtive_Cum_Frq\n",
              "0  10–19           10              10               0.20\n",
              "1  20–29           14              24               0.48\n",
              "2  30–39           17              41               0.82\n",
              "3  40–49            7              48               0.96\n",
              "4  50–59            2              50               1.00"
            ]
          },
          "execution_count": 268,
          "metadata": {},
          "output_type": "execute_result"
        }
      ],
      "source": [
        "n = freq_dist_12['Frequency '].sum()\n",
        "freq_dist_12['Relavtive_Cum_Frq'] = freq_dist_12['Cumulative_Frq'] / n\n",
        "freq_dist_12"
      ]
    },
    {
      "cell_type": "markdown",
      "metadata": {},
      "source": [
        "## 13"
      ]
    },
    {
      "cell_type": "code",
      "execution_count": null,
      "metadata": {},
      "outputs": [
        {
          "data": {
            "image/png": "[encoded data removed]",
            "text/plain": [
              "<Figure size 640x480 with 1 Axes>"
            ]
          },
          "metadata": {},
          "output_type": "display_data"
        }
      ],
      "source": [
        "import matplotlib.pyplot as plt;\n",
        "\n",
        "fig, ax = plt.subplots()\n",
        "ax = plt.hist(freq_dist_12['Frequency '], bins = 5)\n",
        "plt.show()"
      ]
    },
    {
      "cell_type": "markdown",
      "metadata": {},
      "source": [
        "## Plecian Store Case"
      ]
    },
    {
      "cell_type": "code",
      "execution_count": 51,
      "metadata": {},
      "outputs": [
        {
          "data": {
            "text/html": [
              "<div>\n",
              "<style scoped>\n",
              "    .dataframe tbody tr th:only-of-type {\n",
              "        vertical-align: middle;\n",
              "    }\n",
              "\n",
              "    .dataframe tbody tr th {\n",
              "        vertical-align: top;\n",
              "    }\n",
              "\n",
              "    .dataframe thead th {\n",
              "        text-align: right;\n",
              "    }\n",
              "</style>\n",
              "<table border=\"1\" class=\"dataframe\">\n",
              "  <thead>\n",
              "    <tr style=\"text-align: right;\">\n",
              "      <th></th>\n",
              "      <th>Customer</th>\n",
              "      <th>Type of Customer</th>\n",
              "      <th>Items</th>\n",
              "      <th>Net Sales</th>\n",
              "      <th>Method of Payment</th>\n",
              "      <th>Gender</th>\n",
              "      <th>Marital Status</th>\n",
              "      <th>Age</th>\n",
              "    </tr>\n",
              "  </thead>\n",
              "  <tbody>\n",
              "    <tr>\n",
              "      <th>0</th>\n",
              "      <td>1</td>\n",
              "      <td>Regular</td>\n",
              "      <td>1</td>\n",
              "      <td>39.5</td>\n",
              "      <td>Discover</td>\n",
              "      <td>Male</td>\n",
              "      <td>Married</td>\n",
              "      <td>32</td>\n",
              "    </tr>\n",
              "    <tr>\n",
              "      <th>1</th>\n",
              "      <td>2</td>\n",
              "      <td>Promotional</td>\n",
              "      <td>1</td>\n",
              "      <td>102.4</td>\n",
              "      <td>Proprietary Card</td>\n",
              "      <td>Female</td>\n",
              "      <td>Married</td>\n",
              "      <td>36</td>\n",
              "    </tr>\n",
              "    <tr>\n",
              "      <th>2</th>\n",
              "      <td>3</td>\n",
              "      <td>Regular</td>\n",
              "      <td>1</td>\n",
              "      <td>22.5</td>\n",
              "      <td>Proprietary Card</td>\n",
              "      <td>Female</td>\n",
              "      <td>Married</td>\n",
              "      <td>32</td>\n",
              "    </tr>\n",
              "    <tr>\n",
              "      <th>3</th>\n",
              "      <td>4</td>\n",
              "      <td>Promotional</td>\n",
              "      <td>5</td>\n",
              "      <td>100.4</td>\n",
              "      <td>Proprietary Card</td>\n",
              "      <td>Female</td>\n",
              "      <td>Married</td>\n",
              "      <td>28</td>\n",
              "    </tr>\n",
              "    <tr>\n",
              "      <th>4</th>\n",
              "      <td>5</td>\n",
              "      <td>Regular</td>\n",
              "      <td>2</td>\n",
              "      <td>54.0</td>\n",
              "      <td>MasterCard</td>\n",
              "      <td>Female</td>\n",
              "      <td>Married</td>\n",
              "      <td>34</td>\n",
              "    </tr>\n",
              "  </tbody>\n",
              "</table>\n",
              "</div>"
            ],
            "text/plain": [
              "   Customer Type of Customer  Items  Net Sales Method of Payment  Gender  \\\n",
              "0         1          Regular      1       39.5          Discover    Male   \n",
              "1         2      Promotional      1      102.4  Proprietary Card  Female   \n",
              "2         3          Regular      1       22.5  Proprietary Card  Female   \n",
              "3         4      Promotional      5      100.4  Proprietary Card  Female   \n",
              "4         5          Regular      2       54.0        MasterCard  Female   \n",
              "\n",
              "  Marital Status  Age  \n",
              "0        Married   32  \n",
              "1        Married   36  \n",
              "2        Married   32  \n",
              "3        Married   28  \n",
              "4        Married   34  "
            ]
          },
          "execution_count": 51,
          "metadata": {},
          "output_type": "execute_result"
        }
      ],
      "source": [
        "import pandas as pd;\n",
        "import matplotlib.pyplot as plt;\n",
        "import numpy as np;\n",
        "\n",
        "pelicansStore = pd.read_csv(\"./PelicanStores.csv\")\n",
        "## drop columns by index\n",
        "pelicansStore.drop(pelicansStore.iloc[:, 8 : 13], inplace=True, axis=1)\n",
        "pelicansStore.head()"
      ]
    },
    {
      "cell_type": "markdown",
      "metadata": {},
      "source": [
        "### 1"
      ]
    },
    {
      "cell_type": "code",
      "execution_count": 24,
      "metadata": {},
      "outputs": [
        {
          "data": {
            "text/html": [
              "<div>\n",
              "<style scoped>\n",
              "    .dataframe tbody tr th:only-of-type {\n",
              "        vertical-align: middle;\n",
              "    }\n",
              "\n",
              "    .dataframe tbody tr th {\n",
              "        vertical-align: top;\n",
              "    }\n",
              "\n",
              "    .dataframe thead th {\n",
              "        text-align: right;\n",
              "    }\n",
              "</style>\n",
              "<table border=\"1\" class=\"dataframe\">\n",
              "  <thead>\n",
              "    <tr style=\"text-align: right;\">\n",
              "      <th></th>\n",
              "      <th>Net Sales</th>\n",
              "      <th>count</th>\n",
              "      <th>Sales Percentage</th>\n",
              "    </tr>\n",
              "    <tr>\n",
              "      <th>Type of Customer</th>\n",
              "      <th></th>\n",
              "      <th></th>\n",
              "      <th></th>\n",
              "    </tr>\n",
              "  </thead>\n",
              "  <tbody>\n",
              "    <tr>\n",
              "      <th>Promotional</th>\n",
              "      <td>5900.30</td>\n",
              "      <td>70</td>\n",
              "      <td>76.034304</td>\n",
              "    </tr>\n",
              "    <tr>\n",
              "      <th>Regular</th>\n",
              "      <td>1859.75</td>\n",
              "      <td>30</td>\n",
              "      <td>23.965696</td>\n",
              "    </tr>\n",
              "  </tbody>\n",
              "</table>\n",
              "</div>"
            ],
            "text/plain": [
              "                  Net Sales  count  Sales Percentage\n",
              "Type of Customer                                    \n",
              "Promotional         5900.30     70         76.034304\n",
              "Regular             1859.75     30         23.965696"
            ]
          },
          "execution_count": 24,
          "metadata": {},
          "output_type": "execute_result"
        }
      ],
      "source": [
        "## Promotional customer numbers during the promotion had a higher sales comparing to regular customers\n",
        "## Rename groupby columns\n",
        "typeOfCustomers = pelicansStore.groupby(['Type of Customer'])[\"Net Sales\"].agg([\"sum\", \"count\"]).rename(columns={'sum': 'Net Sales'})\n",
        "## Refrencing dataframe column from within apply\n",
        "typeOfCustomers['Sales Percentage'] = typeOfCustomers.apply(lambda x : (x['Net Sales'] / pelicansStore['Net Sales'].sum()) * 100, axis = 'columns')\n",
        "typeOfCustomers"
      ]
    },
    {
      "cell_type": "code",
      "execution_count": 107,
      "metadata": {},
      "outputs": [
        {
          "data": {
            "text/plain": [
              "Method of Payment\n",
              "American Express     1.428571\n",
              "MasterCard          10.000000\n",
              "Proprietary Card    81.428571\n",
              "Visa                 7.142857\n",
              "Name: Customer, dtype: float64"
            ]
          },
          "execution_count": 107,
          "metadata": {},
          "output_type": "execute_result"
        }
      ],
      "source": [
        "## select by condition, there is also numpy where func\n",
        "promoCust = pelicansStore[pelicansStore['Type of Customer'] == 'Promotional']\n",
        "promoCust.groupby(['Method of Payment'])[\"Customer\"].count().apply(lambda x : (x / len(promoCust)) * 100)\n",
        "## I wanted to count non Property Card Method of Payment by checking them, but they say no way to access Series index within apply(), so promote it to column\n",
        "\n",
        "## By Looking at the number of promotinal customers, the ones with Propreitary Card (Customers of other National Clothes) \n",
        "# got attracted to the promotion and had the higher of purchase number with 81%"
      ]
    },
    {
      "cell_type": "markdown",
      "metadata": {},
      "source": [
        "### 2"
      ]
    },
    {
      "cell_type": "code",
      "execution_count": 48,
      "metadata": {},
      "outputs": [
        {
          "data": {
            "text/plain": [
              "<Axes: ylabel='Net Sales'>"
            ]
          },
          "execution_count": 48,
          "metadata": {},
          "output_type": "execute_result"
        },
        {
          "data": {
            "image/png": "[encoded data removed]",
            "text/plain": [
              "<Figure size 640x480 with 1 Axes>"
            ]
          },
          "metadata": {},
          "output_type": "display_data"
        }
      ],
      "source": [
        "pelicansStore.groupby(['Method of Payment'])['Net Sales'].sum().plot.pie(autopct=\"%.1f%%\") ## autopct takes string format. .1 means one decimal flot and show percentage with %% one for escape"
      ]
    },
    {
      "cell_type": "markdown",
      "metadata": {},
      "source": [
        "### 3"
      ]
    },
    {
      "cell_type": "code",
      "execution_count": 118,
      "metadata": {},
      "outputs": [
        {
          "data": {
            "text/html": [
              "<div>\n",
              "<style scoped>\n",
              "    .dataframe tbody tr th:only-of-type {\n",
              "        vertical-align: middle;\n",
              "    }\n",
              "\n",
              "    .dataframe tbody tr th {\n",
              "        vertical-align: top;\n",
              "    }\n",
              "\n",
              "    .dataframe thead th {\n",
              "        text-align: right;\n",
              "    }\n",
              "</style>\n",
              "<table border=\"1\" class=\"dataframe\">\n",
              "  <thead>\n",
              "    <tr style=\"text-align: right;\">\n",
              "      <th>Type of Customer</th>\n",
              "      <th>Promotional</th>\n",
              "      <th>Regular</th>\n",
              "    </tr>\n",
              "    <tr>\n",
              "      <th>Net Sales</th>\n",
              "      <th></th>\n",
              "      <th></th>\n",
              "    </tr>\n",
              "  </thead>\n",
              "  <tbody>\n",
              "    <tr>\n",
              "      <th>[0.0, 25.0)</th>\n",
              "      <td>7</td>\n",
              "      <td>2</td>\n",
              "    </tr>\n",
              "    <tr>\n",
              "      <th>[25.0, 50.0)</th>\n",
              "      <td>17</td>\n",
              "      <td>13</td>\n",
              "    </tr>\n",
              "    <tr>\n",
              "      <th>[50.0, 75.0)</th>\n",
              "      <td>17</td>\n",
              "      <td>8</td>\n",
              "    </tr>\n",
              "    <tr>\n",
              "      <th>[75.0, 100.0)</th>\n",
              "      <td>8</td>\n",
              "      <td>2</td>\n",
              "    </tr>\n",
              "    <tr>\n",
              "      <th>[100.0, 125.0)</th>\n",
              "      <td>9</td>\n",
              "      <td>3</td>\n",
              "    </tr>\n",
              "    <tr>\n",
              "      <th>[125.0, 150.0)</th>\n",
              "      <td>3</td>\n",
              "      <td>1</td>\n",
              "    </tr>\n",
              "    <tr>\n",
              "      <th>[150.0, 175.0)</th>\n",
              "      <td>2</td>\n",
              "      <td>1</td>\n",
              "    </tr>\n",
              "    <tr>\n",
              "      <th>[175.0, 200.0)</th>\n",
              "      <td>3</td>\n",
              "      <td>0</td>\n",
              "    </tr>\n",
              "    <tr>\n",
              "      <th>[225.0, 250.0)</th>\n",
              "      <td>1</td>\n",
              "      <td>0</td>\n",
              "    </tr>\n",
              "    <tr>\n",
              "      <th>[250.0, 275.0)</th>\n",
              "      <td>2</td>\n",
              "      <td>0</td>\n",
              "    </tr>\n",
              "    <tr>\n",
              "      <th>[275.0, 300.0)</th>\n",
              "      <td>1</td>\n",
              "      <td>0</td>\n",
              "    </tr>\n",
              "  </tbody>\n",
              "</table>\n",
              "</div>"
            ],
            "text/plain": [
              "Type of Customer  Promotional  Regular\n",
              "Net Sales                             \n",
              "[0.0, 25.0)                 7        2\n",
              "[25.0, 50.0)               17       13\n",
              "[50.0, 75.0)               17        8\n",
              "[75.0, 100.0)               8        2\n",
              "[100.0, 125.0)              9        3\n",
              "[125.0, 150.0)              3        1\n",
              "[150.0, 175.0)              2        1\n",
              "[175.0, 200.0)              3        0\n",
              "[225.0, 250.0)              1        0\n",
              "[250.0, 275.0)              2        0\n",
              "[275.0, 300.0)              1        0"
            ]
          },
          "execution_count": 118,
          "metadata": {},
          "output_type": "execute_result"
        }
      ],
      "source": [
        "bins = np.arange(0, pelicansStore['Net Sales'].max() + 25, 25)\n",
        "# labels = [f'[{a},{b-1}]' for a, b in zip(bins, bins[1:])]\n",
        "out = pd.cut(pelicansStore['Net Sales'], bins = bins, precision=0, right=False) #.value_counts()\n",
        "pd.crosstab(out, pelicansStore['Type of Customer'])\n",
        "## how crosstab is able to match the net sales range to count on each row, every element in the 'out' is an interval data type, \n",
        "## so that's how it's used to check if net sales fall within it or not\n",
        "\n"
      ]
    },
    {
      "cell_type": "code",
      "execution_count": 47,
      "metadata": {},
      "outputs": [
        {
          "data": {
            "image/png": "[encoded data removed]",
            "text/plain": [
              "<Figure size 1000x480 with 1 Axes>"
            ]
          },
          "metadata": {},
          "output_type": "display_data"
        }
      ],
      "source": [
        "salesByAge = pelicansStore.groupby(['Age'])['Net Sales'].sum().to_frame()\n",
        "\n",
        "## use index for plotting, this doesn't work\n",
        "# salesByAge.plot.scatter(x= salesByAge['Net Sales'], y = salesByAge.index)\n",
        "plt.figure().set_figwidth(10)\n",
        "plt.scatter(salesByAge['Net Sales'], salesByAge.index)\n",
        "plt.xlabel('Sales');\n",
        "plt.ylabel('Age')\n",
        "plt.show()\n",
        "\n",
        "## The average sales price are brought by the age category of 30 to 50, as people get older they tend to buy cheaper cloth"
      ]
    },
    {
      "cell_type": "markdown",
      "metadata": {},
      "source": [
        "## Motion Picture Industry"
      ]
    },
    {
      "cell_type": "code",
      "execution_count": 105,
      "metadata": {},
      "outputs": [
        {
          "data": {
            "text/html": [
              "<div>\n",
              "<style scoped>\n",
              "    .dataframe tbody tr th:only-of-type {\n",
              "        vertical-align: middle;\n",
              "    }\n",
              "\n",
              "    .dataframe tbody tr th {\n",
              "        vertical-align: top;\n",
              "    }\n",
              "\n",
              "    .dataframe thead th {\n",
              "        text-align: right;\n",
              "    }\n",
              "</style>\n",
              "<table border=\"1\" class=\"dataframe\">\n",
              "  <thead>\n",
              "    <tr style=\"text-align: right;\">\n",
              "      <th></th>\n",
              "      <th>Motion Picture</th>\n",
              "      <th>Opening Gross</th>\n",
              "      <th>Total Gross</th>\n",
              "      <th>Number of Theaters</th>\n",
              "      <th>Weeks in Release</th>\n",
              "    </tr>\n",
              "  </thead>\n",
              "  <tbody>\n",
              "    <tr>\n",
              "      <th>0</th>\n",
              "      <td>Harry Potter and the Deathly Hallows Part 2</td>\n",
              "      <td>169.19</td>\n",
              "      <td>381.01</td>\n",
              "      <td>4,375</td>\n",
              "      <td>19</td>\n",
              "    </tr>\n",
              "    <tr>\n",
              "      <th>1</th>\n",
              "      <td>Transformers: Dark of the Moon</td>\n",
              "      <td>97.85</td>\n",
              "      <td>352.39</td>\n",
              "      <td>4,088</td>\n",
              "      <td>15</td>\n",
              "    </tr>\n",
              "    <tr>\n",
              "      <th>2</th>\n",
              "      <td>The Twilight Saga: Breaking Dawn Part 1</td>\n",
              "      <td>138.12</td>\n",
              "      <td>281.29</td>\n",
              "      <td>4,066</td>\n",
              "      <td>14</td>\n",
              "    </tr>\n",
              "    <tr>\n",
              "      <th>3</th>\n",
              "      <td>The Hangover Part II</td>\n",
              "      <td>85.95</td>\n",
              "      <td>254.46</td>\n",
              "      <td>3,675</td>\n",
              "      <td>16</td>\n",
              "    </tr>\n",
              "    <tr>\n",
              "      <th>4</th>\n",
              "      <td>Pirates of the Caribbean: On Stranger Tides</td>\n",
              "      <td>90.15</td>\n",
              "      <td>241.07</td>\n",
              "      <td>4,164</td>\n",
              "      <td>19</td>\n",
              "    </tr>\n",
              "  </tbody>\n",
              "</table>\n",
              "</div>"
            ],
            "text/plain": [
              "                                Motion Picture  Opening Gross  Total Gross  \\\n",
              "0  Harry Potter and the Deathly Hallows Part 2         169.19       381.01   \n",
              "1               Transformers: Dark of the Moon          97.85       352.39   \n",
              "2      The Twilight Saga: Breaking Dawn Part 1         138.12       281.29   \n",
              "3                         The Hangover Part II          85.95       254.46   \n",
              "4  Pirates of the Caribbean: On Stranger Tides          90.15       241.07   \n",
              "\n",
              "  Number of Theaters  Weeks in Release  \n",
              "0              4,375                19  \n",
              "1              4,088                15  \n",
              "2              4,066                14  \n",
              "3              3,675                16  \n",
              "4              4,164                19  "
            ]
          },
          "execution_count": 105,
          "metadata": {},
          "output_type": "execute_result"
        }
      ],
      "source": [
        "import pandas as pd;\n",
        "import matplotlib.pyplot as plt;\n",
        "import numpy as np;\n",
        "import seaborn as sns;\n",
        "\n",
        "movies = pd.read_csv('./2011Movies.CSV')\n",
        "movies.rename(columns={'Opening Gross Sales ($millions)' : 'Opening Gross', \n",
        "                       'Total Gross Sales ($millions)' : 'Total Gross'}, \n",
        "                       inplace=True)\n",
        "\n",
        "movies.head()"
      ]
    },
    {
      "cell_type": "markdown",
      "metadata": {},
      "source": [
        "### 1 Check Opening Gross"
      ]
    },
    {
      "cell_type": "code",
      "execution_count": 293,
      "metadata": {},
      "outputs": [
        {
          "data": {
            "text/plain": [
              "0                NaN\n",
              "1      (75.0, 100.0]\n",
              "2     (125.0, 150.0]\n",
              "3      (75.0, 100.0]\n",
              "4      (75.0, 100.0]\n",
              "           ...      \n",
              "95    (-0.001, 25.0]\n",
              "96    (-0.001, 25.0]\n",
              "97    (-0.001, 25.0]\n",
              "98    (-0.001, 25.0]\n",
              "99    (-0.001, 25.0]\n",
              "Name: Opening Gross, Length: 100, dtype: category\n",
              "Categories (6, interval[float64, right]): [(-0.001, 25.0] < (25.0, 50.0] < (50.0, 75.0] < (75.0, 100.0] < (100.0, 125.0] < (125.0, 150.0]]"
            ]
          },
          "execution_count": 293,
          "metadata": {},
          "output_type": "execute_result"
        }
      ],
      "source": [
        "# Openning Gross Sales\n",
        "# for creating discrete bins manually use bins = pd.IntervalIndex.from_tuples([(0, 9.9), (10, 19.9), (20, 29.9), (30, 39.9)])\n",
        "bins = np.arange(0, 175, 25)\n",
        "out = pd.cut(movies['Opening Gross'], bins=bins, include_lowest=True)\n",
        "## cut function return a Category object with Interval data type that i cannot figure out how to plot when used as a column in a dataframe"
      ]
    },
    {
      "cell_type": "code",
      "execution_count": 310,
      "metadata": {},
      "outputs": [
        {
          "ename": "TypeError",
          "evalue": "'<' not supported between instances of 'pandas._libs.interval.Interval' and 'float'",
          "output_type": "error",
          "traceback": [
            "\u001b[0;31m---------------------------------------------------------------------------\u001b[0m",
            "\u001b[0;31mTypeError\u001b[0m                                 Traceback (most recent call last)",
            "\u001b[1;32m/Users/islam/Documents/Data_Statstics_Solutions_Notebooks/Statistics_4_Business_Solutions.ipynb Cell 133\u001b[0m line \u001b[0;36m3\n\u001b[1;32m      <a href='vscode-notebook-cell:/Users/islam/Documents/Data_Statstics_Solutions_Notebooks/Statistics_4_Business_Solutions.ipynb#Y266sZmlsZQ%3D%3D?line=0'>1</a>\u001b[0m \u001b[39m## Same as crosstab\u001b[39;00m\n\u001b[1;32m      <a href='vscode-notebook-cell:/Users/islam/Documents/Data_Statstics_Solutions_Notebooks/Statistics_4_Business_Solutions.ipynb#Y266sZmlsZQ%3D%3D?line=1'>2</a>\u001b[0m out\u001b[39m.\u001b[39mvalue_counts()\u001b[39m.\u001b[39msort_index()\n\u001b[0;32m----> <a href='vscode-notebook-cell:/Users/islam/Documents/Data_Statstics_Solutions_Notebooks/Statistics_4_Business_Solutions.ipynb#Y266sZmlsZQ%3D%3D?line=2'>3</a>\u001b[0m out\u001b[39m.\u001b[39;49mhist()\n",
            "File \u001b[0;32m/usr/local/lib/python3.9/site-packages/pandas/plotting/_core.py:125\u001b[0m, in \u001b[0;36mhist_series\u001b[0;34m(self, by, ax, grid, xlabelsize, xrot, ylabelsize, yrot, figsize, bins, backend, legend, **kwargs)\u001b[0m\n\u001b[1;32m     58\u001b[0m \u001b[39m\u001b[39m\u001b[39m\"\"\"\u001b[39;00m\n\u001b[1;32m     59\u001b[0m \u001b[39mDraw histogram of the input series using matplotlib.\u001b[39;00m\n\u001b[1;32m     60\u001b[0m \n\u001b[0;32m   (...)\u001b[0m\n\u001b[1;32m    122\u001b[0m \u001b[39m    >>> hist = ser.groupby(level=0).hist()\u001b[39;00m\n\u001b[1;32m    123\u001b[0m \u001b[39m\"\"\"\u001b[39;00m\n\u001b[1;32m    124\u001b[0m plot_backend \u001b[39m=\u001b[39m _get_plot_backend(backend)\n\u001b[0;32m--> 125\u001b[0m \u001b[39mreturn\u001b[39;00m plot_backend\u001b[39m.\u001b[39;49mhist_series(\n\u001b[1;32m    126\u001b[0m     \u001b[39mself\u001b[39;49m,\n\u001b[1;32m    127\u001b[0m     by\u001b[39m=\u001b[39;49mby,\n\u001b[1;32m    128\u001b[0m     ax\u001b[39m=\u001b[39;49max,\n\u001b[1;32m    129\u001b[0m     grid\u001b[39m=\u001b[39;49mgrid,\n\u001b[1;32m    130\u001b[0m     xlabelsize\u001b[39m=\u001b[39;49mxlabelsize,\n\u001b[1;32m    131\u001b[0m     xrot\u001b[39m=\u001b[39;49mxrot,\n\u001b[1;32m    132\u001b[0m     ylabelsize\u001b[39m=\u001b[39;49mylabelsize,\n\u001b[1;32m    133\u001b[0m     yrot\u001b[39m=\u001b[39;49myrot,\n\u001b[1;32m    134\u001b[0m     figsize\u001b[39m=\u001b[39;49mfigsize,\n\u001b[1;32m    135\u001b[0m     bins\u001b[39m=\u001b[39;49mbins,\n\u001b[1;32m    136\u001b[0m     legend\u001b[39m=\u001b[39;49mlegend,\n\u001b[1;32m    137\u001b[0m     \u001b[39m*\u001b[39;49m\u001b[39m*\u001b[39;49mkwargs,\n\u001b[1;32m    138\u001b[0m )\n",
            "File \u001b[0;32m/usr/local/lib/python3.9/site-packages/pandas/plotting/_matplotlib/hist.py:427\u001b[0m, in \u001b[0;36mhist_series\u001b[0;34m(self, by, ax, grid, xlabelsize, xrot, ylabelsize, yrot, figsize, bins, legend, **kwds)\u001b[0m\n\u001b[1;32m    425\u001b[0m \u001b[39mif\u001b[39;00m legend:\n\u001b[1;32m    426\u001b[0m     kwds[\u001b[39m\"\u001b[39m\u001b[39mlabel\u001b[39m\u001b[39m\"\u001b[39m] \u001b[39m=\u001b[39m \u001b[39mself\u001b[39m\u001b[39m.\u001b[39mname\n\u001b[0;32m--> 427\u001b[0m ax\u001b[39m.\u001b[39;49mhist(values, bins\u001b[39m=\u001b[39;49mbins, \u001b[39m*\u001b[39;49m\u001b[39m*\u001b[39;49mkwds)\n\u001b[1;32m    428\u001b[0m \u001b[39mif\u001b[39;00m legend:\n\u001b[1;32m    429\u001b[0m     ax\u001b[39m.\u001b[39mlegend()\n",
            "File \u001b[0;32m/usr/local/lib/python3.9/site-packages/matplotlib/__init__.py:1465\u001b[0m, in \u001b[0;36m_preprocess_data.<locals>.inner\u001b[0;34m(ax, data, *args, **kwargs)\u001b[0m\n\u001b[1;32m   1462\u001b[0m \u001b[39m@functools\u001b[39m\u001b[39m.\u001b[39mwraps(func)\n\u001b[1;32m   1463\u001b[0m \u001b[39mdef\u001b[39;00m \u001b[39minner\u001b[39m(ax, \u001b[39m*\u001b[39margs, data\u001b[39m=\u001b[39m\u001b[39mNone\u001b[39;00m, \u001b[39m*\u001b[39m\u001b[39m*\u001b[39mkwargs):\n\u001b[1;32m   1464\u001b[0m     \u001b[39mif\u001b[39;00m data \u001b[39mis\u001b[39;00m \u001b[39mNone\u001b[39;00m:\n\u001b[0;32m-> 1465\u001b[0m         \u001b[39mreturn\u001b[39;00m func(ax, \u001b[39m*\u001b[39;49m\u001b[39mmap\u001b[39;49m(sanitize_sequence, args), \u001b[39m*\u001b[39;49m\u001b[39m*\u001b[39;49mkwargs)\n\u001b[1;32m   1467\u001b[0m     bound \u001b[39m=\u001b[39m new_sig\u001b[39m.\u001b[39mbind(ax, \u001b[39m*\u001b[39margs, \u001b[39m*\u001b[39m\u001b[39m*\u001b[39mkwargs)\n\u001b[1;32m   1468\u001b[0m     auto_label \u001b[39m=\u001b[39m (bound\u001b[39m.\u001b[39marguments\u001b[39m.\u001b[39mget(label_namer)\n\u001b[1;32m   1469\u001b[0m                   \u001b[39mor\u001b[39;00m bound\u001b[39m.\u001b[39mkwargs\u001b[39m.\u001b[39mget(label_namer))\n",
            "File \u001b[0;32m/usr/local/lib/python3.9/site-packages/matplotlib/axes/_axes.py:6831\u001b[0m, in \u001b[0;36mAxes.hist\u001b[0;34m(self, x, bins, range, density, weights, cumulative, bottom, histtype, align, orientation, rwidth, log, color, label, stacked, **kwargs)\u001b[0m\n\u001b[1;32m   6827\u001b[0m \u001b[39mfor\u001b[39;00m xi \u001b[39min\u001b[39;00m x:\n\u001b[1;32m   6828\u001b[0m     \u001b[39mif\u001b[39;00m \u001b[39mlen\u001b[39m(xi):\n\u001b[1;32m   6829\u001b[0m         \u001b[39m# python's min/max ignore nan,\u001b[39;00m\n\u001b[1;32m   6830\u001b[0m         \u001b[39m# np.minnan returns nan for all nan input\u001b[39;00m\n\u001b[0;32m-> 6831\u001b[0m         xmin \u001b[39m=\u001b[39m \u001b[39mmin\u001b[39;49m(xmin, np\u001b[39m.\u001b[39;49mnanmin(xi))\n\u001b[1;32m   6832\u001b[0m         xmax \u001b[39m=\u001b[39m \u001b[39mmax\u001b[39m(xmax, np\u001b[39m.\u001b[39mnanmax(xi))\n\u001b[1;32m   6833\u001b[0m \u001b[39mif\u001b[39;00m xmin \u001b[39m<\u001b[39m\u001b[39m=\u001b[39m xmax:  \u001b[39m# Only happens if we have seen a finite value.\u001b[39;00m\n",
            "\u001b[0;31mTypeError\u001b[0m: '<' not supported between instances of 'pandas._libs.interval.Interval' and 'float'"
          ]
        },
        {
          "data": {
            "image/png": "[encoded data removed]",
            "text/plain": [
              "<Figure size 640x480 with 1 Axes>"
            ]
          },
          "metadata": {},
          "output_type": "display_data"
        }
      ],
      "source": [
        "## Same as crosstab\n",
        "out.value_counts().sort_index()"
      ]
    },
    {
      "cell_type": "code",
      "execution_count": 198,
      "metadata": {},
      "outputs": [
        {
          "data": {
            "text/plain": [
              "<Axes: xlabel='Opening Gross'>"
            ]
          },
          "execution_count": 198,
          "metadata": {},
          "output_type": "execute_result"
        },
        {
          "data": {
            "image/png": "[encoded data removed]",
            "text/plain": [
              "<Figure size 600x400 with 1 Axes>"
            ]
          },
          "metadata": {},
          "output_type": "display_data"
        }
      ],
      "source": [
        "# plot Category's IntervalIndex using pandas\n",
        "out.value_counts().sort_index().plot.bar(color='b', figsize=(6,4)) ## rot = 0 for horizontal label"
      ]
    },
    {
      "cell_type": "code",
      "execution_count": 194,
      "metadata": {},
      "outputs": [
        {
          "data": {
            "image/png": "[encoded data removed]",
            "text/plain": [
              "<Figure size 640x480 with 1 Axes>"
            ]
          },
          "metadata": {},
          "output_type": "display_data"
        }
      ],
      "source": [
        "## turn counts into pecentage using pandas\n",
        "out_norm = out.value_counts(sort=False, normalize=True).mul(100)\n",
        "ax = out_norm.plot.bar()\n",
        "plt.ylim(0, 50)\n",
        "plt.ylabel('Percent')\n",
        "plt.show()"
      ]
    },
    {
      "cell_type": "code",
      "execution_count": 212,
      "metadata": {},
      "outputs": [
        {
          "data": {
            "image/png": "[encoded data removed]",
            "text/plain": [
              "<Figure size 640x480 with 1 Axes>"
            ]
          },
          "metadata": {},
          "output_type": "display_data"
        }
      ],
      "source": [
        "# Using matplotlib to plot histogram\n",
        "plt.hist(movies['Opening Gross'], bins = bins, edgecolor=\"w\")\n",
        "plt.show()"
      ]
    },
    {
      "cell_type": "code",
      "execution_count": 183,
      "metadata": {},
      "outputs": [
        {
          "data": {
            "text/plain": [
              "<seaborn.axisgrid.FacetGrid at 0x11f5e1ac0>"
            ]
          },
          "execution_count": 183,
          "metadata": {},
          "output_type": "execute_result"
        },
        {
          "data": {
            "image/png": "[encoded data removed]",
            "text/plain": [
              "<Figure size 500x500 with 1 Axes>"
            ]
          },
          "metadata": {},
          "output_type": "display_data"
        }
      ],
      "source": [
        "## Plot histogram using seaborn with line for skewness\n",
        "sns.displot(data = movies, x='Opening Gross', kde= True)\n",
        "## The right skewness shows that fewer movies had a higher opening gross"
      ]
    },
    {
      "cell_type": "markdown",
      "metadata": {},
      "source": [
        "### 2 Check Total Gross"
      ]
    },
    {
      "cell_type": "code",
      "execution_count": 305,
      "metadata": {},
      "outputs": [
        {
          "data": {
            "text/html": [
              "<div>\n",
              "<style scoped>\n",
              "    .dataframe tbody tr th:only-of-type {\n",
              "        vertical-align: middle;\n",
              "    }\n",
              "\n",
              "    .dataframe tbody tr th {\n",
              "        vertical-align: top;\n",
              "    }\n",
              "\n",
              "    .dataframe thead th {\n",
              "        text-align: right;\n",
              "    }\n",
              "</style>\n",
              "<table border=\"1\" class=\"dataframe\">\n",
              "  <thead>\n",
              "    <tr style=\"text-align: right;\">\n",
              "      <th>col_0</th>\n",
              "      <th>Motion Picture</th>\n",
              "    </tr>\n",
              "    <tr>\n",
              "      <th>Total Gross</th>\n",
              "      <th></th>\n",
              "    </tr>\n",
              "  </thead>\n",
              "  <tbody>\n",
              "    <tr>\n",
              "      <th>(19.999, 50.0]</th>\n",
              "      <td>0.333333</td>\n",
              "    </tr>\n",
              "    <tr>\n",
              "      <th>(50.0, 80.0]</th>\n",
              "      <td>0.272727</td>\n",
              "    </tr>\n",
              "    <tr>\n",
              "      <th>(80.0, 110.0]</th>\n",
              "      <td>0.161616</td>\n",
              "    </tr>\n",
              "    <tr>\n",
              "      <th>(110.0, 140.0]</th>\n",
              "      <td>0.050505</td>\n",
              "    </tr>\n",
              "    <tr>\n",
              "      <th>(140.0, 170.0]</th>\n",
              "      <td>0.070707</td>\n",
              "    </tr>\n",
              "    <tr>\n",
              "      <th>(170.0, 200.0]</th>\n",
              "      <td>0.050505</td>\n",
              "    </tr>\n",
              "    <tr>\n",
              "      <th>(200.0, 230.0]</th>\n",
              "      <td>0.020202</td>\n",
              "    </tr>\n",
              "    <tr>\n",
              "      <th>(230.0, 260.0]</th>\n",
              "      <td>0.020202</td>\n",
              "    </tr>\n",
              "    <tr>\n",
              "      <th>(260.0, 290.0]</th>\n",
              "      <td>0.010101</td>\n",
              "    </tr>\n",
              "    <tr>\n",
              "      <th>(350.0, 380.0]</th>\n",
              "      <td>0.010101</td>\n",
              "    </tr>\n",
              "  </tbody>\n",
              "</table>\n",
              "</div>"
            ],
            "text/plain": [
              "col_0           Motion Picture\n",
              "Total Gross                   \n",
              "(19.999, 50.0]        0.333333\n",
              "(50.0, 80.0]          0.272727\n",
              "(80.0, 110.0]         0.161616\n",
              "(110.0, 140.0]        0.050505\n",
              "(140.0, 170.0]        0.070707\n",
              "(170.0, 200.0]        0.050505\n",
              "(200.0, 230.0]        0.020202\n",
              "(230.0, 260.0]        0.020202\n",
              "(260.0, 290.0]        0.010101\n",
              "(350.0, 380.0]        0.010101"
            ]
          },
          "execution_count": 305,
          "metadata": {},
          "output_type": "execute_result"
        }
      ],
      "source": [
        "bins = np.arange(20, 385, 30)\n",
        "pd.crosstab(pd.cut(movies['Total Gross'], bins=bins, include_lowest=True), 'Motion Picture', normalize=True) ## use normalize to show the percentage"
      ]
    },
    {
      "cell_type": "code",
      "execution_count": 307,
      "metadata": {},
      "outputs": [
        {
          "data": {
            "text/html": [
              "<div>\n",
              "<style scoped>\n",
              "    .dataframe tbody tr th:only-of-type {\n",
              "        vertical-align: middle;\n",
              "    }\n",
              "\n",
              "    .dataframe tbody tr th {\n",
              "        vertical-align: top;\n",
              "    }\n",
              "\n",
              "    .dataframe thead th {\n",
              "        text-align: right;\n",
              "    }\n",
              "</style>\n",
              "<table border=\"1\" class=\"dataframe\">\n",
              "  <thead>\n",
              "    <tr style=\"text-align: right;\">\n",
              "      <th>col_0</th>\n",
              "      <th>Motion Picture</th>\n",
              "    </tr>\n",
              "    <tr>\n",
              "      <th>Total Gross</th>\n",
              "      <th></th>\n",
              "    </tr>\n",
              "  </thead>\n",
              "  <tbody>\n",
              "    <tr>\n",
              "      <th>(19.999, 50.0]</th>\n",
              "      <td>33</td>\n",
              "    </tr>\n",
              "    <tr>\n",
              "      <th>(50.0, 80.0]</th>\n",
              "      <td>27</td>\n",
              "    </tr>\n",
              "    <tr>\n",
              "      <th>(80.0, 110.0]</th>\n",
              "      <td>16</td>\n",
              "    </tr>\n",
              "    <tr>\n",
              "      <th>(110.0, 140.0]</th>\n",
              "      <td>5</td>\n",
              "    </tr>\n",
              "    <tr>\n",
              "      <th>(140.0, 170.0]</th>\n",
              "      <td>7</td>\n",
              "    </tr>\n",
              "    <tr>\n",
              "      <th>(170.0, 200.0]</th>\n",
              "      <td>5</td>\n",
              "    </tr>\n",
              "    <tr>\n",
              "      <th>(200.0, 230.0]</th>\n",
              "      <td>2</td>\n",
              "    </tr>\n",
              "    <tr>\n",
              "      <th>(230.0, 260.0]</th>\n",
              "      <td>2</td>\n",
              "    </tr>\n",
              "    <tr>\n",
              "      <th>(260.0, 290.0]</th>\n",
              "      <td>1</td>\n",
              "    </tr>\n",
              "    <tr>\n",
              "      <th>(350.0, 380.0]</th>\n",
              "      <td>1</td>\n",
              "    </tr>\n",
              "  </tbody>\n",
              "</table>\n",
              "</div>"
            ],
            "text/plain": [
              "col_0           Motion Picture\n",
              "Total Gross                   \n",
              "(19.999, 50.0]              33\n",
              "(50.0, 80.0]                27\n",
              "(80.0, 110.0]               16\n",
              "(110.0, 140.0]               5\n",
              "(140.0, 170.0]               7\n",
              "(170.0, 200.0]               5\n",
              "(200.0, 230.0]               2\n",
              "(230.0, 260.0]               2\n",
              "(260.0, 290.0]               1\n",
              "(350.0, 380.0]               1"
            ]
          },
          "execution_count": 307,
          "metadata": {},
          "output_type": "execute_result"
        }
      ],
      "source": [
        "pd.crosstab(pd.cut(movies['Total Gross'], bins=bins, include_lowest=True), 'Motion Picture', normalize=False) ## use normalize to show the percentage"
      ]
    },
    {
      "cell_type": "code",
      "execution_count": 309,
      "metadata": {},
      "outputs": [
        {
          "data": {
            "text/plain": [
              "Total Gross\n",
              "(20, 50]      33\n",
              "(50, 80]      27\n",
              "(80, 110]     16\n",
              "(110, 140]     5\n",
              "(140, 170]     7\n",
              "(170, 200]     5\n",
              "(200, 230]     2\n",
              "(230, 260]     2\n",
              "(260, 290]     1\n",
              "(290, 320]     0\n",
              "(320, 350]     0\n",
              "(350, 380]     1\n",
              "Name: count, dtype: int64"
            ]
          },
          "execution_count": 309,
          "metadata": {},
          "output_type": "execute_result"
        }
      ],
      "source": [
        "## no need to use crosstab for range data/intervals\n",
        "pd.cut(movies['Total Gross'], bins = bins).value_counts().sort_index()"
      ]
    },
    {
      "cell_type": "code",
      "execution_count": 279,
      "metadata": {},
      "outputs": [
        {
          "data": {
            "image/png": "[encoded data removed]",
            "text/plain": [
              "<seaborn._core.plot.Plot at 0x11c85ec70>"
            ]
          },
          "execution_count": 279,
          "metadata": {
            "image/png": {
              "height": 378.25,
              "width": 509.15
            }
          },
          "output_type": "execute_result"
        }
      ],
      "source": [
        "import seaborn.objects as so;\n",
        "# Ploting with seabon object\n",
        "\n",
        "so.Plot(movies, x = 'Total Gross').add(so.Bar(), so.Hist(bins = bins))#add(so.Area(), so.KED())"
      ]
    },
    {
      "cell_type": "code",
      "execution_count": 247,
      "metadata": {},
      "outputs": [
        {
          "data": {
            "image/png": "[encoded data removed]",
            "text/plain": [
              "<seaborn._core.plot.Plot at 0x11ef250a0>"
            ]
          },
          "execution_count": 247,
          "metadata": {
            "image/png": {
              "height": 378.25,
              "width": 509.15
            }
          },
          "output_type": "execute_result"
        }
      ],
      "source": [
        "so.Plot(movies, x = 'Total Gross').add(so.Area(), so.KDE())"
      ]
    },
    {
      "cell_type": "code",
      "execution_count": 260,
      "metadata": {},
      "outputs": [
        {
          "data": {
            "image/png": "[encoded data removed]",
            "text/plain": [
              "<seaborn._core.plot.Plot at 0x120421f70>"
            ]
          },
          "execution_count": 260,
          "metadata": {
            "image/png": {
              "height": 378.25,
              "width": 509.15
            }
          },
          "output_type": "execute_result"
        }
      ],
      "source": [
        "so.Plot(movies, x = 'Total Gross').add(so.Bar(), so.Hist(bins = bins, cumulative=True))"
      ]
    }
  ],
  "metadata": {
    "colab": {
      "provenance": [],
      "toc_visible": true
    },
    "kernelspec": {
      "display_name": "Python 3.9.13 64-bit",
      "language": "python",
      "name": "python3"
    },
    "language_info": {
      "codemirror_mode": {
        "name": "ipython",
        "version": 3
      },
      "file_extension": ".py",
      "mimetype": "text/x-python",
      "name": "python",
      "nbconvert_exporter": "python",
      "pygments_lexer": "ipython3",
      "version": "3.9.13"
    },
    "vscode": {
      "interpreter": {
        "hash": "aee8b7b246df8f9039afb4144a1f6fd8d2ca17a180786b69acc140d282b71a49"
      }
    }
  },
  "nbformat": 4,
  "nbformat_minor": 0
}
