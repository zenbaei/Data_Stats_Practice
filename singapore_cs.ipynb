{
 "cells": [
  {
   "cell_type": "markdown",
   "metadata": {},
   "source": [
    "# Case Study from Youtube https://www.youtube.com/watch?v=xArNPFG_nq0&list=WL&index=28&t=185s"
   ]
  },
  {
   "cell_type": "code",
   "execution_count": 312,
   "metadata": {},
   "outputs": [],
   "source": [
    "import pandas as pd;\n",
    "import matplotlib.pyplot as plt;\n",
    "import numpy as np;"
   ]
  },
  {
   "cell_type": "code",
   "execution_count": 149,
   "metadata": {},
   "outputs": [
    {
     "data": {
      "text/html": [
       "<div>\n",
       "<style scoped>\n",
       "    .dataframe tbody tr th:only-of-type {\n",
       "        vertical-align: middle;\n",
       "    }\n",
       "\n",
       "    .dataframe tbody tr th {\n",
       "        vertical-align: top;\n",
       "    }\n",
       "\n",
       "    .dataframe thead th {\n",
       "        text-align: right;\n",
       "    }\n",
       "</style>\n",
       "<table border=\"1\" class=\"dataframe\">\n",
       "  <thead>\n",
       "    <tr style=\"text-align: right;\">\n",
       "      <th></th>\n",
       "      <th>year</th>\n",
       "      <th>level_1</th>\n",
       "      <th>value</th>\n",
       "    </tr>\n",
       "  </thead>\n",
       "  <tbody>\n",
       "    <tr>\n",
       "      <th>0</th>\n",
       "      <td>1960</td>\n",
       "      <td>Total Residents</td>\n",
       "      <td>1646400</td>\n",
       "    </tr>\n",
       "    <tr>\n",
       "      <th>1</th>\n",
       "      <td>1960</td>\n",
       "      <td>Total Male Residents</td>\n",
       "      <td>859600</td>\n",
       "    </tr>\n",
       "    <tr>\n",
       "      <th>2</th>\n",
       "      <td>1960</td>\n",
       "      <td>Total Female Residents</td>\n",
       "      <td>786800</td>\n",
       "    </tr>\n",
       "    <tr>\n",
       "      <th>3</th>\n",
       "      <td>1960</td>\n",
       "      <td>Total Malays</td>\n",
       "      <td>232200</td>\n",
       "    </tr>\n",
       "    <tr>\n",
       "      <th>4</th>\n",
       "      <td>1960</td>\n",
       "      <td>Total Male Malays</td>\n",
       "      <td>121000</td>\n",
       "    </tr>\n",
       "    <tr>\n",
       "      <th>5</th>\n",
       "      <td>1960</td>\n",
       "      <td>Total Female Malays</td>\n",
       "      <td>111200</td>\n",
       "    </tr>\n",
       "    <tr>\n",
       "      <th>6</th>\n",
       "      <td>1960</td>\n",
       "      <td>Total Chinese</td>\n",
       "      <td>1251600</td>\n",
       "    </tr>\n",
       "    <tr>\n",
       "      <th>7</th>\n",
       "      <td>1960</td>\n",
       "      <td>Total Male Chinese</td>\n",
       "      <td>636000</td>\n",
       "    </tr>\n",
       "    <tr>\n",
       "      <th>8</th>\n",
       "      <td>1960</td>\n",
       "      <td>Total Female Chinese</td>\n",
       "      <td>615600</td>\n",
       "    </tr>\n",
       "    <tr>\n",
       "      <th>9</th>\n",
       "      <td>1960</td>\n",
       "      <td>Total Indians</td>\n",
       "      <td>133200</td>\n",
       "    </tr>\n",
       "    <tr>\n",
       "      <th>10</th>\n",
       "      <td>1960</td>\n",
       "      <td>Total Male Indians</td>\n",
       "      <td>88000</td>\n",
       "    </tr>\n",
       "    <tr>\n",
       "      <th>11</th>\n",
       "      <td>1960</td>\n",
       "      <td>Total Female Indians</td>\n",
       "      <td>45200</td>\n",
       "    </tr>\n",
       "    <tr>\n",
       "      <th>12</th>\n",
       "      <td>1960</td>\n",
       "      <td>Other Ethnic Groups (Total)</td>\n",
       "      <td>29400</td>\n",
       "    </tr>\n",
       "    <tr>\n",
       "      <th>13</th>\n",
       "      <td>1960</td>\n",
       "      <td>Other Ethnic Groups (Males)</td>\n",
       "      <td>14600</td>\n",
       "    </tr>\n",
       "    <tr>\n",
       "      <th>14</th>\n",
       "      <td>1960</td>\n",
       "      <td>Other Ethnic Groups (Females)</td>\n",
       "      <td>14800</td>\n",
       "    </tr>\n",
       "  </tbody>\n",
       "</table>\n",
       "</div>"
      ],
      "text/plain": [
       "    year                        level_1    value\n",
       "0   1960                Total Residents  1646400\n",
       "1   1960           Total Male Residents   859600\n",
       "2   1960         Total Female Residents   786800\n",
       "3   1960                   Total Malays   232200\n",
       "4   1960              Total Male Malays   121000\n",
       "5   1960            Total Female Malays   111200\n",
       "6   1960                  Total Chinese  1251600\n",
       "7   1960             Total Male Chinese   636000\n",
       "8   1960           Total Female Chinese   615600\n",
       "9   1960                  Total Indians   133200\n",
       "10  1960             Total Male Indians    88000\n",
       "11  1960           Total Female Indians    45200\n",
       "12  1960    Other Ethnic Groups (Total)    29400\n",
       "13  1960    Other Ethnic Groups (Males)    14600\n",
       "14  1960  Other Ethnic Groups (Females)    14800"
      ]
     },
     "execution_count": 149,
     "metadata": {},
     "output_type": "execute_result"
    }
   ],
   "source": [
    "df = pd.read_csv('./data/singapore-residents data.csv')\n",
    "df[df['year'] == 1960]"
   ]
  },
  {
   "cell_type": "markdown",
   "metadata": {},
   "source": [
    "# Adjust DataSet"
   ]
  },
  {
   "cell_type": "markdown",
   "metadata": {},
   "source": [
    "## Normalize data by removing calculated columns"
   ]
  },
  {
   "cell_type": "code",
   "execution_count": 150,
   "metadata": {},
   "outputs": [
    {
     "data": {
      "text/html": [
       "<div>\n",
       "<style scoped>\n",
       "    .dataframe tbody tr th:only-of-type {\n",
       "        vertical-align: middle;\n",
       "    }\n",
       "\n",
       "    .dataframe tbody tr th {\n",
       "        vertical-align: top;\n",
       "    }\n",
       "\n",
       "    .dataframe thead th {\n",
       "        text-align: right;\n",
       "    }\n",
       "</style>\n",
       "<table border=\"1\" class=\"dataframe\">\n",
       "  <thead>\n",
       "    <tr style=\"text-align: right;\">\n",
       "      <th></th>\n",
       "      <th>year</th>\n",
       "      <th>level_1</th>\n",
       "      <th>value</th>\n",
       "    </tr>\n",
       "  </thead>\n",
       "  <tbody>\n",
       "    <tr>\n",
       "      <th>4</th>\n",
       "      <td>1960</td>\n",
       "      <td>Total Male Malays</td>\n",
       "      <td>121000</td>\n",
       "    </tr>\n",
       "    <tr>\n",
       "      <th>5</th>\n",
       "      <td>1960</td>\n",
       "      <td>Total Female Malays</td>\n",
       "      <td>111200</td>\n",
       "    </tr>\n",
       "    <tr>\n",
       "      <th>7</th>\n",
       "      <td>1960</td>\n",
       "      <td>Total Male Chinese</td>\n",
       "      <td>636000</td>\n",
       "    </tr>\n",
       "    <tr>\n",
       "      <th>8</th>\n",
       "      <td>1960</td>\n",
       "      <td>Total Female Chinese</td>\n",
       "      <td>615600</td>\n",
       "    </tr>\n",
       "    <tr>\n",
       "      <th>10</th>\n",
       "      <td>1960</td>\n",
       "      <td>Total Male Indians</td>\n",
       "      <td>88000</td>\n",
       "    </tr>\n",
       "    <tr>\n",
       "      <th>11</th>\n",
       "      <td>1960</td>\n",
       "      <td>Total Female Indians</td>\n",
       "      <td>45200</td>\n",
       "    </tr>\n",
       "    <tr>\n",
       "      <th>13</th>\n",
       "      <td>1960</td>\n",
       "      <td>Other Ethnic Groups (Males)</td>\n",
       "      <td>14600</td>\n",
       "    </tr>\n",
       "    <tr>\n",
       "      <th>14</th>\n",
       "      <td>1960</td>\n",
       "      <td>Other Ethnic Groups (Females)</td>\n",
       "      <td>14800</td>\n",
       "    </tr>\n",
       "    <tr>\n",
       "      <th>19</th>\n",
       "      <td>1961</td>\n",
       "      <td>Total Male Malays</td>\n",
       "      <td>125700</td>\n",
       "    </tr>\n",
       "    <tr>\n",
       "      <th>20</th>\n",
       "      <td>1961</td>\n",
       "      <td>Total Female Malays</td>\n",
       "      <td>116800</td>\n",
       "    </tr>\n",
       "  </tbody>\n",
       "</table>\n",
       "</div>"
      ],
      "text/plain": [
       "    year                        level_1   value\n",
       "4   1960              Total Male Malays  121000\n",
       "5   1960            Total Female Malays  111200\n",
       "7   1960             Total Male Chinese  636000\n",
       "8   1960           Total Female Chinese  615600\n",
       "10  1960             Total Male Indians   88000\n",
       "11  1960           Total Female Indians   45200\n",
       "13  1960    Other Ethnic Groups (Males)   14600\n",
       "14  1960  Other Ethnic Groups (Females)   14800\n",
       "19  1961              Total Male Malays  125700\n",
       "20  1961            Total Female Malays  116800"
      ]
     },
     "execution_count": 150,
     "metadata": {},
     "output_type": "execute_result"
    }
   ],
   "source": [
    "idx = df[df['level_1'].str.contains('Residents') | df['level_1'].str.contains('Total Malays') | df['level_1'].str.contains('Total Chinese') | \n",
    "         df['level_1'].str.contains('Total Indians') | df['level_1'].str.contains('Other Ethnic Groups \\(Total\\)')].index\n",
    "df.drop(idx, inplace= True)\n",
    "df.head(10)"
   ]
  },
  {
   "cell_type": "markdown",
   "metadata": {},
   "source": [
    "## Turn rows into Columns using Pivot Table"
   ]
  },
  {
   "cell_type": "code",
   "execution_count": 210,
   "metadata": {},
   "outputs": [
    {
     "data": {
      "text/html": [
       "<div>\n",
       "<style scoped>\n",
       "    .dataframe tbody tr th:only-of-type {\n",
       "        vertical-align: middle;\n",
       "    }\n",
       "\n",
       "    .dataframe tbody tr th {\n",
       "        vertical-align: top;\n",
       "    }\n",
       "\n",
       "    .dataframe thead th {\n",
       "        text-align: right;\n",
       "    }\n",
       "</style>\n",
       "<table border=\"1\" class=\"dataframe\">\n",
       "  <thead>\n",
       "    <tr style=\"text-align: right;\">\n",
       "      <th>level_1</th>\n",
       "      <th>Other Ethnic Groups (Females)</th>\n",
       "      <th>Other Ethnic Groups (Males)</th>\n",
       "      <th>Total Female Chinese</th>\n",
       "      <th>Total Female Indians</th>\n",
       "      <th>Total Female Malays</th>\n",
       "      <th>Total Male Chinese</th>\n",
       "      <th>Total Male Indians</th>\n",
       "      <th>Total Male Malays</th>\n",
       "    </tr>\n",
       "    <tr>\n",
       "      <th>year</th>\n",
       "      <th></th>\n",
       "      <th></th>\n",
       "      <th></th>\n",
       "      <th></th>\n",
       "      <th></th>\n",
       "      <th></th>\n",
       "      <th></th>\n",
       "      <th></th>\n",
       "    </tr>\n",
       "  </thead>\n",
       "  <tbody>\n",
       "    <tr>\n",
       "      <th>1960</th>\n",
       "      <td>14800.0</td>\n",
       "      <td>14600.0</td>\n",
       "      <td>615600.0</td>\n",
       "      <td>45200.0</td>\n",
       "      <td>111200.0</td>\n",
       "      <td>636000.0</td>\n",
       "      <td>88000.0</td>\n",
       "      <td>121000.0</td>\n",
       "    </tr>\n",
       "    <tr>\n",
       "      <th>1961</th>\n",
       "      <td>14800.0</td>\n",
       "      <td>14400.0</td>\n",
       "      <td>637400.0</td>\n",
       "      <td>46900.0</td>\n",
       "      <td>116800.0</td>\n",
       "      <td>657600.0</td>\n",
       "      <td>88800.0</td>\n",
       "      <td>125700.0</td>\n",
       "    </tr>\n",
       "  </tbody>\n",
       "</table>\n",
       "</div>"
      ],
      "text/plain": [
       "level_1  Other Ethnic Groups (Females)  Other Ethnic Groups (Males)  \\\n",
       "year                                                                  \n",
       "1960                           14800.0                      14600.0   \n",
       "1961                           14800.0                      14400.0   \n",
       "\n",
       "level_1  Total Female Chinese  Total Female Indians  Total Female Malays  \\\n",
       "year                                                                       \n",
       "1960                 615600.0               45200.0             111200.0   \n",
       "1961                 637400.0               46900.0             116800.0   \n",
       "\n",
       "level_1  Total Male Chinese  Total Male Indians  Total Male Malays  \n",
       "year                                                                \n",
       "1960               636000.0             88000.0           121000.0  \n",
       "1961               657600.0             88800.0           125700.0  "
      ]
     },
     "execution_count": 210,
     "metadata": {},
     "output_type": "execute_result"
    }
   ],
   "source": [
    "pvt = df.pivot_table(index='year', columns='level_1', values='value')\n",
    "pvt.head(2)"
   ]
  },
  {
   "cell_type": "markdown",
   "metadata": {},
   "source": [
    "## Rearrange columns"
   ]
  },
  {
   "cell_type": "code",
   "execution_count": 213,
   "metadata": {},
   "outputs": [
    {
     "data": {
      "text/html": [
       "<div>\n",
       "<style scoped>\n",
       "    .dataframe tbody tr th:only-of-type {\n",
       "        vertical-align: middle;\n",
       "    }\n",
       "\n",
       "    .dataframe tbody tr th {\n",
       "        vertical-align: top;\n",
       "    }\n",
       "\n",
       "    .dataframe thead th {\n",
       "        text-align: right;\n",
       "    }\n",
       "</style>\n",
       "<table border=\"1\" class=\"dataframe\">\n",
       "  <thead>\n",
       "    <tr style=\"text-align: right;\">\n",
       "      <th>level_1</th>\n",
       "      <th>Total Male Malays</th>\n",
       "      <th>Total Female Malays</th>\n",
       "      <th>Total Male Chinese</th>\n",
       "      <th>Total Female Chinese</th>\n",
       "      <th>Total Male Indians</th>\n",
       "      <th>Total Female Indians</th>\n",
       "      <th>Other Ethnic Groups (Males)</th>\n",
       "      <th>Other Ethnic Groups (Females)</th>\n",
       "    </tr>\n",
       "    <tr>\n",
       "      <th>year</th>\n",
       "      <th></th>\n",
       "      <th></th>\n",
       "      <th></th>\n",
       "      <th></th>\n",
       "      <th></th>\n",
       "      <th></th>\n",
       "      <th></th>\n",
       "      <th></th>\n",
       "    </tr>\n",
       "  </thead>\n",
       "  <tbody>\n",
       "    <tr>\n",
       "      <th>1960</th>\n",
       "      <td>121000.0</td>\n",
       "      <td>111200.0</td>\n",
       "      <td>636000.0</td>\n",
       "      <td>615600.0</td>\n",
       "      <td>88000.0</td>\n",
       "      <td>45200.0</td>\n",
       "      <td>14600.0</td>\n",
       "      <td>14800.0</td>\n",
       "    </tr>\n",
       "    <tr>\n",
       "      <th>1961</th>\n",
       "      <td>125700.0</td>\n",
       "      <td>116800.0</td>\n",
       "      <td>657600.0</td>\n",
       "      <td>637400.0</td>\n",
       "      <td>88800.0</td>\n",
       "      <td>46900.0</td>\n",
       "      <td>14400.0</td>\n",
       "      <td>14800.0</td>\n",
       "    </tr>\n",
       "  </tbody>\n",
       "</table>\n",
       "</div>"
      ],
      "text/plain": [
       "level_1  Total Male Malays  Total Female Malays  Total Male Chinese  \\\n",
       "year                                                                  \n",
       "1960              121000.0             111200.0            636000.0   \n",
       "1961              125700.0             116800.0            657600.0   \n",
       "\n",
       "level_1  Total Female Chinese  Total Male Indians  Total Female Indians  \\\n",
       "year                                                                      \n",
       "1960                 615600.0             88000.0               45200.0   \n",
       "1961                 637400.0             88800.0               46900.0   \n",
       "\n",
       "level_1  Other Ethnic Groups (Males)  Other Ethnic Groups (Females)  \n",
       "year                                                                 \n",
       "1960                         14600.0                        14800.0  \n",
       "1961                         14400.0                        14800.0  "
      ]
     },
     "execution_count": 213,
     "metadata": {},
     "output_type": "execute_result"
    }
   ],
   "source": [
    "pvt = pvt[['Total Male Malays', 'Total Female Malays', 'Total Male Chinese', 'Total Female Chinese', 'Total Male Indians',\n",
    "           'Total Female Indians', 'Other Ethnic Groups (Males)', 'Other Ethnic Groups (Females)']]\n",
    "pvt.head(2)"
   ]
  },
  {
   "cell_type": "markdown",
   "metadata": {},
   "source": [
    "# At What rate singapore populaton is increasing?"
   ]
  },
  {
   "cell_type": "code",
   "execution_count": 214,
   "metadata": {},
   "outputs": [
    {
     "data": {
      "text/plain": [
       "1.546640596112704"
      ]
     },
     "execution_count": 214,
     "metadata": {},
     "output_type": "execute_result"
    }
   ],
   "source": [
    "# Get the sum for each row, then find the percentage change:\n",
    "#df.iloc[0,:].sum()\n",
    "pct = pvt.sum(axis=1).pct_change(periods=1) * 100\n",
    "np.mean(pct)\n",
    "# Population increases by 1.5% yearly"
   ]
  },
  {
   "cell_type": "markdown",
   "metadata": {},
   "source": [
    "# Which Ethinic group has the highest representation in Singapore?"
   ]
  },
  {
   "cell_type": "code",
   "execution_count": 228,
   "metadata": {},
   "outputs": [
    {
     "data": {
      "text/html": [
       "<div>\n",
       "<style scoped>\n",
       "    .dataframe tbody tr th:only-of-type {\n",
       "        vertical-align: middle;\n",
       "    }\n",
       "\n",
       "    .dataframe tbody tr th {\n",
       "        vertical-align: top;\n",
       "    }\n",
       "\n",
       "    .dataframe thead th {\n",
       "        text-align: right;\n",
       "    }\n",
       "</style>\n",
       "<table border=\"1\" class=\"dataframe\">\n",
       "  <thead>\n",
       "    <tr style=\"text-align: right;\">\n",
       "      <th></th>\n",
       "      <th>level_1</th>\n",
       "      <th>0</th>\n",
       "    </tr>\n",
       "  </thead>\n",
       "  <tbody>\n",
       "    <tr>\n",
       "      <th>0</th>\n",
       "      <td>Total Male Malays</td>\n",
       "      <td>11702782.0</td>\n",
       "    </tr>\n",
       "    <tr>\n",
       "      <th>1</th>\n",
       "      <td>Total Female Malays</td>\n",
       "      <td>11446983.0</td>\n",
       "    </tr>\n",
       "    <tr>\n",
       "      <th>2</th>\n",
       "      <td>Total Male Chinese</td>\n",
       "      <td>62671373.0</td>\n",
       "    </tr>\n",
       "    <tr>\n",
       "      <th>3</th>\n",
       "      <td>Total Female Chinese</td>\n",
       "      <td>63112372.0</td>\n",
       "    </tr>\n",
       "    <tr>\n",
       "      <th>4</th>\n",
       "      <td>Total Male Indians</td>\n",
       "      <td>6970639.0</td>\n",
       "    </tr>\n",
       "    <tr>\n",
       "      <th>5</th>\n",
       "      <td>Total Female Indians</td>\n",
       "      <td>5866098.0</td>\n",
       "    </tr>\n",
       "    <tr>\n",
       "      <th>6</th>\n",
       "      <td>Other Ethnic Groups (Males)</td>\n",
       "      <td>1558752.0</td>\n",
       "    </tr>\n",
       "    <tr>\n",
       "      <th>7</th>\n",
       "      <td>Other Ethnic Groups (Females)</td>\n",
       "      <td>1668893.0</td>\n",
       "    </tr>\n",
       "  </tbody>\n",
       "</table>\n",
       "</div>"
      ],
      "text/plain": [
       "                         level_1           0\n",
       "0              Total Male Malays  11702782.0\n",
       "1            Total Female Malays  11446983.0\n",
       "2             Total Male Chinese  62671373.0\n",
       "3           Total Female Chinese  63112372.0\n",
       "4             Total Male Indians   6970639.0\n",
       "5           Total Female Indians   5866098.0\n",
       "6    Other Ethnic Groups (Males)   1558752.0\n",
       "7  Other Ethnic Groups (Females)   1668893.0"
      ]
     },
     "execution_count": 228,
     "metadata": {},
     "output_type": "execute_result"
    }
   ],
   "source": [
    "# Sum each group then get their max\n",
    "sums = pvt.sum(axis=0)\n",
    "sums = sums.to_frame().reset_index()\n",
    "sums"
   ]
  },
  {
   "cell_type": "code",
   "execution_count": 247,
   "metadata": {},
   "outputs": [
    {
     "data": {
      "text/html": [
       "<div>\n",
       "<style scoped>\n",
       "    .dataframe tbody tr th:only-of-type {\n",
       "        vertical-align: middle;\n",
       "    }\n",
       "\n",
       "    .dataframe tbody tr th {\n",
       "        vertical-align: top;\n",
       "    }\n",
       "\n",
       "    .dataframe thead th {\n",
       "        text-align: right;\n",
       "    }\n",
       "</style>\n",
       "<table border=\"1\" class=\"dataframe\">\n",
       "  <thead>\n",
       "    <tr style=\"text-align: right;\">\n",
       "      <th></th>\n",
       "      <th>level_1</th>\n",
       "      <th>0</th>\n",
       "    </tr>\n",
       "  </thead>\n",
       "  <tbody>\n",
       "    <tr>\n",
       "      <th>3</th>\n",
       "      <td>Other Ethnic Groups (Males)Other Ethnic Groups...</td>\n",
       "      <td>3227645.0</td>\n",
       "    </tr>\n",
       "    <tr>\n",
       "      <th>2</th>\n",
       "      <td>Total Male IndiansTotal Female Indians</td>\n",
       "      <td>12836737.0</td>\n",
       "    </tr>\n",
       "    <tr>\n",
       "      <th>0</th>\n",
       "      <td>Total Male MalaysTotal Female Malays</td>\n",
       "      <td>23149765.0</td>\n",
       "    </tr>\n",
       "    <tr>\n",
       "      <th>1</th>\n",
       "      <td>Total Male ChineseTotal Female Chinese</td>\n",
       "      <td>125783745.0</td>\n",
       "    </tr>\n",
       "  </tbody>\n",
       "</table>\n",
       "</div>"
      ],
      "text/plain": [
       "                                             level_1            0\n",
       "3  Other Ethnic Groups (Males)Other Ethnic Groups...    3227645.0\n",
       "2             Total Male IndiansTotal Female Indians   12836737.0\n",
       "0               Total Male MalaysTotal Female Malays   23149765.0\n",
       "1             Total Male ChineseTotal Female Chinese  125783745.0"
      ]
     },
     "execution_count": 247,
     "metadata": {},
     "output_type": "execute_result"
    }
   ],
   "source": [
    "sums.groupby(sums.index // 2).sum().sort_values(by=0)\n",
    "# Chinese are the largest ethnic group"
   ]
  },
  {
   "cell_type": "markdown",
   "metadata": {},
   "source": [
    "# In last 10 years which ethnic group showed the highest increment?"
   ]
  },
  {
   "cell_type": "code",
   "execution_count": 255,
   "metadata": {},
   "outputs": [
    {
     "data": {
      "text/plain": [
       "level_1\n",
       "Other Ethnic Groups (Males)        595798.0\n",
       "Other Ethnic Groups (Females)      665241.0\n",
       "Total Female Indians              1711801.0\n",
       "Total Male Indians                1815753.0\n",
       "Total Male Malays                 2569087.0\n",
       "Total Female Malays               2593827.0\n",
       "Total Male Chinese               14012894.0\n",
       "Total Female Chinese             14660470.0\n",
       "dtype: float64"
      ]
     },
     "execution_count": 255,
     "metadata": {},
     "output_type": "execute_result"
    }
   ],
   "source": [
    "# Get the last 10 years sums\n",
    "pvt.sort_index().tail(10).sum().sort_values()\n",
    "\n",
    "# Chinese show the highest increment in last 10 years"
   ]
  },
  {
   "cell_type": "markdown",
   "metadata": {},
   "source": [
    "# In which years female populations were higher than male"
   ]
  },
  {
   "cell_type": "code",
   "execution_count": 307,
   "metadata": {},
   "outputs": [
    {
     "data": {
      "text/plain": [
       "year\n",
       "1960    859600.0\n",
       "1961    886500.0\n",
       "Name: Males, dtype: float64"
      ]
     },
     "execution_count": 307,
     "metadata": {},
     "output_type": "execute_result"
    }
   ],
   "source": [
    "# sum all male and female, then show the years where female were higher\n",
    "#female_male_sums = \n",
    "males = pvt[pvt.columns[pvt.columns.str.contains('Male')]].sum(axis=1)\n",
    "males.rename('Males', inplace=True).head(2)"
   ]
  },
  {
   "cell_type": "code",
   "execution_count": 308,
   "metadata": {},
   "outputs": [
    {
     "data": {
      "text/plain": [
       "year\n",
       "1960    786800.0\n",
       "1961    815900.0\n",
       "Name: Females, dtype: float64"
      ]
     },
     "execution_count": 308,
     "metadata": {},
     "output_type": "execute_result"
    }
   ],
   "source": [
    "females = pvt[pvt.columns[pvt.columns.str.contains('Female')]].sum(axis=1)\n",
    "females.rename('Females', inplace=True).head(2)"
   ]
  },
  {
   "cell_type": "code",
   "execution_count": 288,
   "metadata": {},
   "outputs": [
    {
     "data": {
      "text/html": [
       "<div>\n",
       "<style scoped>\n",
       "    .dataframe tbody tr th:only-of-type {\n",
       "        vertical-align: middle;\n",
       "    }\n",
       "\n",
       "    .dataframe tbody tr th {\n",
       "        vertical-align: top;\n",
       "    }\n",
       "\n",
       "    .dataframe thead th {\n",
       "        text-align: right;\n",
       "    }\n",
       "</style>\n",
       "<table border=\"1\" class=\"dataframe\">\n",
       "  <thead>\n",
       "    <tr style=\"text-align: right;\">\n",
       "      <th></th>\n",
       "      <th>key_0</th>\n",
       "      <th>Males</th>\n",
       "      <th>Females</th>\n",
       "    </tr>\n",
       "  </thead>\n",
       "  <tbody>\n",
       "    <tr>\n",
       "      <th>0</th>\n",
       "      <td>1960</td>\n",
       "      <td>859600.0</td>\n",
       "      <td>786800.0</td>\n",
       "    </tr>\n",
       "    <tr>\n",
       "      <th>1</th>\n",
       "      <td>1961</td>\n",
       "      <td>886500.0</td>\n",
       "      <td>815900.0</td>\n",
       "    </tr>\n",
       "  </tbody>\n",
       "</table>\n",
       "</div>"
      ],
      "text/plain": [
       "   key_0     Males   Females\n",
       "0   1960  859600.0  786800.0\n",
       "1   1961  886500.0  815900.0"
      ]
     },
     "execution_count": 288,
     "metadata": {},
     "output_type": "execute_result"
    }
   ],
   "source": [
    "# pd.concat([males, females], axis=1)\n",
    "f_m_totals = pd.merge(males, females, right_on=males.index, left_on=females.index)\n",
    "f_m_totals.head(2)"
   ]
  },
  {
   "cell_type": "code",
   "execution_count": 306,
   "metadata": {},
   "outputs": [
    {
     "data": {
      "text/html": [
       "<div>\n",
       "<style scoped>\n",
       "    .dataframe tbody tr th:only-of-type {\n",
       "        vertical-align: middle;\n",
       "    }\n",
       "\n",
       "    .dataframe tbody tr th {\n",
       "        vertical-align: top;\n",
       "    }\n",
       "\n",
       "    .dataframe thead th {\n",
       "        text-align: right;\n",
       "    }\n",
       "</style>\n",
       "<table border=\"1\" class=\"dataframe\">\n",
       "  <thead>\n",
       "    <tr style=\"text-align: right;\">\n",
       "      <th></th>\n",
       "      <th>index</th>\n",
       "      <th>key_0</th>\n",
       "    </tr>\n",
       "  </thead>\n",
       "  <tbody>\n",
       "    <tr>\n",
       "      <th>0</th>\n",
       "      <td>39</td>\n",
       "      <td>1999</td>\n",
       "    </tr>\n",
       "    <tr>\n",
       "      <th>1</th>\n",
       "      <td>40</td>\n",
       "      <td>2000</td>\n",
       "    </tr>\n",
       "    <tr>\n",
       "      <th>2</th>\n",
       "      <td>41</td>\n",
       "      <td>2001</td>\n",
       "    </tr>\n",
       "    <tr>\n",
       "      <th>3</th>\n",
       "      <td>42</td>\n",
       "      <td>2002</td>\n",
       "    </tr>\n",
       "    <tr>\n",
       "      <th>4</th>\n",
       "      <td>43</td>\n",
       "      <td>2003</td>\n",
       "    </tr>\n",
       "    <tr>\n",
       "      <th>5</th>\n",
       "      <td>44</td>\n",
       "      <td>2004</td>\n",
       "    </tr>\n",
       "    <tr>\n",
       "      <th>6</th>\n",
       "      <td>45</td>\n",
       "      <td>2005</td>\n",
       "    </tr>\n",
       "    <tr>\n",
       "      <th>7</th>\n",
       "      <td>46</td>\n",
       "      <td>2006</td>\n",
       "    </tr>\n",
       "    <tr>\n",
       "      <th>8</th>\n",
       "      <td>47</td>\n",
       "      <td>2007</td>\n",
       "    </tr>\n",
       "    <tr>\n",
       "      <th>9</th>\n",
       "      <td>48</td>\n",
       "      <td>2008</td>\n",
       "    </tr>\n",
       "    <tr>\n",
       "      <th>10</th>\n",
       "      <td>49</td>\n",
       "      <td>2009</td>\n",
       "    </tr>\n",
       "    <tr>\n",
       "      <th>11</th>\n",
       "      <td>50</td>\n",
       "      <td>2010</td>\n",
       "    </tr>\n",
       "    <tr>\n",
       "      <th>12</th>\n",
       "      <td>51</td>\n",
       "      <td>2011</td>\n",
       "    </tr>\n",
       "    <tr>\n",
       "      <th>13</th>\n",
       "      <td>52</td>\n",
       "      <td>2012</td>\n",
       "    </tr>\n",
       "    <tr>\n",
       "      <th>14</th>\n",
       "      <td>53</td>\n",
       "      <td>2013</td>\n",
       "    </tr>\n",
       "    <tr>\n",
       "      <th>15</th>\n",
       "      <td>54</td>\n",
       "      <td>2014</td>\n",
       "    </tr>\n",
       "    <tr>\n",
       "      <th>16</th>\n",
       "      <td>55</td>\n",
       "      <td>2015</td>\n",
       "    </tr>\n",
       "    <tr>\n",
       "      <th>17</th>\n",
       "      <td>56</td>\n",
       "      <td>2016</td>\n",
       "    </tr>\n",
       "    <tr>\n",
       "      <th>18</th>\n",
       "      <td>57</td>\n",
       "      <td>2017</td>\n",
       "    </tr>\n",
       "    <tr>\n",
       "      <th>19</th>\n",
       "      <td>58</td>\n",
       "      <td>2018</td>\n",
       "    </tr>\n",
       "  </tbody>\n",
       "</table>\n",
       "</div>"
      ],
      "text/plain": [
       "    index  key_0\n",
       "0      39   1999\n",
       "1      40   2000\n",
       "2      41   2001\n",
       "3      42   2002\n",
       "4      43   2003\n",
       "5      44   2004\n",
       "6      45   2005\n",
       "7      46   2006\n",
       "8      47   2007\n",
       "9      48   2008\n",
       "10     49   2009\n",
       "11     50   2010\n",
       "12     51   2011\n",
       "13     52   2012\n",
       "14     53   2013\n",
       "15     54   2014\n",
       "16     55   2015\n",
       "17     56   2016\n",
       "18     57   2017\n",
       "19     58   2018"
      ]
     },
     "execution_count": 306,
     "metadata": {},
     "output_type": "execute_result"
    }
   ],
   "source": [
    "filtered = f_m_totals[f_m_totals['Females'] > f_m_totals['Males']]\n",
    "filtered['key_0'].reset_index()\n",
    "\n",
    "# Females incremented more than Males for 20 years from 1999 to 2018"
   ]
  },
  {
   "cell_type": "markdown",
   "metadata": {},
   "source": [
    "# What is the trend of the past 10 years in male and female population?"
   ]
  },
  {
   "cell_type": "code",
   "execution_count": 456,
   "metadata": {},
   "outputs": [
    {
     "data": {
      "text/plain": [
       "'\\nfor rect, label in zip(ax[1].patches, f_m_totals[\\'Females\\'].tail(10)):\\n    height = rect.get_height()\\n    ax[1].text(\\n        rect.get_x() + rect.get_width() / 2, height + 5, label, ha=\"center\", va=\"bottom\"\\n    )\\n'"
      ]
     },
     "execution_count": 456,
     "metadata": {},
     "output_type": "execute_result"
    },
    {
     "data": {
      "image/png": "[encoded data removed]",
      "text/plain": [
       "<Figure size 1000x1000 with 2 Axes>"
      ]
     },
     "metadata": {},
     "output_type": "display_data"
    }
   ],
   "source": [
    "males = f_m_totals['Males'].tail(10)\n",
    "males.index = f_m_totals['key_0'].tail(10)\n",
    "\n",
    "females = f_m_totals['Females'].tail(10)\n",
    "females.index = males.index\n",
    "\n",
    "\n",
    "fig, ax = plt.subplots(2, figsize=(10,10))\n",
    "\n",
    "ax[0].set_ylim(males.min() - 10000, males.max() + 10000)\n",
    "males.plot.bar(ax=ax[0])\n",
    "\n",
    "for rect, label in zip(ax[0].patches, males):\n",
    "    height = rect.get_height()\n",
    "    ax[0].text(\n",
    "        rect.get_x() + rect.get_width() / 2, height + 5, label, ha=\"center\", va=\"bottom\"\n",
    "    )\n",
    "\n",
    "ax[1].set_ylim(females.min() - 10000, females.max() + 10000)\n",
    "#ax[1].bar_label(ax[1].containers[0], label_type= 'edge', lables=females)\n",
    "females.plot.bar(ax=ax[1])\n",
    "\n",
    "\"\"\"\n",
    "for rect, label in zip(ax[1].patches, f_m_totals['Females'].tail(10)):\n",
    "    height = rect.get_height()\n",
    "    ax[1].text(\n",
    "        rect.get_x() + rect.get_width() / 2, height + 5, label, ha=\"center\", va=\"bottom\"\n",
    "    )\n",
    "\"\"\""
   ]
  }
 ],
 "metadata": {
  "kernelspec": {
   "display_name": "Python 3",
   "language": "python",
   "name": "python3"
  },
  "language_info": {
   "codemirror_mode": {
    "name": "ipython",
    "version": 3
   },
   "file_extension": ".py",
   "mimetype": "text/x-python",
   "name": "python",
   "nbconvert_exporter": "python",
   "pygments_lexer": "ipython3",
   "version": "3.9.13"
  }
 },
 "nbformat": 4,
 "nbformat_minor": 2
}
